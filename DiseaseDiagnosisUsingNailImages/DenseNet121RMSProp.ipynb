{
 "cells": [
  {
   "cell_type": "code",
   "execution_count": 17,
   "metadata": {},
   "outputs": [],
   "source": [
    "from tensorflow.keras.applications import DenseNet121\n",
    "from tensorflow.keras.layers import Dense, GlobalAveragePooling2D\n",
    "from tensorflow.keras.models import Model"
   ]
  },
  {
   "cell_type": "code",
   "execution_count": 18,
   "metadata": {},
   "outputs": [],
   "source": [
    "from tensorflow.keras.preprocessing import image\n",
    "from tensorflow.keras.preprocessing.image import ImageDataGenerator, load_img"
   ]
  },
  {
   "cell_type": "code",
   "execution_count": 19,
   "metadata": {},
   "outputs": [],
   "source": [
    "#Build the CNN Model \n",
    "from tensorflow.keras.layers import Convolution2D,MaxPooling2D,Flatten,Reshape\n",
    "from tensorflow.keras.models import Sequential\n",
    "from tensorflow.keras.layers import BatchNormalization, Dropout"
   ]
  },
  {
   "cell_type": "code",
   "execution_count": 20,
   "metadata": {},
   "outputs": [],
   "source": [
    "train_gen = ImageDataGenerator(rescale=(1./255),horizontal_flip=True,shear_range=0.2) \n",
    "test_gen = ImageDataGenerator(rescale=(1./255))"
   ]
  },
  {
   "cell_type": "code",
   "execution_count": 21,
   "metadata": {},
   "outputs": [
    {
     "name": "stdout",
     "output_type": "stream",
     "text": [
      "Found 655 images belonging to 17 classes.\n",
      "Found 183 images belonging to 17 classes.\n"
     ]
    }
   ],
   "source": [
    "#passing a value using another variables\n",
    "train = train_gen.flow_from_directory('Dataset(original)/Train',\n",
    "                                      target_size=(224,224),\n",
    "                                      class_mode='categorical',\n",
    "                                      batch_size=8)\n",
    "\n",
    "test = test_gen.flow_from_directory('Dataset(original)/test',\n",
    "                                    target_size=(224,224),\n",
    "                                    class_mode='categorical',\n",
    "                                    batch_size=8)"
   ]
  },
  {
   "cell_type": "code",
   "execution_count": 23,
   "metadata": {},
   "outputs": [],
   "source": [
    "# Load the pre-trained DenseNet121 model without the top/fully-connected layers\n",
    "densenet = DenseNet121(weights='imagenet', include_top=False, input_shape=(224, 224, 3))"
   ]
  },
  {
   "cell_type": "code",
   "execution_count": 34,
   "metadata": {},
   "outputs": [],
   "source": [
    "'''# Set DenseNet121 layers as non-trainable\n",
    "for layer in densenet.layers:\n",
    "    layer.trainable = False\n",
    "\n",
    "x = densenet.output\n",
    "x = GlobalAveragePooling2D()(x)\n",
    "\n",
    "# Build the combined model\n",
    "cm_DN_CNN = Dense(40, activation='relu')(x)\n",
    "cm_DN_CNN = Dense(80, activation='relu')(x)\n",
    "cm_DN_CNN = Dense(160, activation='relu')(x)\n",
    "cm_DN_CNN = Dense(80, activation='relu')(x)\n",
    "cm_DN_CNN = Dense(18, activation='softmax')(x)'''"
   ]
  },
  {
   "cell_type": "code",
   "execution_count": 24,
   "metadata": {},
   "outputs": [],
   "source": [
    "# Set DenseNet121 layers as non-trainable\n",
    "for layer in densenet.layers:\n",
    "    layer.trainable = False\n",
    "\n",
    "x = densenet.output\n",
    "\n",
    "x = Convolution2D(50, (3, 3), activation='relu', padding='same')(x)\n",
    "x = GlobalAveragePooling2D()(x)\n",
    "x = Flatten()(x)\n",
    "\n",
    "# Build the combined model\n",
    "output = Dense(80, activation='relu')(x)\n",
    "output = Dense(160, activation='relu')(output)\n",
    "output = Dense(320, activation='relu')(output)\n",
    "output = Dense(160, activation='relu')(output)\n",
    "output = Dense(17, activation='softmax')(output)"
   ]
  },
  {
   "cell_type": "code",
   "execution_count": 25,
   "metadata": {},
   "outputs": [],
   "source": [
    "model = Model(inputs=densenet.input,outputs = output)"
   ]
  },
  {
   "cell_type": "code",
   "execution_count": 26,
   "metadata": {},
   "outputs": [],
   "source": [
    "model.compile(loss='categorical_crossentropy',optimizer='rmsprop',metrics=['accuracy'])"
   ]
  },
  {
   "cell_type": "code",
   "execution_count": 27,
   "metadata": {},
   "outputs": [
    {
     "name": "stdout",
     "output_type": "stream",
     "text": [
      "Epoch 1/40\n",
      "82/82 [==============================] - 50s 546ms/step - loss: 2.8610 - accuracy: 0.0733 - val_loss: 2.8210 - val_accuracy: 0.1366\n",
      "Epoch 2/40\n",
      "82/82 [==============================] - 42s 511ms/step - loss: 2.7046 - accuracy: 0.1389 - val_loss: 2.6131 - val_accuracy: 0.1421\n",
      "Epoch 3/40\n",
      "82/82 [==============================] - 41s 498ms/step - loss: 2.5158 - accuracy: 0.2061 - val_loss: 2.2704 - val_accuracy: 0.2842\n",
      "Epoch 4/40\n",
      "82/82 [==============================] - 41s 496ms/step - loss: 2.2502 - accuracy: 0.2718 - val_loss: 2.0319 - val_accuracy: 0.3443\n",
      "Epoch 5/40\n",
      "82/82 [==============================] - 41s 494ms/step - loss: 2.0338 - accuracy: 0.3573 - val_loss: 2.1329 - val_accuracy: 0.3169\n",
      "Epoch 6/40\n",
      "82/82 [==============================] - 41s 504ms/step - loss: 1.8598 - accuracy: 0.3893 - val_loss: 1.4261 - val_accuracy: 0.5519\n",
      "Epoch 7/40\n",
      "82/82 [==============================] - 41s 502ms/step - loss: 1.6194 - accuracy: 0.4687 - val_loss: 1.3745 - val_accuracy: 0.4809\n",
      "Epoch 8/40\n",
      "82/82 [==============================] - 42s 514ms/step - loss: 1.4486 - accuracy: 0.5435 - val_loss: 1.2229 - val_accuracy: 0.5792\n",
      "Epoch 9/40\n",
      "82/82 [==============================] - 42s 512ms/step - loss: 1.3168 - accuracy: 0.5954 - val_loss: 1.2456 - val_accuracy: 0.6066\n",
      "Epoch 10/40\n",
      "82/82 [==============================] - 43s 522ms/step - loss: 1.2088 - accuracy: 0.6382 - val_loss: 1.0964 - val_accuracy: 0.6175\n",
      "Epoch 11/40\n",
      "82/82 [==============================] - 43s 527ms/step - loss: 1.1187 - accuracy: 0.6443 - val_loss: 0.7885 - val_accuracy: 0.7541\n",
      "Epoch 12/40\n",
      "82/82 [==============================] - 46s 556ms/step - loss: 0.9532 - accuracy: 0.6916 - val_loss: 0.6797 - val_accuracy: 0.7760\n",
      "Epoch 13/40\n",
      "82/82 [==============================] - 44s 532ms/step - loss: 0.9206 - accuracy: 0.6977 - val_loss: 0.7366 - val_accuracy: 0.7596\n",
      "Epoch 14/40\n",
      "82/82 [==============================] - 44s 532ms/step - loss: 0.8494 - accuracy: 0.7298 - val_loss: 0.4865 - val_accuracy: 0.8361\n",
      "Epoch 15/40\n",
      "82/82 [==============================] - 45s 547ms/step - loss: 0.8075 - accuracy: 0.7695 - val_loss: 0.4837 - val_accuracy: 0.8470\n",
      "Epoch 16/40\n",
      "82/82 [==============================] - 44s 531ms/step - loss: 0.6955 - accuracy: 0.7924 - val_loss: 0.4080 - val_accuracy: 0.8798\n",
      "Epoch 17/40\n",
      "82/82 [==============================] - 44s 540ms/step - loss: 0.6088 - accuracy: 0.8137 - val_loss: 0.4730 - val_accuracy: 0.8415\n",
      "Epoch 18/40\n",
      "82/82 [==============================] - 42s 515ms/step - loss: 0.5957 - accuracy: 0.8290 - val_loss: 0.4497 - val_accuracy: 0.8361\n",
      "Epoch 19/40\n",
      "82/82 [==============================] - 43s 528ms/step - loss: 0.5293 - accuracy: 0.8443 - val_loss: 0.3194 - val_accuracy: 0.9016\n",
      "Epoch 20/40\n",
      "82/82 [==============================] - 41s 505ms/step - loss: 0.4595 - accuracy: 0.8656 - val_loss: 0.3095 - val_accuracy: 0.9016\n",
      "Epoch 21/40\n",
      "82/82 [==============================] - 40s 491ms/step - loss: 0.5297 - accuracy: 0.8519 - val_loss: 0.5275 - val_accuracy: 0.8251\n",
      "Epoch 22/40\n",
      "82/82 [==============================] - 42s 508ms/step - loss: 0.4591 - accuracy: 0.8687 - val_loss: 0.4033 - val_accuracy: 0.9016\n",
      "Epoch 23/40\n",
      "82/82 [==============================] - 44s 534ms/step - loss: 0.4837 - accuracy: 0.8565 - val_loss: 0.2406 - val_accuracy: 0.9180\n",
      "Epoch 24/40\n",
      "82/82 [==============================] - 43s 520ms/step - loss: 0.3487 - accuracy: 0.8916 - val_loss: 0.3544 - val_accuracy: 0.8907\n",
      "Epoch 25/40\n",
      "82/82 [==============================] - 43s 523ms/step - loss: 0.3625 - accuracy: 0.8916 - val_loss: 0.4204 - val_accuracy: 0.9071\n",
      "Epoch 26/40\n",
      "82/82 [==============================] - 42s 509ms/step - loss: 0.4692 - accuracy: 0.8794 - val_loss: 0.0822 - val_accuracy: 0.9836\n",
      "Epoch 27/40\n",
      "82/82 [==============================] - 41s 506ms/step - loss: 0.3573 - accuracy: 0.9160 - val_loss: 0.1861 - val_accuracy: 0.9344\n",
      "Epoch 28/40\n",
      "82/82 [==============================] - 44s 543ms/step - loss: 0.3319 - accuracy: 0.9160 - val_loss: 0.7244 - val_accuracy: 0.8251\n",
      "Epoch 29/40\n",
      "82/82 [==============================] - 43s 526ms/step - loss: 0.3309 - accuracy: 0.9069 - val_loss: 0.4275 - val_accuracy: 0.8579\n",
      "Epoch 30/40\n",
      "82/82 [==============================] - 44s 533ms/step - loss: 0.3230 - accuracy: 0.9099 - val_loss: 1.1344 - val_accuracy: 0.7541\n",
      "Epoch 31/40\n",
      "82/82 [==============================] - 45s 555ms/step - loss: 0.2605 - accuracy: 0.9160 - val_loss: 0.6840 - val_accuracy: 0.8525\n",
      "Epoch 32/40\n",
      "82/82 [==============================] - 45s 549ms/step - loss: 0.3666 - accuracy: 0.9099 - val_loss: 0.1659 - val_accuracy: 0.9508\n",
      "Epoch 33/40\n",
      "82/82 [==============================] - 44s 536ms/step - loss: 0.2872 - accuracy: 0.9145 - val_loss: 0.2044 - val_accuracy: 0.9235\n",
      "Epoch 34/40\n",
      "82/82 [==============================] - 41s 501ms/step - loss: 0.1952 - accuracy: 0.9481 - val_loss: 0.1856 - val_accuracy: 0.9344\n",
      "Epoch 35/40\n",
      "82/82 [==============================] - 41s 501ms/step - loss: 0.2774 - accuracy: 0.9221 - val_loss: 0.1043 - val_accuracy: 0.9672\n",
      "Epoch 36/40\n",
      "82/82 [==============================] - 42s 509ms/step - loss: 0.2644 - accuracy: 0.9206 - val_loss: 0.1673 - val_accuracy: 0.9454\n",
      "Epoch 37/40\n",
      "82/82 [==============================] - 41s 496ms/step - loss: 0.1980 - accuracy: 0.9435 - val_loss: 0.1093 - val_accuracy: 0.9727\n",
      "Epoch 38/40\n",
      "82/82 [==============================] - 40s 492ms/step - loss: 0.2308 - accuracy: 0.9450 - val_loss: 0.0930 - val_accuracy: 0.9672\n",
      "Epoch 39/40\n",
      "82/82 [==============================] - 41s 498ms/step - loss: 0.2137 - accuracy: 0.9542 - val_loss: 0.0524 - val_accuracy: 0.9891\n",
      "Epoch 40/40\n",
      "82/82 [==============================] - 40s 494ms/step - loss: 0.2738 - accuracy: 0.9420 - val_loss: 0.3216 - val_accuracy: 0.9290\n"
     ]
    }
   ],
   "source": [
    "history = model.fit(train,validation_data=test,epochs=40,\n",
    "                    steps_per_epoch=len(train),\n",
    "                    validation_steps = len(test))"
   ]
  },
  {
   "cell_type": "code",
   "execution_count": 28,
   "metadata": {},
   "outputs": [],
   "source": [
    "# Save the trained model\n",
    "model.save('DenseNet121.h5')"
   ]
  },
  {
   "cell_type": "code",
   "execution_count": 29,
   "metadata": {},
   "outputs": [
    {
     "data": {
      "text/plain": [
       "{'Darier_s disease': 0,\n",
       " 'Muehrck-e_s lines': 1,\n",
       " 'aloperia areata': 2,\n",
       " 'beau_s lines': 3,\n",
       " 'bluish nail': 4,\n",
       " 'clubbing': 5,\n",
       " 'eczema': 6,\n",
       " 'half and half nailes (Lindsay_s nails)': 7,\n",
       " 'koilonychia': 8,\n",
       " 'leukonychia': 9,\n",
       " 'onycholycis': 10,\n",
       " 'pale nail': 11,\n",
       " 'red lunula': 12,\n",
       " 'splinter hemmorrage': 13,\n",
       " 'terry_s nail': 14,\n",
       " 'white nail': 15,\n",
       " 'yellow nails': 16}"
      ]
     },
     "execution_count": 29,
     "metadata": {},
     "output_type": "execute_result"
    }
   ],
   "source": [
    "train.class_indices"
   ]
  },
  {
   "cell_type": "code",
   "execution_count": 14,
   "metadata": {},
   "outputs": [],
   "source": [
    "#Testing\n",
    "import numpy as np\n",
    "from tensorflow.keras.preprocessing import image"
   ]
  },
  {
   "cell_type": "code",
   "execution_count": 15,
   "metadata": {},
   "outputs": [],
   "source": [
    "img=image.load_img('Dataset(original)/train/bluish nail/1.PNG',target_size=(224,224))"
   ]
  },
  {
   "cell_type": "code",
   "execution_count": 16,
   "metadata": {},
   "outputs": [
    {
     "name": "stdout",
     "output_type": "stream",
     "text": [
      "1/1 [==============================] - 1s 1s/step\n",
      "1/1 [==============================] - 0s 75ms/step\n",
      "terry_s nail_WhiteNails\n"
     ]
    }
   ],
   "source": [
    "img = image.img_to_array(img)\n",
    "img = np.expand_dims(img,axis=0)\n",
    "model.predict(img)\n",
    "pred = np.argmax(model.predict(img))\n",
    "output = ['Darier_s disease','Muehrck-e_s lines','Onychogryphosis','Onycholycis_NailPsoriasis',\n",
    "          'aloperia areata','beau_s lines','bluish nail', 'clubbing','eczema','half and half nailes (Lindsay_s nails)',\n",
    "          'koilonychia','leukonychia','pale nail','red lunula',\n",
    "          'splinter hemmorrage_Acral Lentiginous Melanoma',\n",
    "          'terry_s nail_WhiteNails','yellow nails']\n",
    "print(output[pred])"
   ]
  },
  {
   "cell_type": "code",
   "execution_count": 30,
   "metadata": {},
   "outputs": [],
   "source": [
    "import matplotlib.pyplot as plt"
   ]
  },
  {
   "cell_type": "code",
   "execution_count": 31,
   "metadata": {},
   "outputs": [
    {
     "data": {
      "image/png": "[encoded data removed]",
      "text/plain": [
       "<Figure size 640x480 with 1 Axes>"
      ]
     },
     "metadata": {},
     "output_type": "display_data"
    }
   ],
   "source": [
    "# let's see the training and validation accuracy by epoch\n",
    "history_dict = history.history\n",
    "loss_values = history_dict['loss'] # you can change this\n",
    "val_loss_values = history_dict['val_loss'] # you can also change this\n",
    "epochs = range(1, len(loss_values) + 1) # range of X (no. of epochs)\n",
    "plt.plot(epochs, loss_values, 'bo', label='Training loss')\n",
    "plt.plot(epochs, val_loss_values, 'orange', label='Validation loss')\n",
    "plt.title('Training and validation loss')\n",
    "plt.xlabel('Epochs')\n",
    "plt.ylabel('Loss')\n",
    "plt.legend()\n",
    "plt.show()"
   ]
  }
 ],
 "metadata": {
  "kernelspec": {
   "display_name": "Python 3",
   "language": "python",
   "name": "python3"
  },
  "language_info": {
   "codemirror_mode": {
    "name": "ipython",
    "version": 3
   },
   "file_extension": ".py",
   "mimetype": "text/x-python",
   "name": "python",
   "nbconvert_exporter": "python",
   "pygments_lexer": "ipython3",
   "version": "3.11.4"
  },
  "orig_nbformat": 4
 },
 "nbformat": 4,
 "nbformat_minor": 2
}
