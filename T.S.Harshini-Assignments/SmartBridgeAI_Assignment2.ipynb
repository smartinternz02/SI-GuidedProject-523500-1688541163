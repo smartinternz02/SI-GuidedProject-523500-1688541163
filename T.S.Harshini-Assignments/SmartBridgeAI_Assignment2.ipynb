{
  "nbformat": 4,
  "nbformat_minor": 0,
  "metadata": {
    "colab": {
      "provenance": []
    },
    "kernelspec": {
      "name": "python3",
      "display_name": "Python 3"
    },
    "language_info": {
      "name": "python"
    }
  },
  "cells": [
    {
      "cell_type": "markdown",
      "source": [
        "SmartBridge AI - Assignment 2\n",
        "*   TS HARSHINI\n",
        "*   20BAI1304\n",
        "*   Vellore Institute of Technology, Chennai\n",
        "*   9003064097, harshini.ts2020@vitstudent.ac.in "
      ],
      "metadata": {
        "id": "_hyTwd_m5mg1"
      }
    },
    {
      "cell_type": "markdown",
      "source": [
        "Build an ANN model for Drug classification. \n",
        "This project aims to analyze the relationship between various medical parameters and drug effectiveness. The dataset consists of patient information, \n",
        "including age, sex, blood pressure levels (BP), cholesterol levels, sodium-to-potassium ratio (Na_to_K), drug type, and corresponding labels. The goal is to \n",
        "develop a model that can accurately predict the class or category of a given drug based on its features. \n",
        "\n",
        "Dataset Link: https://www.kaggle.com/datasets/prathamtripathi/drug-classification\n",
        "\n",
        "Task 1: Read the dataset and do data pre-processing\n",
        "\n",
        "Task 2: Build the ANN model with (input layer, min 3 hidden layers & output layer)\n",
        "\n",
        "Task 3: Test the model with random data\n",
        "\n",
        "\n",
        "\n",
        "\n"
      ],
      "metadata": {
        "id": "SA5cmgEX6ZXJ"
      }
    },
    {
      "cell_type": "code",
      "execution_count": 1,
      "metadata": {
        "id": "XJBTFX1r5dy1"
      },
      "outputs": [],
      "source": [
        "#importing libraries \n",
        "import numpy as np\n",
        "import pandas as pd\n",
        "import matplotlib.pyplot as plt\n",
        "import seaborn as sns"
      ]
    },
    {
      "cell_type": "code",
      "source": [
        "pip install tensorflow"
      ],
      "metadata": {
        "colab": {
          "base_uri": "https://localhost:8080/"
        },
        "id": "WXWqzdM47Ijl",
        "outputId": "db68acdd-9b89-4e06-c1df-b90c62be8817"
      },
      "execution_count": null,
      "outputs": [
        {
          "output_type": "stream",
          "name": "stdout",
          "text": [
            "Looking in indexes: https://pypi.org/simple, https://us-python.pkg.dev/colab-wheels/public/simple/\n",
            "Requirement already satisfied: tensorflow in /usr/local/lib/python3.10/dist-packages (2.12.0)\n",
            "Requirement already satisfied: absl-py>=1.0.0 in /usr/local/lib/python3.10/dist-packages (from tensorflow) (1.4.0)\n",
            "Requirement already satisfied: astunparse>=1.6.0 in /usr/local/lib/python3.10/dist-packages (from tensorflow) (1.6.3)\n",
            "Requirement already satisfied: flatbuffers>=2.0 in /usr/local/lib/python3.10/dist-packages (from tensorflow) (23.3.3)\n",
            "Requirement already satisfied: gast<=0.4.0,>=0.2.1 in /usr/local/lib/python3.10/dist-packages (from tensorflow) (0.4.0)\n",
            "Requirement already satisfied: google-pasta>=0.1.1 in /usr/local/lib/python3.10/dist-packages (from tensorflow) (0.2.0)\n",
            "Requirement already satisfied: grpcio<2.0,>=1.24.3 in /usr/local/lib/python3.10/dist-packages (from tensorflow) (1.54.0)\n",
            "Requirement already satisfied: h5py>=2.9.0 in /usr/local/lib/python3.10/dist-packages (from tensorflow) (3.8.0)\n",
            "Requirement already satisfied: jax>=0.3.15 in /usr/local/lib/python3.10/dist-packages (from tensorflow) (0.4.10)\n",
            "Requirement already satisfied: keras<2.13,>=2.12.0 in /usr/local/lib/python3.10/dist-packages (from tensorflow) (2.12.0)\n",
            "Requirement already satisfied: libclang>=13.0.0 in /usr/local/lib/python3.10/dist-packages (from tensorflow) (16.0.0)\n",
            "Requirement already satisfied: numpy<1.24,>=1.22 in /usr/local/lib/python3.10/dist-packages (from tensorflow) (1.22.4)\n",
            "Requirement already satisfied: opt-einsum>=2.3.2 in /usr/local/lib/python3.10/dist-packages (from tensorflow) (3.3.0)\n",
            "Requirement already satisfied: packaging in /usr/local/lib/python3.10/dist-packages (from tensorflow) (23.1)\n",
            "Requirement already satisfied: protobuf!=4.21.0,!=4.21.1,!=4.21.2,!=4.21.3,!=4.21.4,!=4.21.5,<5.0.0dev,>=3.20.3 in /usr/local/lib/python3.10/dist-packages (from tensorflow) (3.20.3)\n",
            "Requirement already satisfied: setuptools in /usr/local/lib/python3.10/dist-packages (from tensorflow) (67.7.2)\n",
            "Requirement already satisfied: six>=1.12.0 in /usr/local/lib/python3.10/dist-packages (from tensorflow) (1.16.0)\n",
            "Requirement already satisfied: tensorboard<2.13,>=2.12 in /usr/local/lib/python3.10/dist-packages (from tensorflow) (2.12.2)\n",
            "Requirement already satisfied: tensorflow-estimator<2.13,>=2.12.0 in /usr/local/lib/python3.10/dist-packages (from tensorflow) (2.12.0)\n",
            "Requirement already satisfied: termcolor>=1.1.0 in /usr/local/lib/python3.10/dist-packages (from tensorflow) (2.3.0)\n",
            "Requirement already satisfied: typing-extensions>=3.6.6 in /usr/local/lib/python3.10/dist-packages (from tensorflow) (4.5.0)\n",
            "Requirement already satisfied: wrapt<1.15,>=1.11.0 in /usr/local/lib/python3.10/dist-packages (from tensorflow) (1.14.1)\n",
            "Requirement already satisfied: tensorflow-io-gcs-filesystem>=0.23.1 in /usr/local/lib/python3.10/dist-packages (from tensorflow) (0.32.0)\n",
            "Requirement already satisfied: wheel<1.0,>=0.23.0 in /usr/local/lib/python3.10/dist-packages (from astunparse>=1.6.0->tensorflow) (0.40.0)\n",
            "Requirement already satisfied: ml-dtypes>=0.1.0 in /usr/local/lib/python3.10/dist-packages (from jax>=0.3.15->tensorflow) (0.1.0)\n",
            "Requirement already satisfied: scipy>=1.7 in /usr/local/lib/python3.10/dist-packages (from jax>=0.3.15->tensorflow) (1.10.1)\n",
            "Requirement already satisfied: google-auth<3,>=1.6.3 in /usr/local/lib/python3.10/dist-packages (from tensorboard<2.13,>=2.12->tensorflow) (2.17.3)\n",
            "Requirement already satisfied: google-auth-oauthlib<1.1,>=0.5 in /usr/local/lib/python3.10/dist-packages (from tensorboard<2.13,>=2.12->tensorflow) (1.0.0)\n",
            "Requirement already satisfied: markdown>=2.6.8 in /usr/local/lib/python3.10/dist-packages (from tensorboard<2.13,>=2.12->tensorflow) (3.4.3)\n",
            "Requirement already satisfied: requests<3,>=2.21.0 in /usr/local/lib/python3.10/dist-packages (from tensorboard<2.13,>=2.12->tensorflow) (2.27.1)\n",
            "Requirement already satisfied: tensorboard-data-server<0.8.0,>=0.7.0 in /usr/local/lib/python3.10/dist-packages (from tensorboard<2.13,>=2.12->tensorflow) (0.7.0)\n",
            "Requirement already satisfied: tensorboard-plugin-wit>=1.6.0 in /usr/local/lib/python3.10/dist-packages (from tensorboard<2.13,>=2.12->tensorflow) (1.8.1)\n",
            "Requirement already satisfied: werkzeug>=1.0.1 in /usr/local/lib/python3.10/dist-packages (from tensorboard<2.13,>=2.12->tensorflow) (2.3.0)\n",
            "Requirement already satisfied: cachetools<6.0,>=2.0.0 in /usr/local/lib/python3.10/dist-packages (from google-auth<3,>=1.6.3->tensorboard<2.13,>=2.12->tensorflow) (5.3.0)\n",
            "Requirement already satisfied: pyasn1-modules>=0.2.1 in /usr/local/lib/python3.10/dist-packages (from google-auth<3,>=1.6.3->tensorboard<2.13,>=2.12->tensorflow) (0.3.0)\n",
            "Requirement already satisfied: rsa<5,>=3.1.4 in /usr/local/lib/python3.10/dist-packages (from google-auth<3,>=1.6.3->tensorboard<2.13,>=2.12->tensorflow) (4.9)\n",
            "Requirement already satisfied: requests-oauthlib>=0.7.0 in /usr/local/lib/python3.10/dist-packages (from google-auth-oauthlib<1.1,>=0.5->tensorboard<2.13,>=2.12->tensorflow) (1.3.1)\n",
            "Requirement already satisfied: urllib3<1.27,>=1.21.1 in /usr/local/lib/python3.10/dist-packages (from requests<3,>=2.21.0->tensorboard<2.13,>=2.12->tensorflow) (1.26.15)\n",
            "Requirement already satisfied: certifi>=2017.4.17 in /usr/local/lib/python3.10/dist-packages (from requests<3,>=2.21.0->tensorboard<2.13,>=2.12->tensorflow) (2022.12.7)\n",
            "Requirement already satisfied: charset-normalizer~=2.0.0 in /usr/local/lib/python3.10/dist-packages (from requests<3,>=2.21.0->tensorboard<2.13,>=2.12->tensorflow) (2.0.12)\n",
            "Requirement already satisfied: idna<4,>=2.5 in /usr/local/lib/python3.10/dist-packages (from requests<3,>=2.21.0->tensorboard<2.13,>=2.12->tensorflow) (3.4)\n",
            "Requirement already satisfied: MarkupSafe>=2.1.1 in /usr/local/lib/python3.10/dist-packages (from werkzeug>=1.0.1->tensorboard<2.13,>=2.12->tensorflow) (2.1.2)\n",
            "Requirement already satisfied: pyasn1<0.6.0,>=0.4.6 in /usr/local/lib/python3.10/dist-packages (from pyasn1-modules>=0.2.1->google-auth<3,>=1.6.3->tensorboard<2.13,>=2.12->tensorflow) (0.5.0)\n",
            "Requirement already satisfied: oauthlib>=3.0.0 in /usr/local/lib/python3.10/dist-packages (from requests-oauthlib>=0.7.0->google-auth-oauthlib<1.1,>=0.5->tensorboard<2.13,>=2.12->tensorflow) (3.2.2)\n"
          ]
        }
      ]
    },
    {
      "cell_type": "code",
      "source": [
        "#importing Tensorflow libraries \n",
        "from tensorflow.keras.models import Sequential\n",
        "from tensorflow.keras.layers import Dense"
      ],
      "metadata": {
        "id": "eB9QfaTx7hFV"
      },
      "execution_count": 2,
      "outputs": []
    },
    {
      "cell_type": "code",
      "source": [
        "#Task 1: Read the dataset and do data pre-processing\n",
        "#Reading Data\n",
        "df = pd.read_csv('/content/drug200.csv')\n",
        "df"
      ],
      "metadata": {
        "colab": {
          "base_uri": "https://localhost:8080/",
          "height": 423
        },
        "id": "Tn_GNiKW7pvT",
        "outputId": "6f4cd3f0-5526-4310-9718-d4fc871846b3"
      },
      "execution_count": 99,
      "outputs": [
        {
          "output_type": "execute_result",
          "data": {
            "text/plain": [
              "     Age Sex      BP Cholesterol  Na_to_K   Drug\n",
              "0     23   F    HIGH        HIGH   25.355  DrugY\n",
              "1     47   M     LOW        HIGH   13.093  drugC\n",
              "2     47   M     LOW        HIGH   10.114  drugC\n",
              "3     28   F  NORMAL        HIGH    7.798  drugX\n",
              "4     61   F     LOW        HIGH   18.043  DrugY\n",
              "..   ...  ..     ...         ...      ...    ...\n",
              "195   56   F     LOW        HIGH   11.567  drugC\n",
              "196   16   M     LOW        HIGH   12.006  drugC\n",
              "197   52   M  NORMAL        HIGH    9.894  drugX\n",
              "198   23   M  NORMAL      NORMAL   14.020  drugX\n",
              "199   40   F     LOW      NORMAL   11.349  drugX\n",
              "\n",
              "[200 rows x 6 columns]"
            ],
            "text/html": [
              "\n",
              "  <div id=\"df-59ed2311-bfe8-444c-a10c-02ad5ff44b47\">\n",
              "    <div class=\"colab-df-container\">\n",
              "      <div>\n",
              "<style scoped>\n",
              "    .dataframe tbody tr th:only-of-type {\n",
              "        vertical-align: middle;\n",
              "    }\n",
              "\n",
              "    .dataframe tbody tr th {\n",
              "        vertical-align: top;\n",
              "    }\n",
              "\n",
              "    .dataframe thead th {\n",
              "        text-align: right;\n",
              "    }\n",
              "</style>\n",
              "<table border=\"1\" class=\"dataframe\">\n",
              "  <thead>\n",
              "    <tr style=\"text-align: right;\">\n",
              "      <th></th>\n",
              "      <th>Age</th>\n",
              "      <th>Sex</th>\n",
              "      <th>BP</th>\n",
              "      <th>Cholesterol</th>\n",
              "      <th>Na_to_K</th>\n",
              "      <th>Drug</th>\n",
              "    </tr>\n",
              "  </thead>\n",
              "  <tbody>\n",
              "    <tr>\n",
              "      <th>0</th>\n",
              "      <td>23</td>\n",
              "      <td>F</td>\n",
              "      <td>HIGH</td>\n",
              "      <td>HIGH</td>\n",
              "      <td>25.355</td>\n",
              "      <td>DrugY</td>\n",
              "    </tr>\n",
              "    <tr>\n",
              "      <th>1</th>\n",
              "      <td>47</td>\n",
              "      <td>M</td>\n",
              "      <td>LOW</td>\n",
              "      <td>HIGH</td>\n",
              "      <td>13.093</td>\n",
              "      <td>drugC</td>\n",
              "    </tr>\n",
              "    <tr>\n",
              "      <th>2</th>\n",
              "      <td>47</td>\n",
              "      <td>M</td>\n",
              "      <td>LOW</td>\n",
              "      <td>HIGH</td>\n",
              "      <td>10.114</td>\n",
              "      <td>drugC</td>\n",
              "    </tr>\n",
              "    <tr>\n",
              "      <th>3</th>\n",
              "      <td>28</td>\n",
              "      <td>F</td>\n",
              "      <td>NORMAL</td>\n",
              "      <td>HIGH</td>\n",
              "      <td>7.798</td>\n",
              "      <td>drugX</td>\n",
              "    </tr>\n",
              "    <tr>\n",
              "      <th>4</th>\n",
              "      <td>61</td>\n",
              "      <td>F</td>\n",
              "      <td>LOW</td>\n",
              "      <td>HIGH</td>\n",
              "      <td>18.043</td>\n",
              "      <td>DrugY</td>\n",
              "    </tr>\n",
              "    <tr>\n",
              "      <th>...</th>\n",
              "      <td>...</td>\n",
              "      <td>...</td>\n",
              "      <td>...</td>\n",
              "      <td>...</td>\n",
              "      <td>...</td>\n",
              "      <td>...</td>\n",
              "    </tr>\n",
              "    <tr>\n",
              "      <th>195</th>\n",
              "      <td>56</td>\n",
              "      <td>F</td>\n",
              "      <td>LOW</td>\n",
              "      <td>HIGH</td>\n",
              "      <td>11.567</td>\n",
              "      <td>drugC</td>\n",
              "    </tr>\n",
              "    <tr>\n",
              "      <th>196</th>\n",
              "      <td>16</td>\n",
              "      <td>M</td>\n",
              "      <td>LOW</td>\n",
              "      <td>HIGH</td>\n",
              "      <td>12.006</td>\n",
              "      <td>drugC</td>\n",
              "    </tr>\n",
              "    <tr>\n",
              "      <th>197</th>\n",
              "      <td>52</td>\n",
              "      <td>M</td>\n",
              "      <td>NORMAL</td>\n",
              "      <td>HIGH</td>\n",
              "      <td>9.894</td>\n",
              "      <td>drugX</td>\n",
              "    </tr>\n",
              "    <tr>\n",
              "      <th>198</th>\n",
              "      <td>23</td>\n",
              "      <td>M</td>\n",
              "      <td>NORMAL</td>\n",
              "      <td>NORMAL</td>\n",
              "      <td>14.020</td>\n",
              "      <td>drugX</td>\n",
              "    </tr>\n",
              "    <tr>\n",
              "      <th>199</th>\n",
              "      <td>40</td>\n",
              "      <td>F</td>\n",
              "      <td>LOW</td>\n",
              "      <td>NORMAL</td>\n",
              "      <td>11.349</td>\n",
              "      <td>drugX</td>\n",
              "    </tr>\n",
              "  </tbody>\n",
              "</table>\n",
              "<p>200 rows × 6 columns</p>\n",
              "</div>\n",
              "      <button class=\"colab-df-convert\" onclick=\"convertToInteractive('df-59ed2311-bfe8-444c-a10c-02ad5ff44b47')\"\n",
              "              title=\"Convert this dataframe to an interactive table.\"\n",
              "              style=\"display:none;\">\n",
              "        \n",
              "  <svg xmlns=\"http://www.w3.org/2000/svg\" height=\"24px\"viewBox=\"0 0 24 24\"\n",
              "       width=\"24px\">\n",
              "    <path d=\"M0 0h24v24H0V0z\" fill=\"none\"/>\n",
              "    <path d=\"M18.56 5.44l.94 2.06.94-2.06 2.06-.94-2.06-.94-.94-2.06-.94 2.06-2.06.94zm-11 1L8.5 8.5l.94-2.06 2.06-.94-2.06-.94L8.5 2.5l-.94 2.06-2.06.94zm10 10l.94 2.06.94-2.06 2.06-.94-2.06-.94-.94-2.06-.94 2.06-2.06.94z\"/><path d=\"M17.41 7.96l-1.37-1.37c-.4-.4-.92-.59-1.43-.59-.52 0-1.04.2-1.43.59L10.3 9.45l-7.72 7.72c-.78.78-.78 2.05 0 2.83L4 21.41c.39.39.9.59 1.41.59.51 0 1.02-.2 1.41-.59l7.78-7.78 2.81-2.81c.8-.78.8-2.07 0-2.86zM5.41 20L4 18.59l7.72-7.72 1.47 1.35L5.41 20z\"/>\n",
              "  </svg>\n",
              "      </button>\n",
              "      \n",
              "  <style>\n",
              "    .colab-df-container {\n",
              "      display:flex;\n",
              "      flex-wrap:wrap;\n",
              "      gap: 12px;\n",
              "    }\n",
              "\n",
              "    .colab-df-convert {\n",
              "      background-color: #E8F0FE;\n",
              "      border: none;\n",
              "      border-radius: 50%;\n",
              "      cursor: pointer;\n",
              "      display: none;\n",
              "      fill: #1967D2;\n",
              "      height: 32px;\n",
              "      padding: 0 0 0 0;\n",
              "      width: 32px;\n",
              "    }\n",
              "\n",
              "    .colab-df-convert:hover {\n",
              "      background-color: #E2EBFA;\n",
              "      box-shadow: 0px 1px 2px rgba(60, 64, 67, 0.3), 0px 1px 3px 1px rgba(60, 64, 67, 0.15);\n",
              "      fill: #174EA6;\n",
              "    }\n",
              "\n",
              "    [theme=dark] .colab-df-convert {\n",
              "      background-color: #3B4455;\n",
              "      fill: #D2E3FC;\n",
              "    }\n",
              "\n",
              "    [theme=dark] .colab-df-convert:hover {\n",
              "      background-color: #434B5C;\n",
              "      box-shadow: 0px 1px 3px 1px rgba(0, 0, 0, 0.15);\n",
              "      filter: drop-shadow(0px 1px 2px rgba(0, 0, 0, 0.3));\n",
              "      fill: #FFFFFF;\n",
              "    }\n",
              "  </style>\n",
              "\n",
              "      <script>\n",
              "        const buttonEl =\n",
              "          document.querySelector('#df-59ed2311-bfe8-444c-a10c-02ad5ff44b47 button.colab-df-convert');\n",
              "        buttonEl.style.display =\n",
              "          google.colab.kernel.accessAllowed ? 'block' : 'none';\n",
              "\n",
              "        async function convertToInteractive(key) {\n",
              "          const element = document.querySelector('#df-59ed2311-bfe8-444c-a10c-02ad5ff44b47');\n",
              "          const dataTable =\n",
              "            await google.colab.kernel.invokeFunction('convertToInteractive',\n",
              "                                                     [key], {});\n",
              "          if (!dataTable) return;\n",
              "\n",
              "          const docLinkHtml = 'Like what you see? Visit the ' +\n",
              "            '<a target=\"_blank\" href=https://colab.research.google.com/notebooks/data_table.ipynb>data table notebook</a>'\n",
              "            + ' to learn more about interactive tables.';\n",
              "          element.innerHTML = '';\n",
              "          dataTable['output_type'] = 'display_data';\n",
              "          await google.colab.output.renderOutput(dataTable, element);\n",
              "          const docLink = document.createElement('div');\n",
              "          docLink.innerHTML = docLinkHtml;\n",
              "          element.appendChild(docLink);\n",
              "        }\n",
              "      </script>\n",
              "    </div>\n",
              "  </div>\n",
              "  "
            ]
          },
          "metadata": {},
          "execution_count": 99
        }
      ]
    },
    {
      "cell_type": "code",
      "source": [
        "#Preprocessing the data -> \n",
        "#1. Checking null values \n",
        "df.isnull().sum()"
      ],
      "metadata": {
        "colab": {
          "base_uri": "https://localhost:8080/"
        },
        "id": "MXnAQGLB78hV",
        "outputId": "001841f1-a800-4c9a-b85e-e3e89cda23fa"
      },
      "execution_count": 16,
      "outputs": [
        {
          "output_type": "execute_result",
          "data": {
            "text/plain": [
              "Age            0\n",
              "Sex            0\n",
              "BP             0\n",
              "Cholesterol    0\n",
              "Na_to_K        0\n",
              "Drug           0\n",
              "dtype: int64"
            ]
          },
          "metadata": {},
          "execution_count": 16
        }
      ]
    },
    {
      "cell_type": "code",
      "source": [
        "#2. Checking the datatype\n",
        "df.info()"
      ],
      "metadata": {
        "colab": {
          "base_uri": "https://localhost:8080/"
        },
        "id": "_xT0H5SP8UVl",
        "outputId": "16b0eab3-875d-45c8-b4ba-45987bc58b90"
      },
      "execution_count": 5,
      "outputs": [
        {
          "output_type": "stream",
          "name": "stdout",
          "text": [
            "<class 'pandas.core.frame.DataFrame'>\n",
            "RangeIndex: 200 entries, 0 to 199\n",
            "Data columns (total 6 columns):\n",
            " #   Column       Non-Null Count  Dtype  \n",
            "---  ------       --------------  -----  \n",
            " 0   Age          200 non-null    int64  \n",
            " 1   Sex          200 non-null    object \n",
            " 2   BP           200 non-null    object \n",
            " 3   Cholesterol  200 non-null    object \n",
            " 4   Na_to_K      200 non-null    float64\n",
            " 5   Drug         200 non-null    object \n",
            "dtypes: float64(1), int64(1), object(4)\n",
            "memory usage: 9.5+ KB\n"
          ]
        }
      ]
    },
    {
      "cell_type": "code",
      "source": [
        "#3. Checking outliers\n",
        "sns.boxplot(df.Age)"
      ],
      "metadata": {
        "colab": {
          "base_uri": "https://localhost:8080/",
          "height": 447
        },
        "id": "JpgxLoYQ8sOg",
        "outputId": "0868ab41-e617-4a39-b791-f70d4cfbfd4e"
      },
      "execution_count": 6,
      "outputs": [
        {
          "output_type": "execute_result",
          "data": {
            "text/plain": [
              "<Axes: >"
            ]
          },
          "metadata": {},
          "execution_count": 6
        },
        {
          "output_type": "display_data",
          "data": {
            "text/plain": [
              "<Figure size 640x480 with 1 Axes>"
            ],
            "image/png": "[encoded data removed]"
          },
          "metadata": {}
        }
      ]
    },
    {
      "cell_type": "code",
      "source": [
        "sns.boxplot(df.Na_to_K)"
      ],
      "metadata": {
        "colab": {
          "base_uri": "https://localhost:8080/",
          "height": 447
        },
        "id": "NeZWm8Qk9ooS",
        "outputId": "409263aa-f295-4781-e705-bc93e5027f5a"
      },
      "execution_count": 7,
      "outputs": [
        {
          "output_type": "execute_result",
          "data": {
            "text/plain": [
              "<Axes: >"
            ]
          },
          "metadata": {},
          "execution_count": 7
        },
        {
          "output_type": "display_data",
          "data": {
            "text/plain": [
              "<Figure size 640x480 with 1 Axes>"
            ],
            "image/png": "[encoded data removed]"
          },
          "metadata": {}
        }
      ]
    },
    {
      "cell_type": "code",
      "source": [
        "'''Thus no outliers in Age and we have outliers in Na_to_K values, Thus replacing \n",
        "them using Median Method'''\n",
        "q1 = df.Na_to_K.quantile(.25)\n",
        "q3 = df.Na_to_K.quantile(.75)\n",
        "print(q1)\n",
        "print(q3)\n",
        "IQR = q3-q1\n",
        "print(IQR)\n",
        "ul = q3+1.5*IQR\n",
        "ll = q1-1.5*IQR\n",
        "print(df['Na_to_K'].median())\n",
        "\n",
        "#Replacing Outliers\n",
        "df['Na_to_K'] = np.where(df['Na_to_K']>ul,14,df['Na_to_K'])\n"
      ],
      "metadata": {
        "colab": {
          "base_uri": "https://localhost:8080/"
        },
        "id": "-XpIGCNk99pX",
        "outputId": "c10c349e-7c29-4c1a-e23e-6e0179e6bc3e"
      },
      "execution_count": 19,
      "outputs": [
        {
          "output_type": "stream",
          "name": "stdout",
          "text": [
            "10.4455\n",
            "18.8545\n",
            "8.409000000000002\n",
            "13.9365\n"
          ]
        }
      ]
    },
    {
      "cell_type": "code",
      "source": [
        "sns.boxplot(df.Na_to_K)"
      ],
      "metadata": {
        "colab": {
          "base_uri": "https://localhost:8080/",
          "height": 447
        },
        "id": "KLnmBjBRAO17",
        "outputId": "e7a89ee6-bcf3-442f-d9ea-c8a3d71e1c1e"
      },
      "execution_count": 20,
      "outputs": [
        {
          "output_type": "execute_result",
          "data": {
            "text/plain": [
              "<Axes: >"
            ]
          },
          "metadata": {},
          "execution_count": 20
        },
        {
          "output_type": "display_data",
          "data": {
            "text/plain": [
              "<Figure size 640x480 with 1 Axes>"
            ],
            "image/png": "[encoded data removed]"
          },
          "metadata": {}
        }
      ]
    },
    {
      "cell_type": "code",
      "source": [
        "'''From step 2 we know that the type of Sex, BP, Cholesterol and Drug are object\n",
        "hence needs to be encoded'''\n",
        "#4. Getting unique values and their counts\n",
        "print(df['Sex'].unique())\n",
        "print(df['Sex'].value_counts())\n",
        "\n",
        "print(df['BP'].unique())\n",
        "print(df['BP'].value_counts())\n",
        "\n",
        "print(df['Cholesterol'].unique())\n",
        "print(df['Cholesterol'].value_counts())\n",
        "\n",
        "print(df['Drug'].unique())\n",
        "print(df['Drug'].value_counts())"
      ],
      "metadata": {
        "colab": {
          "base_uri": "https://localhost:8080/"
        },
        "id": "5SOYjd6ZFQV9",
        "outputId": "7f3f7571-ae8c-4608-b5fa-94714b800ebb"
      },
      "execution_count": 21,
      "outputs": [
        {
          "output_type": "stream",
          "name": "stdout",
          "text": [
            "['F' 'M']\n",
            "M    104\n",
            "F     96\n",
            "Name: Sex, dtype: int64\n",
            "['HIGH' 'LOW' 'NORMAL']\n",
            "HIGH      77\n",
            "LOW       64\n",
            "NORMAL    59\n",
            "Name: BP, dtype: int64\n",
            "['HIGH' 'NORMAL']\n",
            "HIGH      103\n",
            "NORMAL     97\n",
            "Name: Cholesterol, dtype: int64\n",
            "['DrugY' 'drugC' 'drugX' 'drugA' 'drugB']\n",
            "DrugY    91\n",
            "drugX    54\n",
            "drugA    23\n",
            "drugC    16\n",
            "drugB    16\n",
            "Name: Drug, dtype: int64\n"
          ]
        }
      ]
    },
    {
      "cell_type": "code",
      "source": [
        "from sklearn.preprocessing import LabelEncoder, StandardScaler\n",
        "le = LabelEncoder()\n",
        "df['Sex'] = le.fit_transform(df['Sex'])\n",
        "df['BP'] = le.fit_transform(df['BP'])\n",
        "df['Cholesterol'] = le.fit_transform(df['Cholesterol'])\n",
        "df['Drug'] = le.fit_transform(df['Drug'])\n",
        "df"
      ],
      "metadata": {
        "colab": {
          "base_uri": "https://localhost:8080/",
          "height": 423
        },
        "id": "JP9Jmcm8IxNt",
        "outputId": "8dc34202-2b35-44f6-c72a-eef0a0e2cf9e"
      },
      "execution_count": 73,
      "outputs": [
        {
          "output_type": "execute_result",
          "data": {
            "text/plain": [
              "     Age  Sex  BP  Cholesterol  Na_to_K  Drug\n",
              "0     23    0   0            0   25.355     0\n",
              "1     47    1   1            0   13.093     3\n",
              "2     47    1   1            0   10.114     3\n",
              "3     28    0   2            0    7.798     4\n",
              "4     61    0   1            0   18.043     0\n",
              "..   ...  ...  ..          ...      ...   ...\n",
              "195   56    0   1            0   11.567     3\n",
              "196   16    1   1            0   12.006     3\n",
              "197   52    1   2            0    9.894     4\n",
              "198   23    1   2            1   14.020     4\n",
              "199   40    0   1            1   11.349     4\n",
              "\n",
              "[200 rows x 6 columns]"
            ],
            "text/html": [
              "\n",
              "  <div id=\"df-8e6d5fd8-1dec-4054-b9e5-added6bd12e2\">\n",
              "    <div class=\"colab-df-container\">\n",
              "      <div>\n",
              "<style scoped>\n",
              "    .dataframe tbody tr th:only-of-type {\n",
              "        vertical-align: middle;\n",
              "    }\n",
              "\n",
              "    .dataframe tbody tr th {\n",
              "        vertical-align: top;\n",
              "    }\n",
              "\n",
              "    .dataframe thead th {\n",
              "        text-align: right;\n",
              "    }\n",
              "</style>\n",
              "<table border=\"1\" class=\"dataframe\">\n",
              "  <thead>\n",
              "    <tr style=\"text-align: right;\">\n",
              "      <th></th>\n",
              "      <th>Age</th>\n",
              "      <th>Sex</th>\n",
              "      <th>BP</th>\n",
              "      <th>Cholesterol</th>\n",
              "      <th>Na_to_K</th>\n",
              "      <th>Drug</th>\n",
              "    </tr>\n",
              "  </thead>\n",
              "  <tbody>\n",
              "    <tr>\n",
              "      <th>0</th>\n",
              "      <td>23</td>\n",
              "      <td>0</td>\n",
              "      <td>0</td>\n",
              "      <td>0</td>\n",
              "      <td>25.355</td>\n",
              "      <td>0</td>\n",
              "    </tr>\n",
              "    <tr>\n",
              "      <th>1</th>\n",
              "      <td>47</td>\n",
              "      <td>1</td>\n",
              "      <td>1</td>\n",
              "      <td>0</td>\n",
              "      <td>13.093</td>\n",
              "      <td>3</td>\n",
              "    </tr>\n",
              "    <tr>\n",
              "      <th>2</th>\n",
              "      <td>47</td>\n",
              "      <td>1</td>\n",
              "      <td>1</td>\n",
              "      <td>0</td>\n",
              "      <td>10.114</td>\n",
              "      <td>3</td>\n",
              "    </tr>\n",
              "    <tr>\n",
              "      <th>3</th>\n",
              "      <td>28</td>\n",
              "      <td>0</td>\n",
              "      <td>2</td>\n",
              "      <td>0</td>\n",
              "      <td>7.798</td>\n",
              "      <td>4</td>\n",
              "    </tr>\n",
              "    <tr>\n",
              "      <th>4</th>\n",
              "      <td>61</td>\n",
              "      <td>0</td>\n",
              "      <td>1</td>\n",
              "      <td>0</td>\n",
              "      <td>18.043</td>\n",
              "      <td>0</td>\n",
              "    </tr>\n",
              "    <tr>\n",
              "      <th>...</th>\n",
              "      <td>...</td>\n",
              "      <td>...</td>\n",
              "      <td>...</td>\n",
              "      <td>...</td>\n",
              "      <td>...</td>\n",
              "      <td>...</td>\n",
              "    </tr>\n",
              "    <tr>\n",
              "      <th>195</th>\n",
              "      <td>56</td>\n",
              "      <td>0</td>\n",
              "      <td>1</td>\n",
              "      <td>0</td>\n",
              "      <td>11.567</td>\n",
              "      <td>3</td>\n",
              "    </tr>\n",
              "    <tr>\n",
              "      <th>196</th>\n",
              "      <td>16</td>\n",
              "      <td>1</td>\n",
              "      <td>1</td>\n",
              "      <td>0</td>\n",
              "      <td>12.006</td>\n",
              "      <td>3</td>\n",
              "    </tr>\n",
              "    <tr>\n",
              "      <th>197</th>\n",
              "      <td>52</td>\n",
              "      <td>1</td>\n",
              "      <td>2</td>\n",
              "      <td>0</td>\n",
              "      <td>9.894</td>\n",
              "      <td>4</td>\n",
              "    </tr>\n",
              "    <tr>\n",
              "      <th>198</th>\n",
              "      <td>23</td>\n",
              "      <td>1</td>\n",
              "      <td>2</td>\n",
              "      <td>1</td>\n",
              "      <td>14.020</td>\n",
              "      <td>4</td>\n",
              "    </tr>\n",
              "    <tr>\n",
              "      <th>199</th>\n",
              "      <td>40</td>\n",
              "      <td>0</td>\n",
              "      <td>1</td>\n",
              "      <td>1</td>\n",
              "      <td>11.349</td>\n",
              "      <td>4</td>\n",
              "    </tr>\n",
              "  </tbody>\n",
              "</table>\n",
              "<p>200 rows × 6 columns</p>\n",
              "</div>\n",
              "      <button class=\"colab-df-convert\" onclick=\"convertToInteractive('df-8e6d5fd8-1dec-4054-b9e5-added6bd12e2')\"\n",
              "              title=\"Convert this dataframe to an interactive table.\"\n",
              "              style=\"display:none;\">\n",
              "        \n",
              "  <svg xmlns=\"http://www.w3.org/2000/svg\" height=\"24px\"viewBox=\"0 0 24 24\"\n",
              "       width=\"24px\">\n",
              "    <path d=\"M0 0h24v24H0V0z\" fill=\"none\"/>\n",
              "    <path d=\"M18.56 5.44l.94 2.06.94-2.06 2.06-.94-2.06-.94-.94-2.06-.94 2.06-2.06.94zm-11 1L8.5 8.5l.94-2.06 2.06-.94-2.06-.94L8.5 2.5l-.94 2.06-2.06.94zm10 10l.94 2.06.94-2.06 2.06-.94-2.06-.94-.94-2.06-.94 2.06-2.06.94z\"/><path d=\"M17.41 7.96l-1.37-1.37c-.4-.4-.92-.59-1.43-.59-.52 0-1.04.2-1.43.59L10.3 9.45l-7.72 7.72c-.78.78-.78 2.05 0 2.83L4 21.41c.39.39.9.59 1.41.59.51 0 1.02-.2 1.41-.59l7.78-7.78 2.81-2.81c.8-.78.8-2.07 0-2.86zM5.41 20L4 18.59l7.72-7.72 1.47 1.35L5.41 20z\"/>\n",
              "  </svg>\n",
              "      </button>\n",
              "      \n",
              "  <style>\n",
              "    .colab-df-container {\n",
              "      display:flex;\n",
              "      flex-wrap:wrap;\n",
              "      gap: 12px;\n",
              "    }\n",
              "\n",
              "    .colab-df-convert {\n",
              "      background-color: #E8F0FE;\n",
              "      border: none;\n",
              "      border-radius: 50%;\n",
              "      cursor: pointer;\n",
              "      display: none;\n",
              "      fill: #1967D2;\n",
              "      height: 32px;\n",
              "      padding: 0 0 0 0;\n",
              "      width: 32px;\n",
              "    }\n",
              "\n",
              "    .colab-df-convert:hover {\n",
              "      background-color: #E2EBFA;\n",
              "      box-shadow: 0px 1px 2px rgba(60, 64, 67, 0.3), 0px 1px 3px 1px rgba(60, 64, 67, 0.15);\n",
              "      fill: #174EA6;\n",
              "    }\n",
              "\n",
              "    [theme=dark] .colab-df-convert {\n",
              "      background-color: #3B4455;\n",
              "      fill: #D2E3FC;\n",
              "    }\n",
              "\n",
              "    [theme=dark] .colab-df-convert:hover {\n",
              "      background-color: #434B5C;\n",
              "      box-shadow: 0px 1px 3px 1px rgba(0, 0, 0, 0.15);\n",
              "      filter: drop-shadow(0px 1px 2px rgba(0, 0, 0, 0.3));\n",
              "      fill: #FFFFFF;\n",
              "    }\n",
              "  </style>\n",
              "\n",
              "      <script>\n",
              "        const buttonEl =\n",
              "          document.querySelector('#df-8e6d5fd8-1dec-4054-b9e5-added6bd12e2 button.colab-df-convert');\n",
              "        buttonEl.style.display =\n",
              "          google.colab.kernel.accessAllowed ? 'block' : 'none';\n",
              "\n",
              "        async function convertToInteractive(key) {\n",
              "          const element = document.querySelector('#df-8e6d5fd8-1dec-4054-b9e5-added6bd12e2');\n",
              "          const dataTable =\n",
              "            await google.colab.kernel.invokeFunction('convertToInteractive',\n",
              "                                                     [key], {});\n",
              "          if (!dataTable) return;\n",
              "\n",
              "          const docLinkHtml = 'Like what you see? Visit the ' +\n",
              "            '<a target=\"_blank\" href=https://colab.research.google.com/notebooks/data_table.ipynb>data table notebook</a>'\n",
              "            + ' to learn more about interactive tables.';\n",
              "          element.innerHTML = '';\n",
              "          dataTable['output_type'] = 'display_data';\n",
              "          await google.colab.output.renderOutput(dataTable, element);\n",
              "          const docLink = document.createElement('div');\n",
              "          docLink.innerHTML = docLinkHtml;\n",
              "          element.appendChild(docLink);\n",
              "        }\n",
              "      </script>\n",
              "    </div>\n",
              "  </div>\n",
              "  "
            ]
          },
          "metadata": {},
          "execution_count": 73
        }
      ]
    },
    {
      "cell_type": "code",
      "source": [
        "#5. Splitting x and Y\n",
        "x = df.iloc[:,0:5].values\n",
        "x"
      ],
      "metadata": {
        "colab": {
          "base_uri": "https://localhost:8080/"
        },
        "id": "085ETyazBCTO",
        "outputId": "b9618e91-dc26-46fa-9dc3-17d3035c47cc"
      },
      "execution_count": 74,
      "outputs": [
        {
          "output_type": "execute_result",
          "data": {
            "text/plain": [
              "array([[23.   ,  0.   ,  0.   ,  0.   , 25.355],\n",
              "       [47.   ,  1.   ,  1.   ,  0.   , 13.093],\n",
              "       [47.   ,  1.   ,  1.   ,  0.   , 10.114],\n",
              "       [28.   ,  0.   ,  2.   ,  0.   ,  7.798],\n",
              "       [61.   ,  0.   ,  1.   ,  0.   , 18.043],\n",
              "       [22.   ,  0.   ,  2.   ,  0.   ,  8.607],\n",
              "       [49.   ,  0.   ,  2.   ,  0.   , 16.275],\n",
              "       [41.   ,  1.   ,  1.   ,  0.   , 11.037],\n",
              "       [60.   ,  1.   ,  2.   ,  0.   , 15.171],\n",
              "       [43.   ,  1.   ,  1.   ,  1.   , 19.368],\n",
              "       [47.   ,  0.   ,  1.   ,  0.   , 11.767],\n",
              "       [34.   ,  0.   ,  0.   ,  1.   , 19.199],\n",
              "       [43.   ,  1.   ,  1.   ,  0.   , 15.376],\n",
              "       [74.   ,  0.   ,  1.   ,  0.   , 20.942],\n",
              "       [50.   ,  0.   ,  2.   ,  0.   , 12.703],\n",
              "       [16.   ,  0.   ,  0.   ,  1.   , 15.516],\n",
              "       [69.   ,  1.   ,  1.   ,  1.   , 11.455],\n",
              "       [43.   ,  1.   ,  0.   ,  0.   , 13.972],\n",
              "       [23.   ,  1.   ,  1.   ,  0.   ,  7.298],\n",
              "       [32.   ,  0.   ,  0.   ,  1.   , 25.974],\n",
              "       [57.   ,  1.   ,  1.   ,  1.   , 19.128],\n",
              "       [63.   ,  1.   ,  2.   ,  0.   , 25.917],\n",
              "       [47.   ,  1.   ,  1.   ,  1.   , 30.568],\n",
              "       [48.   ,  0.   ,  1.   ,  0.   , 15.036],\n",
              "       [33.   ,  0.   ,  1.   ,  0.   , 14.   ],\n",
              "       [28.   ,  0.   ,  0.   ,  1.   , 18.809],\n",
              "       [31.   ,  1.   ,  0.   ,  0.   , 30.366],\n",
              "       [49.   ,  0.   ,  2.   ,  1.   ,  9.381],\n",
              "       [39.   ,  0.   ,  1.   ,  1.   , 22.697],\n",
              "       [45.   ,  1.   ,  1.   ,  0.   , 17.951],\n",
              "       [18.   ,  0.   ,  2.   ,  1.   ,  8.75 ],\n",
              "       [74.   ,  1.   ,  0.   ,  0.   ,  9.567],\n",
              "       [49.   ,  1.   ,  1.   ,  1.   , 11.014],\n",
              "       [65.   ,  0.   ,  0.   ,  1.   , 14.   ],\n",
              "       [53.   ,  1.   ,  2.   ,  0.   , 14.133],\n",
              "       [46.   ,  1.   ,  2.   ,  1.   ,  7.285],\n",
              "       [32.   ,  1.   ,  0.   ,  1.   ,  9.445],\n",
              "       [39.   ,  1.   ,  1.   ,  1.   , 13.938],\n",
              "       [39.   ,  0.   ,  2.   ,  1.   ,  9.709],\n",
              "       [15.   ,  1.   ,  2.   ,  0.   ,  9.084],\n",
              "       [73.   ,  0.   ,  2.   ,  0.   , 19.221],\n",
              "       [58.   ,  0.   ,  0.   ,  1.   , 14.239],\n",
              "       [50.   ,  1.   ,  2.   ,  1.   , 15.79 ],\n",
              "       [23.   ,  1.   ,  2.   ,  0.   , 12.26 ],\n",
              "       [50.   ,  0.   ,  2.   ,  1.   , 12.295],\n",
              "       [66.   ,  0.   ,  2.   ,  1.   ,  8.107],\n",
              "       [37.   ,  0.   ,  0.   ,  0.   , 13.091],\n",
              "       [68.   ,  1.   ,  1.   ,  0.   , 10.291],\n",
              "       [23.   ,  1.   ,  2.   ,  0.   , 14.   ],\n",
              "       [28.   ,  0.   ,  1.   ,  0.   , 19.796],\n",
              "       [58.   ,  0.   ,  0.   ,  0.   , 19.416],\n",
              "       [67.   ,  1.   ,  2.   ,  1.   , 10.898],\n",
              "       [62.   ,  1.   ,  1.   ,  1.   , 27.183],\n",
              "       [24.   ,  0.   ,  0.   ,  1.   , 18.457],\n",
              "       [68.   ,  0.   ,  0.   ,  1.   , 10.189],\n",
              "       [26.   ,  0.   ,  1.   ,  0.   , 14.16 ],\n",
              "       [65.   ,  1.   ,  0.   ,  1.   , 11.34 ],\n",
              "       [40.   ,  1.   ,  0.   ,  0.   , 27.826],\n",
              "       [60.   ,  1.   ,  2.   ,  1.   , 10.091],\n",
              "       [34.   ,  1.   ,  0.   ,  0.   , 18.703],\n",
              "       [38.   ,  0.   ,  1.   ,  1.   , 29.875],\n",
              "       [24.   ,  1.   ,  0.   ,  1.   ,  9.475],\n",
              "       [67.   ,  1.   ,  1.   ,  1.   , 20.693],\n",
              "       [45.   ,  1.   ,  1.   ,  1.   ,  8.37 ],\n",
              "       [60.   ,  0.   ,  0.   ,  0.   , 13.303],\n",
              "       [68.   ,  0.   ,  2.   ,  1.   , 27.05 ],\n",
              "       [29.   ,  1.   ,  0.   ,  0.   , 12.856],\n",
              "       [17.   ,  1.   ,  2.   ,  1.   , 10.832],\n",
              "       [54.   ,  1.   ,  2.   ,  0.   , 24.658],\n",
              "       [18.   ,  0.   ,  0.   ,  1.   , 24.276],\n",
              "       [70.   ,  1.   ,  0.   ,  0.   , 13.967],\n",
              "       [28.   ,  0.   ,  2.   ,  0.   , 19.675],\n",
              "       [24.   ,  0.   ,  2.   ,  0.   , 10.605],\n",
              "       [41.   ,  0.   ,  2.   ,  1.   , 22.905],\n",
              "       [31.   ,  1.   ,  0.   ,  1.   , 17.069],\n",
              "       [26.   ,  1.   ,  1.   ,  1.   , 20.909],\n",
              "       [36.   ,  0.   ,  0.   ,  0.   , 11.198],\n",
              "       [26.   ,  0.   ,  0.   ,  1.   , 19.161],\n",
              "       [19.   ,  0.   ,  0.   ,  0.   , 13.313],\n",
              "       [32.   ,  0.   ,  1.   ,  1.   , 10.84 ],\n",
              "       [60.   ,  1.   ,  0.   ,  0.   , 13.934],\n",
              "       [64.   ,  1.   ,  2.   ,  0.   ,  7.761],\n",
              "       [32.   ,  0.   ,  1.   ,  0.   ,  9.712],\n",
              "       [38.   ,  0.   ,  0.   ,  1.   , 11.326],\n",
              "       [47.   ,  0.   ,  1.   ,  0.   , 10.067],\n",
              "       [59.   ,  1.   ,  0.   ,  0.   , 13.935],\n",
              "       [51.   ,  0.   ,  2.   ,  0.   , 13.597],\n",
              "       [69.   ,  1.   ,  1.   ,  0.   , 15.478],\n",
              "       [37.   ,  0.   ,  0.   ,  1.   , 23.091],\n",
              "       [50.   ,  0.   ,  2.   ,  1.   , 17.211],\n",
              "       [62.   ,  1.   ,  2.   ,  0.   , 16.594],\n",
              "       [41.   ,  1.   ,  0.   ,  1.   , 15.156],\n",
              "       [29.   ,  0.   ,  0.   ,  0.   , 29.45 ],\n",
              "       [42.   ,  0.   ,  1.   ,  1.   , 29.271],\n",
              "       [56.   ,  1.   ,  1.   ,  0.   , 15.015],\n",
              "       [36.   ,  1.   ,  1.   ,  1.   , 11.424],\n",
              "       [58.   ,  0.   ,  1.   ,  0.   , 14.   ],\n",
              "       [56.   ,  0.   ,  0.   ,  0.   , 25.395],\n",
              "       [20.   ,  1.   ,  0.   ,  1.   , 14.   ],\n",
              "       [15.   ,  0.   ,  0.   ,  1.   , 16.725],\n",
              "       [31.   ,  1.   ,  0.   ,  1.   , 11.871],\n",
              "       [45.   ,  0.   ,  0.   ,  0.   , 12.854],\n",
              "       [28.   ,  0.   ,  1.   ,  0.   , 13.127],\n",
              "       [56.   ,  1.   ,  2.   ,  0.   ,  8.966],\n",
              "       [22.   ,  1.   ,  0.   ,  1.   , 28.294],\n",
              "       [37.   ,  1.   ,  1.   ,  1.   ,  8.968],\n",
              "       [22.   ,  1.   ,  2.   ,  0.   , 11.953],\n",
              "       [42.   ,  1.   ,  1.   ,  0.   , 20.013],\n",
              "       [72.   ,  1.   ,  0.   ,  1.   ,  9.677],\n",
              "       [23.   ,  1.   ,  2.   ,  0.   , 16.85 ],\n",
              "       [50.   ,  1.   ,  0.   ,  0.   ,  7.49 ],\n",
              "       [47.   ,  0.   ,  2.   ,  1.   ,  6.683],\n",
              "       [35.   ,  1.   ,  1.   ,  1.   ,  9.17 ],\n",
              "       [65.   ,  0.   ,  1.   ,  1.   , 13.769],\n",
              "       [20.   ,  0.   ,  2.   ,  1.   ,  9.281],\n",
              "       [51.   ,  1.   ,  0.   ,  0.   , 18.295],\n",
              "       [67.   ,  1.   ,  2.   ,  1.   ,  9.514],\n",
              "       [40.   ,  0.   ,  2.   ,  0.   , 10.103],\n",
              "       [32.   ,  0.   ,  0.   ,  1.   , 10.292],\n",
              "       [61.   ,  0.   ,  0.   ,  0.   , 25.475],\n",
              "       [28.   ,  1.   ,  2.   ,  0.   , 27.064],\n",
              "       [15.   ,  1.   ,  0.   ,  1.   , 17.206],\n",
              "       [34.   ,  1.   ,  2.   ,  0.   , 22.456],\n",
              "       [36.   ,  0.   ,  2.   ,  0.   , 16.753],\n",
              "       [53.   ,  0.   ,  0.   ,  1.   , 12.495],\n",
              "       [19.   ,  0.   ,  0.   ,  1.   , 25.969],\n",
              "       [66.   ,  1.   ,  0.   ,  0.   , 16.347],\n",
              "       [35.   ,  1.   ,  2.   ,  1.   ,  7.845],\n",
              "       [47.   ,  1.   ,  1.   ,  1.   , 14.   ],\n",
              "       [32.   ,  0.   ,  2.   ,  0.   ,  7.477],\n",
              "       [70.   ,  0.   ,  2.   ,  0.   , 20.489],\n",
              "       [52.   ,  1.   ,  1.   ,  1.   , 14.   ],\n",
              "       [49.   ,  1.   ,  1.   ,  1.   , 13.598],\n",
              "       [24.   ,  1.   ,  2.   ,  0.   , 25.786],\n",
              "       [42.   ,  0.   ,  0.   ,  0.   , 21.036],\n",
              "       [74.   ,  1.   ,  1.   ,  1.   , 11.939],\n",
              "       [55.   ,  0.   ,  0.   ,  0.   , 10.977],\n",
              "       [35.   ,  0.   ,  0.   ,  0.   , 12.894],\n",
              "       [51.   ,  1.   ,  0.   ,  1.   , 11.343],\n",
              "       [69.   ,  0.   ,  2.   ,  0.   , 10.065],\n",
              "       [49.   ,  1.   ,  0.   ,  1.   ,  6.269],\n",
              "       [64.   ,  0.   ,  1.   ,  1.   , 25.741],\n",
              "       [60.   ,  1.   ,  0.   ,  1.   ,  8.621],\n",
              "       [74.   ,  1.   ,  0.   ,  1.   , 15.436],\n",
              "       [39.   ,  1.   ,  0.   ,  0.   ,  9.664],\n",
              "       [61.   ,  1.   ,  2.   ,  0.   ,  9.443],\n",
              "       [37.   ,  0.   ,  1.   ,  1.   , 12.006],\n",
              "       [26.   ,  0.   ,  0.   ,  1.   , 12.307],\n",
              "       [61.   ,  0.   ,  1.   ,  1.   ,  7.34 ],\n",
              "       [22.   ,  1.   ,  1.   ,  0.   ,  8.151],\n",
              "       [49.   ,  1.   ,  0.   ,  1.   ,  8.7  ],\n",
              "       [68.   ,  1.   ,  0.   ,  0.   , 11.009],\n",
              "       [55.   ,  1.   ,  2.   ,  1.   ,  7.261],\n",
              "       [72.   ,  0.   ,  1.   ,  1.   , 14.642],\n",
              "       [37.   ,  1.   ,  1.   ,  1.   , 16.724],\n",
              "       [49.   ,  1.   ,  1.   ,  0.   , 10.537],\n",
              "       [31.   ,  1.   ,  0.   ,  1.   , 11.227],\n",
              "       [53.   ,  1.   ,  1.   ,  0.   , 22.963],\n",
              "       [59.   ,  0.   ,  1.   ,  0.   , 10.444],\n",
              "       [34.   ,  0.   ,  1.   ,  1.   , 12.923],\n",
              "       [30.   ,  0.   ,  2.   ,  0.   , 10.443],\n",
              "       [57.   ,  0.   ,  0.   ,  1.   ,  9.945],\n",
              "       [43.   ,  1.   ,  2.   ,  1.   , 12.859],\n",
              "       [21.   ,  0.   ,  0.   ,  1.   , 28.632],\n",
              "       [16.   ,  1.   ,  0.   ,  1.   , 19.007],\n",
              "       [38.   ,  1.   ,  1.   ,  0.   , 18.295],\n",
              "       [58.   ,  0.   ,  1.   ,  0.   , 26.645],\n",
              "       [57.   ,  0.   ,  2.   ,  0.   , 14.216],\n",
              "       [51.   ,  0.   ,  1.   ,  1.   , 23.003],\n",
              "       [20.   ,  0.   ,  0.   ,  0.   , 11.262],\n",
              "       [28.   ,  0.   ,  2.   ,  0.   , 12.879],\n",
              "       [45.   ,  1.   ,  1.   ,  1.   , 10.017],\n",
              "       [39.   ,  0.   ,  2.   ,  1.   , 17.225],\n",
              "       [41.   ,  0.   ,  1.   ,  1.   , 18.739],\n",
              "       [42.   ,  1.   ,  0.   ,  1.   , 12.766],\n",
              "       [73.   ,  0.   ,  0.   ,  0.   , 18.348],\n",
              "       [48.   ,  1.   ,  0.   ,  1.   , 10.446],\n",
              "       [25.   ,  1.   ,  2.   ,  0.   , 19.011],\n",
              "       [39.   ,  1.   ,  2.   ,  0.   , 15.969],\n",
              "       [67.   ,  0.   ,  2.   ,  0.   , 15.891],\n",
              "       [22.   ,  0.   ,  0.   ,  1.   , 22.818],\n",
              "       [59.   ,  0.   ,  2.   ,  0.   , 13.884],\n",
              "       [20.   ,  0.   ,  1.   ,  1.   , 11.686],\n",
              "       [36.   ,  0.   ,  0.   ,  1.   , 15.49 ],\n",
              "       [18.   ,  0.   ,  0.   ,  0.   , 14.   ],\n",
              "       [57.   ,  0.   ,  2.   ,  1.   , 25.893],\n",
              "       [70.   ,  1.   ,  0.   ,  0.   ,  9.849],\n",
              "       [47.   ,  1.   ,  0.   ,  0.   , 10.403],\n",
              "       [65.   ,  1.   ,  0.   ,  1.   , 14.   ],\n",
              "       [64.   ,  1.   ,  0.   ,  1.   , 20.932],\n",
              "       [58.   ,  1.   ,  0.   ,  0.   , 18.991],\n",
              "       [23.   ,  1.   ,  0.   ,  0.   ,  8.011],\n",
              "       [72.   ,  1.   ,  1.   ,  0.   , 16.31 ],\n",
              "       [72.   ,  1.   ,  1.   ,  0.   ,  6.769],\n",
              "       [46.   ,  0.   ,  0.   ,  0.   , 14.   ],\n",
              "       [56.   ,  0.   ,  1.   ,  0.   , 11.567],\n",
              "       [16.   ,  1.   ,  1.   ,  0.   , 12.006],\n",
              "       [52.   ,  1.   ,  2.   ,  0.   ,  9.894],\n",
              "       [23.   ,  1.   ,  2.   ,  1.   , 14.02 ],\n",
              "       [40.   ,  0.   ,  1.   ,  1.   , 11.349]])"
            ]
          },
          "metadata": {},
          "execution_count": 74
        }
      ]
    },
    {
      "cell_type": "code",
      "source": [
        "y = pd.get_dummies(df.iloc[:, 5:]).values\n",
        "y"
      ],
      "metadata": {
        "id": "5JYWzyqrXaoS",
        "colab": {
          "base_uri": "https://localhost:8080/"
        },
        "outputId": "34a59b11-77dc-4d5e-843b-7d8806eb2ce0"
      },
      "execution_count": 61,
      "outputs": [
        {
          "output_type": "execute_result",
          "data": {
            "text/plain": [
              "array([[1, 0, 0, 0, 0],\n",
              "       [0, 0, 0, 1, 0],\n",
              "       [0, 0, 0, 1, 0],\n",
              "       [0, 0, 0, 0, 1],\n",
              "       [1, 0, 0, 0, 0],\n",
              "       [0, 0, 0, 0, 1],\n",
              "       [1, 0, 0, 0, 0],\n",
              "       [0, 0, 0, 1, 0],\n",
              "       [1, 0, 0, 0, 0],\n",
              "       [1, 0, 0, 0, 0],\n",
              "       [0, 0, 0, 1, 0],\n",
              "       [1, 0, 0, 0, 0],\n",
              "       [1, 0, 0, 0, 0],\n",
              "       [1, 0, 0, 0, 0],\n",
              "       [0, 0, 0, 0, 1],\n",
              "       [1, 0, 0, 0, 0],\n",
              "       [0, 0, 0, 0, 1],\n",
              "       [0, 1, 0, 0, 0],\n",
              "       [0, 0, 0, 1, 0],\n",
              "       [1, 0, 0, 0, 0],\n",
              "       [1, 0, 0, 0, 0],\n",
              "       [1, 0, 0, 0, 0],\n",
              "       [1, 0, 0, 0, 0],\n",
              "       [1, 0, 0, 0, 0],\n",
              "       [1, 0, 0, 0, 0],\n",
              "       [1, 0, 0, 0, 0],\n",
              "       [1, 0, 0, 0, 0],\n",
              "       [0, 0, 0, 0, 1],\n",
              "       [1, 0, 0, 0, 0],\n",
              "       [1, 0, 0, 0, 0],\n",
              "       [0, 0, 0, 0, 1],\n",
              "       [0, 0, 1, 0, 0],\n",
              "       [0, 0, 0, 0, 1],\n",
              "       [1, 0, 0, 0, 0],\n",
              "       [0, 0, 0, 0, 1],\n",
              "       [0, 0, 0, 0, 1],\n",
              "       [0, 1, 0, 0, 0],\n",
              "       [0, 0, 0, 0, 1],\n",
              "       [0, 0, 0, 0, 1],\n",
              "       [0, 0, 0, 0, 1],\n",
              "       [1, 0, 0, 0, 0],\n",
              "       [0, 0, 1, 0, 0],\n",
              "       [1, 0, 0, 0, 0],\n",
              "       [0, 0, 0, 0, 1],\n",
              "       [0, 0, 0, 0, 1],\n",
              "       [0, 0, 0, 0, 1],\n",
              "       [0, 1, 0, 0, 0],\n",
              "       [0, 0, 0, 1, 0],\n",
              "       [1, 0, 0, 0, 0],\n",
              "       [1, 0, 0, 0, 0],\n",
              "       [1, 0, 0, 0, 0],\n",
              "       [0, 0, 0, 0, 1],\n",
              "       [1, 0, 0, 0, 0],\n",
              "       [1, 0, 0, 0, 0],\n",
              "       [0, 0, 1, 0, 0],\n",
              "       [0, 0, 0, 1, 0],\n",
              "       [0, 0, 1, 0, 0],\n",
              "       [1, 0, 0, 0, 0],\n",
              "       [0, 0, 0, 0, 1],\n",
              "       [1, 0, 0, 0, 0],\n",
              "       [1, 0, 0, 0, 0],\n",
              "       [0, 1, 0, 0, 0],\n",
              "       [1, 0, 0, 0, 0],\n",
              "       [0, 0, 0, 0, 1],\n",
              "       [0, 0, 1, 0, 0],\n",
              "       [1, 0, 0, 0, 0],\n",
              "       [0, 1, 0, 0, 0],\n",
              "       [0, 0, 0, 0, 1],\n",
              "       [1, 0, 0, 0, 0],\n",
              "       [1, 0, 0, 0, 0],\n",
              "       [0, 0, 1, 0, 0],\n",
              "       [1, 0, 0, 0, 0],\n",
              "       [0, 0, 0, 0, 1],\n",
              "       [1, 0, 0, 0, 0],\n",
              "       [1, 0, 0, 0, 0],\n",
              "       [1, 0, 0, 0, 0],\n",
              "       [0, 1, 0, 0, 0],\n",
              "       [1, 0, 0, 0, 0],\n",
              "       [0, 1, 0, 0, 0],\n",
              "       [0, 0, 0, 0, 1],\n",
              "       [0, 0, 1, 0, 0],\n",
              "       [0, 0, 0, 0, 1],\n",
              "       [0, 0, 0, 1, 0],\n",
              "       [0, 1, 0, 0, 0],\n",
              "       [0, 0, 0, 1, 0],\n",
              "       [0, 0, 1, 0, 0],\n",
              "       [0, 0, 0, 0, 1],\n",
              "       [1, 0, 0, 0, 0],\n",
              "       [1, 0, 0, 0, 0],\n",
              "       [1, 0, 0, 0, 0],\n",
              "       [1, 0, 0, 0, 0],\n",
              "       [1, 0, 0, 0, 0],\n",
              "       [1, 0, 0, 0, 0],\n",
              "       [1, 0, 0, 0, 0],\n",
              "       [1, 0, 0, 0, 0],\n",
              "       [0, 0, 0, 0, 1],\n",
              "       [1, 0, 0, 0, 0],\n",
              "       [1, 0, 0, 0, 0],\n",
              "       [1, 0, 0, 0, 0],\n",
              "       [1, 0, 0, 0, 0],\n",
              "       [0, 1, 0, 0, 0],\n",
              "       [0, 1, 0, 0, 0],\n",
              "       [0, 0, 0, 1, 0],\n",
              "       [0, 0, 0, 0, 1],\n",
              "       [1, 0, 0, 0, 0],\n",
              "       [0, 0, 0, 0, 1],\n",
              "       [0, 0, 0, 0, 1],\n",
              "       [1, 0, 0, 0, 0],\n",
              "       [0, 0, 1, 0, 0],\n",
              "       [1, 0, 0, 0, 0],\n",
              "       [0, 1, 0, 0, 0],\n",
              "       [0, 0, 0, 0, 1],\n",
              "       [0, 0, 0, 0, 1],\n",
              "       [0, 0, 0, 0, 1],\n",
              "       [0, 0, 0, 0, 1],\n",
              "       [1, 0, 0, 0, 0],\n",
              "       [0, 0, 0, 0, 1],\n",
              "       [0, 0, 0, 0, 1],\n",
              "       [0, 1, 0, 0, 0],\n",
              "       [1, 0, 0, 0, 0],\n",
              "       [1, 0, 0, 0, 0],\n",
              "       [1, 0, 0, 0, 0],\n",
              "       [1, 0, 0, 0, 0],\n",
              "       [1, 0, 0, 0, 0],\n",
              "       [0, 0, 1, 0, 0],\n",
              "       [1, 0, 0, 0, 0],\n",
              "       [1, 0, 0, 0, 0],\n",
              "       [0, 0, 0, 0, 1],\n",
              "       [1, 0, 0, 0, 0],\n",
              "       [0, 0, 0, 0, 1],\n",
              "       [1, 0, 0, 0, 0],\n",
              "       [1, 0, 0, 0, 0],\n",
              "       [0, 0, 0, 0, 1],\n",
              "       [1, 0, 0, 0, 0],\n",
              "       [1, 0, 0, 0, 0],\n",
              "       [0, 0, 0, 0, 1],\n",
              "       [0, 0, 1, 0, 0],\n",
              "       [0, 1, 0, 0, 0],\n",
              "       [0, 0, 1, 0, 0],\n",
              "       [0, 0, 0, 0, 1],\n",
              "       [0, 1, 0, 0, 0],\n",
              "       [1, 0, 0, 0, 0],\n",
              "       [0, 0, 1, 0, 0],\n",
              "       [1, 0, 0, 0, 0],\n",
              "       [0, 1, 0, 0, 0],\n",
              "       [0, 0, 0, 0, 1],\n",
              "       [0, 0, 0, 0, 1],\n",
              "       [0, 1, 0, 0, 0],\n",
              "       [0, 0, 0, 0, 1],\n",
              "       [0, 0, 0, 1, 0],\n",
              "       [0, 1, 0, 0, 0],\n",
              "       [0, 0, 1, 0, 0],\n",
              "       [0, 0, 0, 0, 1],\n",
              "       [0, 0, 0, 0, 1],\n",
              "       [1, 0, 0, 0, 0],\n",
              "       [0, 0, 0, 1, 0],\n",
              "       [0, 1, 0, 0, 0],\n",
              "       [1, 0, 0, 0, 0],\n",
              "       [0, 0, 0, 1, 0],\n",
              "       [0, 0, 0, 0, 1],\n",
              "       [0, 0, 0, 0, 1],\n",
              "       [0, 0, 1, 0, 0],\n",
              "       [0, 0, 0, 0, 1],\n",
              "       [1, 0, 0, 0, 0],\n",
              "       [1, 0, 0, 0, 0],\n",
              "       [1, 0, 0, 0, 0],\n",
              "       [1, 0, 0, 0, 0],\n",
              "       [0, 0, 0, 0, 1],\n",
              "       [1, 0, 0, 0, 0],\n",
              "       [0, 1, 0, 0, 0],\n",
              "       [0, 0, 0, 0, 1],\n",
              "       [0, 0, 0, 0, 1],\n",
              "       [1, 0, 0, 0, 0],\n",
              "       [1, 0, 0, 0, 0],\n",
              "       [0, 1, 0, 0, 0],\n",
              "       [1, 0, 0, 0, 0],\n",
              "       [0, 1, 0, 0, 0],\n",
              "       [1, 0, 0, 0, 0],\n",
              "       [1, 0, 0, 0, 0],\n",
              "       [1, 0, 0, 0, 0],\n",
              "       [1, 0, 0, 0, 0],\n",
              "       [0, 0, 0, 0, 1],\n",
              "       [0, 0, 0, 0, 1],\n",
              "       [1, 0, 0, 0, 0],\n",
              "       [1, 0, 0, 0, 0],\n",
              "       [1, 0, 0, 0, 0],\n",
              "       [0, 0, 1, 0, 0],\n",
              "       [0, 1, 0, 0, 0],\n",
              "       [1, 0, 0, 0, 0],\n",
              "       [1, 0, 0, 0, 0],\n",
              "       [1, 0, 0, 0, 0],\n",
              "       [0, 1, 0, 0, 0],\n",
              "       [1, 0, 0, 0, 0],\n",
              "       [0, 0, 0, 1, 0],\n",
              "       [1, 0, 0, 0, 0],\n",
              "       [0, 0, 0, 1, 0],\n",
              "       [0, 0, 0, 1, 0],\n",
              "       [0, 0, 0, 0, 1],\n",
              "       [0, 0, 0, 0, 1],\n",
              "       [0, 0, 0, 0, 1]], dtype=uint8)"
            ]
          },
          "metadata": {},
          "execution_count": 61
        }
      ]
    },
    {
      "cell_type": "code",
      "source": [
        "scaler = StandardScaler()\n",
        "x_scaled = scaler.fit_transform(x)"
      ],
      "metadata": {
        "id": "GxHN5toXl0ue"
      },
      "execution_count": 62,
      "outputs": []
    },
    {
      "cell_type": "code",
      "source": [
        "#6. Splitting Training and Testing Data\n",
        "from sklearn.model_selection import train_test_split\n",
        "xtrain,xtest,ytrain,ytest = train_test_split(x_scaled,y,test_size=0.2,random_state=12)"
      ],
      "metadata": {
        "id": "vMDq1Jq2Epn2"
      },
      "execution_count": 63,
      "outputs": []
    },
    {
      "cell_type": "code",
      "source": [
        "#7. Checking Shape\n",
        "xtrain.shape, xtest.shape"
      ],
      "metadata": {
        "colab": {
          "base_uri": "https://localhost:8080/"
        },
        "id": "xqTno58OEyrj",
        "outputId": "d0c0c0b1-7762-4c01-ba05-fc0cdef61e64"
      },
      "execution_count": 64,
      "outputs": [
        {
          "output_type": "execute_result",
          "data": {
            "text/plain": [
              "((160, 5), (40, 5))"
            ]
          },
          "metadata": {},
          "execution_count": 64
        }
      ]
    },
    {
      "cell_type": "code",
      "source": [
        "ytrain.shape, ytest.shape"
      ],
      "metadata": {
        "colab": {
          "base_uri": "https://localhost:8080/"
        },
        "id": "mCsfAc2gE8YN",
        "outputId": "e4bdfc7a-78ff-40c7-926b-d534431d9876"
      },
      "execution_count": 65,
      "outputs": [
        {
          "output_type": "execute_result",
          "data": {
            "text/plain": [
              "((160, 5), (40, 5))"
            ]
          },
          "metadata": {},
          "execution_count": 65
        }
      ]
    },
    {
      "cell_type": "code",
      "source": [
        "#Task 2: Build the ANN model with (input layer, min 3 hidden layers & output layer)\n",
        "#Model Layers\n",
        "model = Sequential()\n",
        "model.add(Dense(18,input_dim=5,activation='relu'))\n",
        "model.add(Dense(36,activation='relu'))\n",
        "model.add(Dense(45,activation='relu'))\n",
        "model.add(Dense(120,activation='relu'))\n",
        "model.add(Dense(52,activation='relu'))\n",
        "model.add(Dense(36,activation='relu'))\n",
        "model.add(Dense(5,activation='softmax'))"
      ],
      "metadata": {
        "id": "VA8ed2VdNCz5"
      },
      "execution_count": 87,
      "outputs": []
    },
    {
      "cell_type": "code",
      "source": [
        "#Model Compiling\n",
        "model.compile(optimizer='adam',loss='categorical_crossentropy',metrics=['accuracy'])"
      ],
      "metadata": {
        "id": "Egc-MFZpNd7t"
      },
      "execution_count": 88,
      "outputs": []
    },
    {
      "cell_type": "code",
      "source": [
        "model.summary()"
      ],
      "metadata": {
        "colab": {
          "base_uri": "https://localhost:8080/"
        },
        "id": "bBMOnhT6NzY6",
        "outputId": "5ac86464-f45e-4ec2-f4d4-f8d9425cf9ba"
      },
      "execution_count": 89,
      "outputs": [
        {
          "output_type": "stream",
          "name": "stdout",
          "text": [
            "Model: \"sequential_6\"\n",
            "_________________________________________________________________\n",
            " Layer (type)                Output Shape              Param #   \n",
            "=================================================================\n",
            " dense_42 (Dense)            (None, 18)                108       \n",
            "                                                                 \n",
            " dense_43 (Dense)            (None, 36)                684       \n",
            "                                                                 \n",
            " dense_44 (Dense)            (None, 45)                1665      \n",
            "                                                                 \n",
            " dense_45 (Dense)            (None, 120)               5520      \n",
            "                                                                 \n",
            " dense_46 (Dense)            (None, 52)                6292      \n",
            "                                                                 \n",
            " dense_47 (Dense)            (None, 36)                1908      \n",
            "                                                                 \n",
            " dense_48 (Dense)            (None, 5)                 185       \n",
            "                                                                 \n",
            "=================================================================\n",
            "Total params: 16,362\n",
            "Trainable params: 16,362\n",
            "Non-trainable params: 0\n",
            "_________________________________________________________________\n"
          ]
        }
      ]
    },
    {
      "cell_type": "code",
      "source": [
        "#model training\n",
        "model.fit(xtrain,ytrain,batch_size=10,epochs=20,validation_data=(xtest,ytest))"
      ],
      "metadata": {
        "colab": {
          "base_uri": "https://localhost:8080/"
        },
        "id": "HL3IFoQwPRC0",
        "outputId": "e573120c-6c0f-4280-d761-82dd588aac28"
      },
      "execution_count": 90,
      "outputs": [
        {
          "output_type": "stream",
          "name": "stdout",
          "text": [
            "Epoch 1/20\n",
            "16/16 [==============================] - 2s 19ms/step - loss: 1.4189 - accuracy: 0.4688 - val_loss: 1.2798 - val_accuracy: 0.4000\n",
            "Epoch 2/20\n",
            "16/16 [==============================] - 0s 5ms/step - loss: 1.1796 - accuracy: 0.4875 - val_loss: 1.0817 - val_accuracy: 0.5000\n",
            "Epoch 3/20\n",
            "16/16 [==============================] - 0s 5ms/step - loss: 0.9753 - accuracy: 0.6250 - val_loss: 0.9066 - val_accuracy: 0.6500\n",
            "Epoch 4/20\n",
            "16/16 [==============================] - 0s 6ms/step - loss: 0.7791 - accuracy: 0.7000 - val_loss: 0.7087 - val_accuracy: 0.7000\n",
            "Epoch 5/20\n",
            "16/16 [==============================] - 0s 4ms/step - loss: 0.6086 - accuracy: 0.7500 - val_loss: 0.5921 - val_accuracy: 0.8000\n",
            "Epoch 6/20\n",
            "16/16 [==============================] - 0s 5ms/step - loss: 0.4759 - accuracy: 0.8313 - val_loss: 0.4954 - val_accuracy: 0.8250\n",
            "Epoch 7/20\n",
            "16/16 [==============================] - 0s 5ms/step - loss: 0.3849 - accuracy: 0.8313 - val_loss: 0.4040 - val_accuracy: 0.8500\n",
            "Epoch 8/20\n",
            "16/16 [==============================] - 0s 5ms/step - loss: 0.2708 - accuracy: 0.9125 - val_loss: 0.3508 - val_accuracy: 0.8500\n",
            "Epoch 9/20\n",
            "16/16 [==============================] - 0s 5ms/step - loss: 0.2278 - accuracy: 0.9438 - val_loss: 0.3682 - val_accuracy: 0.8500\n",
            "Epoch 10/20\n",
            "16/16 [==============================] - 0s 5ms/step - loss: 0.1513 - accuracy: 0.9750 - val_loss: 0.2881 - val_accuracy: 0.8750\n",
            "Epoch 11/20\n",
            "16/16 [==============================] - 0s 5ms/step - loss: 0.1220 - accuracy: 0.9563 - val_loss: 0.3518 - val_accuracy: 0.8500\n",
            "Epoch 12/20\n",
            "16/16 [==============================] - 0s 4ms/step - loss: 0.1298 - accuracy: 0.9500 - val_loss: 0.3152 - val_accuracy: 0.8500\n",
            "Epoch 13/20\n",
            "16/16 [==============================] - 0s 4ms/step - loss: 0.1215 - accuracy: 0.9500 - val_loss: 0.3541 - val_accuracy: 0.8750\n",
            "Epoch 14/20\n",
            "16/16 [==============================] - 0s 7ms/step - loss: 0.1271 - accuracy: 0.9688 - val_loss: 0.4400 - val_accuracy: 0.8500\n",
            "Epoch 15/20\n",
            "16/16 [==============================] - 0s 9ms/step - loss: 0.1069 - accuracy: 0.9688 - val_loss: 0.2977 - val_accuracy: 0.9000\n",
            "Epoch 16/20\n",
            "16/16 [==============================] - 0s 7ms/step - loss: 0.0744 - accuracy: 0.9625 - val_loss: 0.2484 - val_accuracy: 0.9000\n",
            "Epoch 17/20\n",
            "16/16 [==============================] - 0s 7ms/step - loss: 0.0553 - accuracy: 0.9875 - val_loss: 0.2859 - val_accuracy: 0.8750\n",
            "Epoch 18/20\n",
            "16/16 [==============================] - 0s 7ms/step - loss: 0.0651 - accuracy: 0.9750 - val_loss: 0.2953 - val_accuracy: 0.8750\n",
            "Epoch 19/20\n",
            "16/16 [==============================] - 0s 7ms/step - loss: 0.0676 - accuracy: 0.9875 - val_loss: 0.3921 - val_accuracy: 0.8500\n",
            "Epoch 20/20\n",
            "16/16 [==============================] - 0s 8ms/step - loss: 0.0476 - accuracy: 0.9812 - val_loss: 0.2663 - val_accuracy: 0.9000\n"
          ]
        },
        {
          "output_type": "execute_result",
          "data": {
            "text/plain": [
              "<keras.callbacks.History at 0x7fe33c6524a0>"
            ]
          },
          "metadata": {},
          "execution_count": 90
        }
      ]
    },
    {
      "cell_type": "code",
      "source": [
        "#Task 3: Test the model with random data\n",
        "ypred = model.predict(xtest)"
      ],
      "metadata": {
        "colab": {
          "base_uri": "https://localhost:8080/"
        },
        "id": "syTeg2IdS2aw",
        "outputId": "02a26ad4-2016-4e38-b745-6fff9c4118a0"
      },
      "execution_count": 91,
      "outputs": [
        {
          "output_type": "stream",
          "name": "stderr",
          "text": [
            "WARNING:tensorflow:5 out of the last 11 calls to <function Model.make_predict_function.<locals>.predict_function at 0x7fe33c6d0940> triggered tf.function retracing. Tracing is expensive and the excessive number of tracings could be due to (1) creating @tf.function repeatedly in a loop, (2) passing tensors with different shapes, (3) passing Python objects instead of tensors. For (1), please define your @tf.function outside of the loop. For (2), @tf.function has reduce_retracing=True option that can avoid unnecessary retracing. For (3), please refer to https://www.tensorflow.org/guide/function#controlling_retracing and https://www.tensorflow.org/api_docs/python/tf/function for  more details.\n"
          ]
        },
        {
          "output_type": "stream",
          "name": "stdout",
          "text": [
            "2/2 [==============================] - 0s 8ms/step\n"
          ]
        }
      ]
    },
    {
      "cell_type": "code",
      "source": [
        "#ypred = model.predict([[[[[23,2,2,1,25.355]]]]])\n",
        "\n",
        "test_loss, test_acc = model.evaluate(xtest, ytest)\n",
        "print('Test accuracy:', test_acc * 100)"
      ],
      "metadata": {
        "colab": {
          "base_uri": "https://localhost:8080/"
        },
        "id": "Jf9MJW8NTJ5w",
        "outputId": "77d51d13-c499-4091-fd9c-397c99d45404"
      },
      "execution_count": 92,
      "outputs": [
        {
          "output_type": "stream",
          "name": "stdout",
          "text": [
            "2/2 [==============================] - 0s 9ms/step - loss: 0.2663 - accuracy: 0.9000\n",
            "Test accuracy: 89.99999761581421\n"
          ]
        }
      ]
    },
    {
      "cell_type": "code",
      "source": [
        "random_data = np.array([[56,0, 1, 0, 11.567]])  # Example random data\n",
        "random_data_scaled = scaler.transform(random_data)\n",
        "prediction = model.predict(random_data_scaled)\n",
        "predicted_class_index = np.argmax(prediction)\n",
        "predicted_class = le.inverse_transform([predicted_class_index])\n",
        "\n",
        "print('Predicted class:', predicted_class[0])"
      ],
      "metadata": {
        "colab": {
          "base_uri": "https://localhost:8080/"
        },
        "id": "z6NsD8OlqKgd",
        "outputId": "3e0a6dd0-8700-4f6e-a7d9-e00c25e5e4b7"
      },
      "execution_count": 100,
      "outputs": [
        {
          "output_type": "stream",
          "name": "stdout",
          "text": [
            "1/1 [==============================] - 0s 27ms/step\n",
            "Predicted class: drugC\n"
          ]
        }
      ]
    },
    {
      "cell_type": "code",
      "source": [
        "random_data = np.array([[23,1,2,1,25.355]])  # Example random data\n",
        "random_data_scaled = scaler.transform(random_data)\n",
        "prediction = model.predict(random_data_scaled)\n",
        "predicted_class_index = np.argmax(prediction)\n",
        "predicted_class = le.inverse_transform([predicted_class_index])\n",
        "\n",
        "print('Predicted class:', predicted_class[0])"
      ],
      "metadata": {
        "colab": {
          "base_uri": "https://localhost:8080/"
        },
        "id": "4GPYFwEDrHv-",
        "outputId": "0334b341-e026-4760-f3d6-a7bb2a15b093"
      },
      "execution_count": 96,
      "outputs": [
        {
          "output_type": "stream",
          "name": "stdout",
          "text": [
            "1/1 [==============================] - 0s 24ms/step\n",
            "Predicted class: DrugY\n"
          ]
        }
      ]
    },
    {
      "cell_type": "code",
      "source": [
        "random_data = np.array([[47, 0, 1, 1, 1.3]])  # Example random data\n",
        "random_data_scaled = scaler.transform(random_data)\n",
        "prediction = model.predict(random_data_scaled)\n",
        "predicted_class_index = np.argmax(prediction)\n",
        "predicted_class = le.inverse_transform([predicted_class_index])\n",
        "\n",
        "print('Predicted class:', predicted_class[0])"
      ],
      "metadata": {
        "colab": {
          "base_uri": "https://localhost:8080/"
        },
        "id": "D5QfJQ3NlsQR",
        "outputId": "a8f0f008-b189-45e9-a2e9-cf84e52d3cbe"
      },
      "execution_count": 97,
      "outputs": [
        {
          "output_type": "stream",
          "name": "stdout",
          "text": [
            "1/1 [==============================] - 0s 22ms/step\n",
            "Predicted class: drugX\n"
          ]
        }
      ]
    },
    {
      "cell_type": "code",
      "source": [
        "random_data = np.array([[56,0, 1, 0, 11.567]])  # Example random data\n",
        "random_data_scaled = scaler.transform(random_data)\n",
        "prediction = model.predict(random_data_scaled)\n",
        "predicted_class_index = np.argmax(prediction)\n",
        "predicted_class = le.inverse_transform([predicted_class_index])\n",
        "\n",
        "print('Predicted class:', predicted_class[0])"
      ],
      "metadata": {
        "colab": {
          "base_uri": "https://localhost:8080/"
        },
        "id": "W9GgG_A4t_fX",
        "outputId": "e557c1a2-41bb-4f98-f7cc-30b30445e84e"
      },
      "execution_count": 101,
      "outputs": [
        {
          "output_type": "stream",
          "name": "stdout",
          "text": [
            "1/1 [==============================] - 0s 35ms/step\n",
            "Predicted class: drugC\n"
          ]
        }
      ]
    },
    {
      "cell_type": "code",
      "source": [
        "random_data = np.array([[43,1, 0, 0, 15.567]])  # Example random data\n",
        "random_data_scaled = scaler.transform(random_data)\n",
        "prediction = model.predict(random_data_scaled)\n",
        "predicted_class_index = np.argmax(prediction)\n",
        "predicted_class = le.inverse_transform([predicted_class_index])\n",
        "\n",
        "print('Predicted class:', predicted_class[0])"
      ],
      "metadata": {
        "colab": {
          "base_uri": "https://localhost:8080/"
        },
        "id": "RW2hkaAJuShr",
        "outputId": "f987e143-68db-469b-9be8-5ee64463a08a"
      },
      "execution_count": 105,
      "outputs": [
        {
          "output_type": "stream",
          "name": "stdout",
          "text": [
            "1/1 [==============================] - 0s 23ms/step\n",
            "Predicted class: drugA\n"
          ]
        }
      ]
    }
  ]
}