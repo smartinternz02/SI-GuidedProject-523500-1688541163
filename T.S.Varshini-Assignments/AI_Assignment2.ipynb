{
 "cells": [
  {
   "cell_type": "markdown",
   "id": "5c6a9f29",
   "metadata": {},
   "source": [
    "T.S.Varshini : VIT Chennai (20BRS1125) : varshini.ts2020@vitstudent.ac.in : 9003064047"
   ]
  },
  {
   "cell_type": "markdown",
   "id": "97a01cbb",
   "metadata": {},
   "source": [
    "Build an ANN model for Drug classification. \n",
    "\n",
    "This project aims to analyze the relationship between various medical parameters and drug effectiveness. The dataset consists of patient information, including age, sex, blood pressure levels (BP), cholesterol levels, sodium-to-potassium ratio (Na_to_K), drug type, and corresponding labels. The goal is to develop a model that can accurately predict the class or category of a given drug based on its features. \n",
    "\n",
    "Dataset Link: https://www.kaggle.com/datasets/prathamtripathi/drug-classification\n"
   ]
  },
  {
   "cell_type": "code",
   "execution_count": 1,
   "id": "3e93aee0",
   "metadata": {},
   "outputs": [],
   "source": [
    "# importing the required lib\n",
    "\n",
    "import numpy as np\n",
    "import pandas as pd\n",
    "import matplotlib.pyplot as plt\n",
    "import seaborn as sns"
   ]
  },
  {
   "cell_type": "markdown",
   "id": "89f486f6",
   "metadata": {},
   "source": [
    "Task 1: Read the dataset and do data pre-processing"
   ]
  },
  {
   "cell_type": "code",
   "execution_count": 2,
   "id": "4201bf7b",
   "metadata": {},
   "outputs": [
    {
     "data": {
      "text/html": [
       "<div>\n",
       "<style scoped>\n",
       "    .dataframe tbody tr th:only-of-type {\n",
       "        vertical-align: middle;\n",
       "    }\n",
       "\n",
       "    .dataframe tbody tr th {\n",
       "        vertical-align: top;\n",
       "    }\n",
       "\n",
       "    .dataframe thead th {\n",
       "        text-align: right;\n",
       "    }\n",
       "</style>\n",
       "<table border=\"1\" class=\"dataframe\">\n",
       "  <thead>\n",
       "    <tr style=\"text-align: right;\">\n",
       "      <th></th>\n",
       "      <th>Age</th>\n",
       "      <th>Sex</th>\n",
       "      <th>BP</th>\n",
       "      <th>Cholesterol</th>\n",
       "      <th>Na_to_K</th>\n",
       "      <th>Drug</th>\n",
       "    </tr>\n",
       "  </thead>\n",
       "  <tbody>\n",
       "    <tr>\n",
       "      <th>0</th>\n",
       "      <td>23</td>\n",
       "      <td>F</td>\n",
       "      <td>HIGH</td>\n",
       "      <td>HIGH</td>\n",
       "      <td>25.355</td>\n",
       "      <td>DrugY</td>\n",
       "    </tr>\n",
       "    <tr>\n",
       "      <th>1</th>\n",
       "      <td>47</td>\n",
       "      <td>M</td>\n",
       "      <td>LOW</td>\n",
       "      <td>HIGH</td>\n",
       "      <td>13.093</td>\n",
       "      <td>drugC</td>\n",
       "    </tr>\n",
       "    <tr>\n",
       "      <th>2</th>\n",
       "      <td>47</td>\n",
       "      <td>M</td>\n",
       "      <td>LOW</td>\n",
       "      <td>HIGH</td>\n",
       "      <td>10.114</td>\n",
       "      <td>drugC</td>\n",
       "    </tr>\n",
       "    <tr>\n",
       "      <th>3</th>\n",
       "      <td>28</td>\n",
       "      <td>F</td>\n",
       "      <td>NORMAL</td>\n",
       "      <td>HIGH</td>\n",
       "      <td>7.798</td>\n",
       "      <td>drugX</td>\n",
       "    </tr>\n",
       "    <tr>\n",
       "      <th>4</th>\n",
       "      <td>61</td>\n",
       "      <td>F</td>\n",
       "      <td>LOW</td>\n",
       "      <td>HIGH</td>\n",
       "      <td>18.043</td>\n",
       "      <td>DrugY</td>\n",
       "    </tr>\n",
       "  </tbody>\n",
       "</table>\n",
       "</div>"
      ],
      "text/plain": [
       "   Age Sex      BP Cholesterol  Na_to_K   Drug\n",
       "0   23   F    HIGH        HIGH   25.355  DrugY\n",
       "1   47   M     LOW        HIGH   13.093  drugC\n",
       "2   47   M     LOW        HIGH   10.114  drugC\n",
       "3   28   F  NORMAL        HIGH    7.798  drugX\n",
       "4   61   F     LOW        HIGH   18.043  DrugY"
      ]
     },
     "execution_count": 2,
     "metadata": {},
     "output_type": "execute_result"
    }
   ],
   "source": [
    "# Reading the csv file\n",
    "\n",
    "df = pd.read_csv('AI_Assignment2_drug200.csv')\n",
    "\n",
    "# Visualizing the 1st 5 observations\n",
    "\n",
    "df.head()"
   ]
  },
  {
   "cell_type": "code",
   "execution_count": 3,
   "id": "27dd882a",
   "metadata": {},
   "outputs": [
    {
     "data": {
      "text/plain": [
       "Age            0\n",
       "Sex            0\n",
       "BP             0\n",
       "Cholesterol    0\n",
       "Na_to_K        0\n",
       "Drug           0\n",
       "dtype: int64"
      ]
     },
     "execution_count": 3,
     "metadata": {},
     "output_type": "execute_result"
    }
   ],
   "source": [
    "# Check the null values\n",
    "\n",
    "df.isnull().sum()"
   ]
  },
  {
   "cell_type": "code",
   "execution_count": 4,
   "id": "0c22a44f",
   "metadata": {},
   "outputs": [
    {
     "name": "stdout",
     "output_type": "stream",
     "text": [
      "<class 'pandas.core.frame.DataFrame'>\n",
      "RangeIndex: 200 entries, 0 to 199\n",
      "Data columns (total 6 columns):\n",
      " #   Column       Non-Null Count  Dtype  \n",
      "---  ------       --------------  -----  \n",
      " 0   Age          200 non-null    int64  \n",
      " 1   Sex          200 non-null    object \n",
      " 2   BP           200 non-null    object \n",
      " 3   Cholesterol  200 non-null    object \n",
      " 4   Na_to_K      200 non-null    float64\n",
      " 5   Drug         200 non-null    object \n",
      "dtypes: float64(1), int64(1), object(4)\n",
      "memory usage: 9.5+ KB\n"
     ]
    }
   ],
   "source": [
    "df.info()"
   ]
  },
  {
   "cell_type": "code",
   "execution_count": 5,
   "id": "a1f192fb",
   "metadata": {},
   "outputs": [
    {
     "data": {
      "text/plain": [
       "<AxesSubplot: >"
      ]
     },
     "execution_count": 5,
     "metadata": {},
     "output_type": "execute_result"
    },
    {
     "data": {
      "image/png": "[encoded data removed]",
      "text/plain": [
       "<Figure size 640x480 with 1 Axes>"
      ]
     },
     "metadata": {},
     "output_type": "display_data"
    }
   ],
   "source": [
    "# Checking for outliers for column Age\n",
    "\n",
    "sns.boxplot(df['Age'])"
   ]
  },
  {
   "cell_type": "code",
   "execution_count": 6,
   "id": "6698b3fa",
   "metadata": {},
   "outputs": [
    {
     "data": {
      "text/plain": [
       "<AxesSubplot: >"
      ]
     },
     "execution_count": 6,
     "metadata": {},
     "output_type": "execute_result"
    },
    {
     "data": {
      "image/png": "[encoded data removed]",
      "text/plain": [
       "<Figure size 640x480 with 1 Axes>"
      ]
     },
     "metadata": {},
     "output_type": "display_data"
    }
   ],
   "source": [
    "# Checking for outliers for cloumn Na_to_K\n",
    "\n",
    "sns.boxplot(df['Na_to_K'])"
   ]
  },
  {
   "cell_type": "code",
   "execution_count": 7,
   "id": "5178d53f",
   "metadata": {},
   "outputs": [
    {
     "name": "stdout",
     "output_type": "stream",
     "text": [
      "q1:  10.4455\n",
      "q3:  19.38\n",
      "IQR:  8.9345\n",
      "Median:  13.9365\n"
     ]
    }
   ],
   "source": [
    "# Replacement of outliers in column Na_to_K with median\n",
    "\n",
    "q1 = df.Na_to_K.quantile(.25)\n",
    "q3 = df.Na_to_K.quantile(.75)\n",
    "IQR = q3 - q1\n",
    "print(\"q1: \",q1)\n",
    "print(\"q3: \",q3)\n",
    "print(\"IQR: \",IQR)\n",
    "\n",
    "u_limit = q3+1.5*IQR\n",
    "l_limit = q1-1.5*IQR\n",
    "\n",
    "m = df['Na_to_K'].median()\n",
    "print('Median: ',m)\n",
    "\n",
    "#df['Na_to_K'] = np.where(df['Na_to_K']>u_limit,m-1,df['Na_to_K'])"
   ]
  },
  {
   "cell_type": "code",
   "execution_count": 8,
   "id": "6507eb4d",
   "metadata": {},
   "outputs": [],
   "source": [
    "df['Na_to_K'] = np.where(df['Na_to_K']>u_limit,u_limit-1,df['Na_to_K'])"
   ]
  },
  {
   "cell_type": "code",
   "execution_count": 9,
   "id": "3a4c9dc1",
   "metadata": {},
   "outputs": [
    {
     "data": {
      "text/plain": [
       "<AxesSubplot: >"
      ]
     },
     "execution_count": 9,
     "metadata": {},
     "output_type": "execute_result"
    },
    {
     "data": {
      "image/png": "[encoded data removed]",
      "text/plain": [
       "<Figure size 640x480 with 1 Axes>"
      ]
     },
     "metadata": {},
     "output_type": "display_data"
    }
   ],
   "source": [
    "# Checking for outliers for cloumn Na_to_K\n",
    "\n",
    "sns.boxplot(df['Na_to_K'])"
   ]
  },
  {
   "cell_type": "code",
   "execution_count": 10,
   "id": "4dcab6e4",
   "metadata": {},
   "outputs": [
    {
     "name": "stdout",
     "output_type": "stream",
     "text": [
      "['F' 'M']\n",
      "M    104\n",
      "F     96\n",
      "Name: Sex, dtype: int64\n",
      "['HIGH' 'LOW' 'NORMAL']\n",
      "HIGH      77\n",
      "LOW       64\n",
      "NORMAL    59\n",
      "Name: BP, dtype: int64\n",
      "['HIGH' 'NORMAL']\n",
      "HIGH      103\n",
      "NORMAL     97\n",
      "Name: Cholesterol, dtype: int64\n",
      "['DrugY' 'drugC' 'drugX' 'drugA' 'drugB']\n",
      "DrugY    91\n",
      "drugX    54\n",
      "drugA    23\n",
      "drugC    16\n",
      "drugB    16\n",
      "Name: Drug, dtype: int64\n"
     ]
    }
   ],
   "source": [
    "# Finding unique category and value_counts of column Sex\n",
    "\n",
    "print(df['Sex'].unique())\n",
    "print(df['Sex'].value_counts())\n",
    "\n",
    "# Finding unique category and value_counts of column BP\n",
    "\n",
    "print(df['BP'].unique())\n",
    "print(df['BP'].value_counts())\n",
    "\n",
    "# Finding unique category and value_counts of column Cholesterol\n",
    "\n",
    "print(df['Cholesterol'].unique())\n",
    "print(df['Cholesterol'].value_counts())\n",
    "\n",
    "# Finding unique category and value_counts of column Drug\n",
    "\n",
    "print(df['Drug'].unique())\n",
    "print(df['Drug'].value_counts())"
   ]
  },
  {
   "cell_type": "code",
   "execution_count": 11,
   "id": "003479ce",
   "metadata": {},
   "outputs": [],
   "source": [
    "from sklearn.preprocessing import LabelEncoder\n",
    "from tensorflow.keras.utils import to_categorical"
   ]
  },
  {
   "cell_type": "code",
   "execution_count": 12,
   "id": "f59d80c3",
   "metadata": {},
   "outputs": [
    {
     "data": {
      "text/html": [
       "<div>\n",
       "<style scoped>\n",
       "    .dataframe tbody tr th:only-of-type {\n",
       "        vertical-align: middle;\n",
       "    }\n",
       "\n",
       "    .dataframe tbody tr th {\n",
       "        vertical-align: top;\n",
       "    }\n",
       "\n",
       "    .dataframe thead th {\n",
       "        text-align: right;\n",
       "    }\n",
       "</style>\n",
       "<table border=\"1\" class=\"dataframe\">\n",
       "  <thead>\n",
       "    <tr style=\"text-align: right;\">\n",
       "      <th></th>\n",
       "      <th>Age</th>\n",
       "      <th>Sex</th>\n",
       "      <th>BP</th>\n",
       "      <th>Cholesterol</th>\n",
       "      <th>Na_to_K</th>\n",
       "      <th>Drug</th>\n",
       "    </tr>\n",
       "  </thead>\n",
       "  <tbody>\n",
       "    <tr>\n",
       "      <th>0</th>\n",
       "      <td>23</td>\n",
       "      <td>0</td>\n",
       "      <td>0</td>\n",
       "      <td>0</td>\n",
       "      <td>25.355</td>\n",
       "      <td>0</td>\n",
       "    </tr>\n",
       "    <tr>\n",
       "      <th>1</th>\n",
       "      <td>47</td>\n",
       "      <td>1</td>\n",
       "      <td>1</td>\n",
       "      <td>0</td>\n",
       "      <td>13.093</td>\n",
       "      <td>3</td>\n",
       "    </tr>\n",
       "    <tr>\n",
       "      <th>2</th>\n",
       "      <td>47</td>\n",
       "      <td>1</td>\n",
       "      <td>1</td>\n",
       "      <td>0</td>\n",
       "      <td>10.114</td>\n",
       "      <td>3</td>\n",
       "    </tr>\n",
       "    <tr>\n",
       "      <th>3</th>\n",
       "      <td>28</td>\n",
       "      <td>0</td>\n",
       "      <td>2</td>\n",
       "      <td>0</td>\n",
       "      <td>7.798</td>\n",
       "      <td>4</td>\n",
       "    </tr>\n",
       "    <tr>\n",
       "      <th>4</th>\n",
       "      <td>61</td>\n",
       "      <td>0</td>\n",
       "      <td>1</td>\n",
       "      <td>0</td>\n",
       "      <td>18.043</td>\n",
       "      <td>0</td>\n",
       "    </tr>\n",
       "    <tr>\n",
       "      <th>...</th>\n",
       "      <td>...</td>\n",
       "      <td>...</td>\n",
       "      <td>...</td>\n",
       "      <td>...</td>\n",
       "      <td>...</td>\n",
       "      <td>...</td>\n",
       "    </tr>\n",
       "    <tr>\n",
       "      <th>195</th>\n",
       "      <td>56</td>\n",
       "      <td>0</td>\n",
       "      <td>1</td>\n",
       "      <td>0</td>\n",
       "      <td>11.567</td>\n",
       "      <td>3</td>\n",
       "    </tr>\n",
       "    <tr>\n",
       "      <th>196</th>\n",
       "      <td>16</td>\n",
       "      <td>1</td>\n",
       "      <td>1</td>\n",
       "      <td>0</td>\n",
       "      <td>12.006</td>\n",
       "      <td>3</td>\n",
       "    </tr>\n",
       "    <tr>\n",
       "      <th>197</th>\n",
       "      <td>52</td>\n",
       "      <td>1</td>\n",
       "      <td>2</td>\n",
       "      <td>0</td>\n",
       "      <td>9.894</td>\n",
       "      <td>4</td>\n",
       "    </tr>\n",
       "    <tr>\n",
       "      <th>198</th>\n",
       "      <td>23</td>\n",
       "      <td>1</td>\n",
       "      <td>2</td>\n",
       "      <td>1</td>\n",
       "      <td>14.020</td>\n",
       "      <td>4</td>\n",
       "    </tr>\n",
       "    <tr>\n",
       "      <th>199</th>\n",
       "      <td>40</td>\n",
       "      <td>0</td>\n",
       "      <td>1</td>\n",
       "      <td>1</td>\n",
       "      <td>11.349</td>\n",
       "      <td>4</td>\n",
       "    </tr>\n",
       "  </tbody>\n",
       "</table>\n",
       "<p>200 rows × 6 columns</p>\n",
       "</div>"
      ],
      "text/plain": [
       "     Age  Sex  BP  Cholesterol  Na_to_K  Drug\n",
       "0     23    0   0            0   25.355     0\n",
       "1     47    1   1            0   13.093     3\n",
       "2     47    1   1            0   10.114     3\n",
       "3     28    0   2            0    7.798     4\n",
       "4     61    0   1            0   18.043     0\n",
       "..   ...  ...  ..          ...      ...   ...\n",
       "195   56    0   1            0   11.567     3\n",
       "196   16    1   1            0   12.006     3\n",
       "197   52    1   2            0    9.894     4\n",
       "198   23    1   2            1   14.020     4\n",
       "199   40    0   1            1   11.349     4\n",
       "\n",
       "[200 rows x 6 columns]"
      ]
     },
     "execution_count": 12,
     "metadata": {},
     "output_type": "execute_result"
    }
   ],
   "source": [
    "# Label encoding columns of Sex, BP, Cholesterol\n",
    "df_copy = df.copy(deep=True)\n",
    "'''\n",
    "df_copy['Sex'] = df_copy['Sex'].replace({'F':0,'M':1})\n",
    "df_copy['BP'] = df_copy['BP'].replace({'HIGH':0,'LOW':1,'NORMAL':2})\n",
    "df_copy['Cholesterol'] = df_copy['Cholesterol'].replace({'HIGH':0,'NORMAL':1})\n",
    "'''\n",
    "le = LabelEncoder()\n",
    "df_copy['Sex'] = le.fit_transform(df_copy['Sex'])\n",
    "df_copy['BP'] = le.fit_transform(df_copy['BP'])\n",
    "df_copy['Cholesterol'] = le.fit_transform(df_copy['Cholesterol'])\n",
    "df_copy['Drug'] = le.fit_transform(df_copy['Drug'])\n",
    "df_copy"
   ]
  },
  {
   "cell_type": "code",
   "execution_count": 13,
   "id": "1764f637",
   "metadata": {},
   "outputs": [
    {
     "data": {
      "text/html": [
       "<div>\n",
       "<style scoped>\n",
       "    .dataframe tbody tr th:only-of-type {\n",
       "        vertical-align: middle;\n",
       "    }\n",
       "\n",
       "    .dataframe tbody tr th {\n",
       "        vertical-align: top;\n",
       "    }\n",
       "\n",
       "    .dataframe thead th {\n",
       "        text-align: right;\n",
       "    }\n",
       "</style>\n",
       "<table border=\"1\" class=\"dataframe\">\n",
       "  <thead>\n",
       "    <tr style=\"text-align: right;\">\n",
       "      <th></th>\n",
       "      <th>Age</th>\n",
       "      <th>Sex</th>\n",
       "      <th>BP</th>\n",
       "      <th>Cholesterol</th>\n",
       "      <th>Na_to_K</th>\n",
       "      <th>Drug</th>\n",
       "    </tr>\n",
       "  </thead>\n",
       "  <tbody>\n",
       "    <tr>\n",
       "      <th>0</th>\n",
       "      <td>23</td>\n",
       "      <td>F</td>\n",
       "      <td>HIGH</td>\n",
       "      <td>HIGH</td>\n",
       "      <td>25.355</td>\n",
       "      <td>DrugY</td>\n",
       "    </tr>\n",
       "    <tr>\n",
       "      <th>1</th>\n",
       "      <td>47</td>\n",
       "      <td>M</td>\n",
       "      <td>LOW</td>\n",
       "      <td>HIGH</td>\n",
       "      <td>13.093</td>\n",
       "      <td>drugC</td>\n",
       "    </tr>\n",
       "    <tr>\n",
       "      <th>2</th>\n",
       "      <td>47</td>\n",
       "      <td>M</td>\n",
       "      <td>LOW</td>\n",
       "      <td>HIGH</td>\n",
       "      <td>10.114</td>\n",
       "      <td>drugC</td>\n",
       "    </tr>\n",
       "    <tr>\n",
       "      <th>3</th>\n",
       "      <td>28</td>\n",
       "      <td>F</td>\n",
       "      <td>NORMAL</td>\n",
       "      <td>HIGH</td>\n",
       "      <td>7.798</td>\n",
       "      <td>drugX</td>\n",
       "    </tr>\n",
       "    <tr>\n",
       "      <th>4</th>\n",
       "      <td>61</td>\n",
       "      <td>F</td>\n",
       "      <td>LOW</td>\n",
       "      <td>HIGH</td>\n",
       "      <td>18.043</td>\n",
       "      <td>DrugY</td>\n",
       "    </tr>\n",
       "  </tbody>\n",
       "</table>\n",
       "</div>"
      ],
      "text/plain": [
       "   Age Sex      BP Cholesterol  Na_to_K   Drug\n",
       "0   23   F    HIGH        HIGH   25.355  DrugY\n",
       "1   47   M     LOW        HIGH   13.093  drugC\n",
       "2   47   M     LOW        HIGH   10.114  drugC\n",
       "3   28   F  NORMAL        HIGH    7.798  drugX\n",
       "4   61   F     LOW        HIGH   18.043  DrugY"
      ]
     },
     "execution_count": 13,
     "metadata": {},
     "output_type": "execute_result"
    }
   ],
   "source": [
    "df.head()"
   ]
  },
  {
   "cell_type": "code",
   "execution_count": 14,
   "id": "6343b40c",
   "metadata": {},
   "outputs": [
    {
     "data": {
      "text/plain": [
       "array([[23.     ,  0.     ,  0.     ,  0.     , 25.355  ],\n",
       "       [47.     ,  1.     ,  1.     ,  0.     , 13.093  ],\n",
       "       [47.     ,  1.     ,  1.     ,  0.     , 10.114  ],\n",
       "       [28.     ,  0.     ,  2.     ,  0.     ,  7.798  ],\n",
       "       [61.     ,  0.     ,  1.     ,  0.     , 18.043  ],\n",
       "       [22.     ,  0.     ,  2.     ,  0.     ,  8.607  ],\n",
       "       [49.     ,  0.     ,  2.     ,  0.     , 16.275  ],\n",
       "       [41.     ,  1.     ,  1.     ,  0.     , 11.037  ],\n",
       "       [60.     ,  1.     ,  2.     ,  0.     , 15.171  ],\n",
       "       [43.     ,  1.     ,  1.     ,  1.     , 19.368  ],\n",
       "       [47.     ,  0.     ,  1.     ,  0.     , 11.767  ],\n",
       "       [34.     ,  0.     ,  0.     ,  1.     , 19.199  ],\n",
       "       [43.     ,  1.     ,  1.     ,  0.     , 15.376  ],\n",
       "       [74.     ,  0.     ,  1.     ,  0.     , 20.942  ],\n",
       "       [50.     ,  0.     ,  2.     ,  0.     , 12.703  ],\n",
       "       [16.     ,  0.     ,  0.     ,  1.     , 15.516  ],\n",
       "       [69.     ,  1.     ,  1.     ,  1.     , 11.455  ],\n",
       "       [43.     ,  1.     ,  0.     ,  0.     , 13.972  ],\n",
       "       [23.     ,  1.     ,  1.     ,  0.     ,  7.298  ],\n",
       "       [32.     ,  0.     ,  0.     ,  1.     , 25.974  ],\n",
       "       [57.     ,  1.     ,  1.     ,  1.     , 19.128  ],\n",
       "       [63.     ,  1.     ,  2.     ,  0.     , 25.917  ],\n",
       "       [47.     ,  1.     ,  1.     ,  1.     , 30.568  ],\n",
       "       [48.     ,  0.     ,  1.     ,  0.     , 15.036  ],\n",
       "       [33.     ,  0.     ,  1.     ,  0.     , 31.78175],\n",
       "       [28.     ,  0.     ,  0.     ,  1.     , 18.809  ],\n",
       "       [31.     ,  1.     ,  0.     ,  0.     , 30.366  ],\n",
       "       [49.     ,  0.     ,  2.     ,  1.     ,  9.381  ],\n",
       "       [39.     ,  0.     ,  1.     ,  1.     , 22.697  ],\n",
       "       [45.     ,  1.     ,  1.     ,  0.     , 17.951  ],\n",
       "       [18.     ,  0.     ,  2.     ,  1.     ,  8.75   ],\n",
       "       [74.     ,  1.     ,  0.     ,  0.     ,  9.567  ],\n",
       "       [49.     ,  1.     ,  1.     ,  1.     , 11.014  ],\n",
       "       [65.     ,  0.     ,  0.     ,  1.     , 31.876  ],\n",
       "       [53.     ,  1.     ,  2.     ,  0.     , 14.133  ],\n",
       "       [46.     ,  1.     ,  2.     ,  1.     ,  7.285  ],\n",
       "       [32.     ,  1.     ,  0.     ,  1.     ,  9.445  ],\n",
       "       [39.     ,  1.     ,  1.     ,  1.     , 13.938  ],\n",
       "       [39.     ,  0.     ,  2.     ,  1.     ,  9.709  ],\n",
       "       [15.     ,  1.     ,  2.     ,  0.     ,  9.084  ],\n",
       "       [73.     ,  0.     ,  2.     ,  0.     , 19.221  ],\n",
       "       [58.     ,  0.     ,  0.     ,  1.     , 14.239  ],\n",
       "       [50.     ,  1.     ,  2.     ,  1.     , 15.79   ],\n",
       "       [23.     ,  1.     ,  2.     ,  0.     , 12.26   ],\n",
       "       [50.     ,  0.     ,  2.     ,  1.     , 12.295  ],\n",
       "       [66.     ,  0.     ,  2.     ,  1.     ,  8.107  ],\n",
       "       [37.     ,  0.     ,  0.     ,  0.     , 13.091  ],\n",
       "       [68.     ,  1.     ,  1.     ,  0.     , 10.291  ],\n",
       "       [23.     ,  1.     ,  2.     ,  0.     , 31.686  ],\n",
       "       [28.     ,  0.     ,  1.     ,  0.     , 19.796  ],\n",
       "       [58.     ,  0.     ,  0.     ,  0.     , 19.416  ],\n",
       "       [67.     ,  1.     ,  2.     ,  1.     , 10.898  ],\n",
       "       [62.     ,  1.     ,  1.     ,  1.     , 27.183  ],\n",
       "       [24.     ,  0.     ,  0.     ,  1.     , 18.457  ],\n",
       "       [68.     ,  0.     ,  0.     ,  1.     , 10.189  ],\n",
       "       [26.     ,  0.     ,  1.     ,  0.     , 14.16   ],\n",
       "       [65.     ,  1.     ,  0.     ,  1.     , 11.34   ],\n",
       "       [40.     ,  1.     ,  0.     ,  0.     , 27.826  ],\n",
       "       [60.     ,  1.     ,  2.     ,  1.     , 10.091  ],\n",
       "       [34.     ,  1.     ,  0.     ,  0.     , 18.703  ],\n",
       "       [38.     ,  0.     ,  1.     ,  1.     , 29.875  ],\n",
       "       [24.     ,  1.     ,  0.     ,  1.     ,  9.475  ],\n",
       "       [67.     ,  1.     ,  1.     ,  1.     , 20.693  ],\n",
       "       [45.     ,  1.     ,  1.     ,  1.     ,  8.37   ],\n",
       "       [60.     ,  0.     ,  0.     ,  0.     , 13.303  ],\n",
       "       [68.     ,  0.     ,  2.     ,  1.     , 27.05   ],\n",
       "       [29.     ,  1.     ,  0.     ,  0.     , 12.856  ],\n",
       "       [17.     ,  1.     ,  2.     ,  1.     , 10.832  ],\n",
       "       [54.     ,  1.     ,  2.     ,  0.     , 24.658  ],\n",
       "       [18.     ,  0.     ,  0.     ,  1.     , 24.276  ],\n",
       "       [70.     ,  1.     ,  0.     ,  0.     , 13.967  ],\n",
       "       [28.     ,  0.     ,  2.     ,  0.     , 19.675  ],\n",
       "       [24.     ,  0.     ,  2.     ,  0.     , 10.605  ],\n",
       "       [41.     ,  0.     ,  2.     ,  1.     , 22.905  ],\n",
       "       [31.     ,  1.     ,  0.     ,  1.     , 17.069  ],\n",
       "       [26.     ,  1.     ,  1.     ,  1.     , 20.909  ],\n",
       "       [36.     ,  0.     ,  0.     ,  0.     , 11.198  ],\n",
       "       [26.     ,  0.     ,  0.     ,  1.     , 19.161  ],\n",
       "       [19.     ,  0.     ,  0.     ,  0.     , 13.313  ],\n",
       "       [32.     ,  0.     ,  1.     ,  1.     , 10.84   ],\n",
       "       [60.     ,  1.     ,  0.     ,  0.     , 13.934  ],\n",
       "       [64.     ,  1.     ,  2.     ,  0.     ,  7.761  ],\n",
       "       [32.     ,  0.     ,  1.     ,  0.     ,  9.712  ],\n",
       "       [38.     ,  0.     ,  0.     ,  1.     , 11.326  ],\n",
       "       [47.     ,  0.     ,  1.     ,  0.     , 10.067  ],\n",
       "       [59.     ,  1.     ,  0.     ,  0.     , 13.935  ],\n",
       "       [51.     ,  0.     ,  2.     ,  0.     , 13.597  ],\n",
       "       [69.     ,  1.     ,  1.     ,  0.     , 15.478  ],\n",
       "       [37.     ,  0.     ,  0.     ,  1.     , 23.091  ],\n",
       "       [50.     ,  0.     ,  2.     ,  1.     , 17.211  ],\n",
       "       [62.     ,  1.     ,  2.     ,  0.     , 16.594  ],\n",
       "       [41.     ,  1.     ,  0.     ,  1.     , 15.156  ],\n",
       "       [29.     ,  0.     ,  0.     ,  0.     , 29.45   ],\n",
       "       [42.     ,  0.     ,  1.     ,  1.     , 29.271  ],\n",
       "       [56.     ,  1.     ,  1.     ,  0.     , 15.015  ],\n",
       "       [36.     ,  1.     ,  1.     ,  1.     , 11.424  ],\n",
       "       [58.     ,  0.     ,  1.     ,  0.     , 31.78175],\n",
       "       [56.     ,  0.     ,  0.     ,  0.     , 25.395  ],\n",
       "       [20.     ,  1.     ,  0.     ,  1.     , 31.78175],\n",
       "       [15.     ,  0.     ,  0.     ,  1.     , 16.725  ],\n",
       "       [31.     ,  1.     ,  0.     ,  1.     , 11.871  ],\n",
       "       [45.     ,  0.     ,  0.     ,  0.     , 12.854  ],\n",
       "       [28.     ,  0.     ,  1.     ,  0.     , 13.127  ],\n",
       "       [56.     ,  1.     ,  2.     ,  0.     ,  8.966  ],\n",
       "       [22.     ,  1.     ,  0.     ,  1.     , 28.294  ],\n",
       "       [37.     ,  1.     ,  1.     ,  1.     ,  8.968  ],\n",
       "       [22.     ,  1.     ,  2.     ,  0.     , 11.953  ],\n",
       "       [42.     ,  1.     ,  1.     ,  0.     , 20.013  ],\n",
       "       [72.     ,  1.     ,  0.     ,  1.     ,  9.677  ],\n",
       "       [23.     ,  1.     ,  2.     ,  0.     , 16.85   ],\n",
       "       [50.     ,  1.     ,  0.     ,  0.     ,  7.49   ],\n",
       "       [47.     ,  0.     ,  2.     ,  1.     ,  6.683  ],\n",
       "       [35.     ,  1.     ,  1.     ,  1.     ,  9.17   ],\n",
       "       [65.     ,  0.     ,  1.     ,  1.     , 13.769  ],\n",
       "       [20.     ,  0.     ,  2.     ,  1.     ,  9.281  ],\n",
       "       [51.     ,  1.     ,  0.     ,  0.     , 18.295  ],\n",
       "       [67.     ,  1.     ,  2.     ,  1.     ,  9.514  ],\n",
       "       [40.     ,  0.     ,  2.     ,  0.     , 10.103  ],\n",
       "       [32.     ,  0.     ,  0.     ,  1.     , 10.292  ],\n",
       "       [61.     ,  0.     ,  0.     ,  0.     , 25.475  ],\n",
       "       [28.     ,  1.     ,  2.     ,  0.     , 27.064  ],\n",
       "       [15.     ,  1.     ,  0.     ,  1.     , 17.206  ],\n",
       "       [34.     ,  1.     ,  2.     ,  0.     , 22.456  ],\n",
       "       [36.     ,  0.     ,  2.     ,  0.     , 16.753  ],\n",
       "       [53.     ,  0.     ,  0.     ,  1.     , 12.495  ],\n",
       "       [19.     ,  0.     ,  0.     ,  1.     , 25.969  ],\n",
       "       [66.     ,  1.     ,  0.     ,  0.     , 16.347  ],\n",
       "       [35.     ,  1.     ,  2.     ,  1.     ,  7.845  ],\n",
       "       [47.     ,  1.     ,  1.     ,  1.     , 31.78175],\n",
       "       [32.     ,  0.     ,  2.     ,  0.     ,  7.477  ],\n",
       "       [70.     ,  0.     ,  2.     ,  0.     , 20.489  ],\n",
       "       [52.     ,  1.     ,  1.     ,  1.     , 31.78175],\n",
       "       [49.     ,  1.     ,  1.     ,  1.     , 13.598  ],\n",
       "       [24.     ,  1.     ,  2.     ,  0.     , 25.786  ],\n",
       "       [42.     ,  0.     ,  0.     ,  0.     , 21.036  ],\n",
       "       [74.     ,  1.     ,  1.     ,  1.     , 11.939  ],\n",
       "       [55.     ,  0.     ,  0.     ,  0.     , 10.977  ],\n",
       "       [35.     ,  0.     ,  0.     ,  0.     , 12.894  ],\n",
       "       [51.     ,  1.     ,  0.     ,  1.     , 11.343  ],\n",
       "       [69.     ,  0.     ,  2.     ,  0.     , 10.065  ],\n",
       "       [49.     ,  1.     ,  0.     ,  1.     ,  6.269  ],\n",
       "       [64.     ,  0.     ,  1.     ,  1.     , 25.741  ],\n",
       "       [60.     ,  1.     ,  0.     ,  1.     ,  8.621  ],\n",
       "       [74.     ,  1.     ,  0.     ,  1.     , 15.436  ],\n",
       "       [39.     ,  1.     ,  0.     ,  0.     ,  9.664  ],\n",
       "       [61.     ,  1.     ,  2.     ,  0.     ,  9.443  ],\n",
       "       [37.     ,  0.     ,  1.     ,  1.     , 12.006  ],\n",
       "       [26.     ,  0.     ,  0.     ,  1.     , 12.307  ],\n",
       "       [61.     ,  0.     ,  1.     ,  1.     ,  7.34   ],\n",
       "       [22.     ,  1.     ,  1.     ,  0.     ,  8.151  ],\n",
       "       [49.     ,  1.     ,  0.     ,  1.     ,  8.7    ],\n",
       "       [68.     ,  1.     ,  0.     ,  0.     , 11.009  ],\n",
       "       [55.     ,  1.     ,  2.     ,  1.     ,  7.261  ],\n",
       "       [72.     ,  0.     ,  1.     ,  1.     , 14.642  ],\n",
       "       [37.     ,  1.     ,  1.     ,  1.     , 16.724  ],\n",
       "       [49.     ,  1.     ,  1.     ,  0.     , 10.537  ],\n",
       "       [31.     ,  1.     ,  0.     ,  1.     , 11.227  ],\n",
       "       [53.     ,  1.     ,  1.     ,  0.     , 22.963  ],\n",
       "       [59.     ,  0.     ,  1.     ,  0.     , 10.444  ],\n",
       "       [34.     ,  0.     ,  1.     ,  1.     , 12.923  ],\n",
       "       [30.     ,  0.     ,  2.     ,  0.     , 10.443  ],\n",
       "       [57.     ,  0.     ,  0.     ,  1.     ,  9.945  ],\n",
       "       [43.     ,  1.     ,  2.     ,  1.     , 12.859  ],\n",
       "       [21.     ,  0.     ,  0.     ,  1.     , 28.632  ],\n",
       "       [16.     ,  1.     ,  0.     ,  1.     , 19.007  ],\n",
       "       [38.     ,  1.     ,  1.     ,  0.     , 18.295  ],\n",
       "       [58.     ,  0.     ,  1.     ,  0.     , 26.645  ],\n",
       "       [57.     ,  0.     ,  2.     ,  0.     , 14.216  ],\n",
       "       [51.     ,  0.     ,  1.     ,  1.     , 23.003  ],\n",
       "       [20.     ,  0.     ,  0.     ,  0.     , 11.262  ],\n",
       "       [28.     ,  0.     ,  2.     ,  0.     , 12.879  ],\n",
       "       [45.     ,  1.     ,  1.     ,  1.     , 10.017  ],\n",
       "       [39.     ,  0.     ,  2.     ,  1.     , 17.225  ],\n",
       "       [41.     ,  0.     ,  1.     ,  1.     , 18.739  ],\n",
       "       [42.     ,  1.     ,  0.     ,  1.     , 12.766  ],\n",
       "       [73.     ,  0.     ,  0.     ,  0.     , 18.348  ],\n",
       "       [48.     ,  1.     ,  0.     ,  1.     , 10.446  ],\n",
       "       [25.     ,  1.     ,  2.     ,  0.     , 19.011  ],\n",
       "       [39.     ,  1.     ,  2.     ,  0.     , 15.969  ],\n",
       "       [67.     ,  0.     ,  2.     ,  0.     , 15.891  ],\n",
       "       [22.     ,  0.     ,  0.     ,  1.     , 22.818  ],\n",
       "       [59.     ,  0.     ,  2.     ,  0.     , 13.884  ],\n",
       "       [20.     ,  0.     ,  1.     ,  1.     , 11.686  ],\n",
       "       [36.     ,  0.     ,  0.     ,  1.     , 15.49   ],\n",
       "       [18.     ,  0.     ,  0.     ,  0.     , 31.78175],\n",
       "       [57.     ,  0.     ,  2.     ,  1.     , 25.893  ],\n",
       "       [70.     ,  1.     ,  0.     ,  0.     ,  9.849  ],\n",
       "       [47.     ,  1.     ,  0.     ,  0.     , 10.403  ],\n",
       "       [65.     ,  1.     ,  0.     ,  1.     , 31.78175],\n",
       "       [64.     ,  1.     ,  0.     ,  1.     , 20.932  ],\n",
       "       [58.     ,  1.     ,  0.     ,  0.     , 18.991  ],\n",
       "       [23.     ,  1.     ,  0.     ,  0.     ,  8.011  ],\n",
       "       [72.     ,  1.     ,  1.     ,  0.     , 16.31   ],\n",
       "       [72.     ,  1.     ,  1.     ,  0.     ,  6.769  ],\n",
       "       [46.     ,  0.     ,  0.     ,  0.     , 31.78175],\n",
       "       [56.     ,  0.     ,  1.     ,  0.     , 11.567  ],\n",
       "       [16.     ,  1.     ,  1.     ,  0.     , 12.006  ],\n",
       "       [52.     ,  1.     ,  2.     ,  0.     ,  9.894  ],\n",
       "       [23.     ,  1.     ,  2.     ,  1.     , 14.02   ],\n",
       "       [40.     ,  0.     ,  1.     ,  1.     , 11.349  ]])"
      ]
     },
     "execution_count": 14,
     "metadata": {},
     "output_type": "execute_result"
    }
   ],
   "source": [
    "# Splitting the data\n",
    "x = df_copy[['Age','Sex','BP','Cholesterol','Na_to_K']].values\n",
    "#x = df_copy.iloc[:,0:5].values\n",
    "x\n"
   ]
  },
  {
   "cell_type": "code",
   "execution_count": 15,
   "id": "ca94155e",
   "metadata": {},
   "outputs": [
    {
     "data": {
      "text/plain": [
       "array([[0],\n",
       "       [3],\n",
       "       [3],\n",
       "       [4],\n",
       "       [0],\n",
       "       [4],\n",
       "       [0],\n",
       "       [3],\n",
       "       [0],\n",
       "       [0],\n",
       "       [3],\n",
       "       [0],\n",
       "       [0],\n",
       "       [0],\n",
       "       [4],\n",
       "       [0],\n",
       "       [4],\n",
       "       [1],\n",
       "       [3],\n",
       "       [0],\n",
       "       [0],\n",
       "       [0],\n",
       "       [0],\n",
       "       [0],\n",
       "       [0],\n",
       "       [0],\n",
       "       [0],\n",
       "       [4],\n",
       "       [0],\n",
       "       [0],\n",
       "       [4],\n",
       "       [2],\n",
       "       [4],\n",
       "       [0],\n",
       "       [4],\n",
       "       [4],\n",
       "       [1],\n",
       "       [4],\n",
       "       [4],\n",
       "       [4],\n",
       "       [0],\n",
       "       [2],\n",
       "       [0],\n",
       "       [4],\n",
       "       [4],\n",
       "       [4],\n",
       "       [1],\n",
       "       [3],\n",
       "       [0],\n",
       "       [0],\n",
       "       [0],\n",
       "       [4],\n",
       "       [0],\n",
       "       [0],\n",
       "       [2],\n",
       "       [3],\n",
       "       [2],\n",
       "       [0],\n",
       "       [4],\n",
       "       [0],\n",
       "       [0],\n",
       "       [1],\n",
       "       [0],\n",
       "       [4],\n",
       "       [2],\n",
       "       [0],\n",
       "       [1],\n",
       "       [4],\n",
       "       [0],\n",
       "       [0],\n",
       "       [2],\n",
       "       [0],\n",
       "       [4],\n",
       "       [0],\n",
       "       [0],\n",
       "       [0],\n",
       "       [1],\n",
       "       [0],\n",
       "       [1],\n",
       "       [4],\n",
       "       [2],\n",
       "       [4],\n",
       "       [3],\n",
       "       [1],\n",
       "       [3],\n",
       "       [2],\n",
       "       [4],\n",
       "       [0],\n",
       "       [0],\n",
       "       [0],\n",
       "       [0],\n",
       "       [0],\n",
       "       [0],\n",
       "       [0],\n",
       "       [0],\n",
       "       [4],\n",
       "       [0],\n",
       "       [0],\n",
       "       [0],\n",
       "       [0],\n",
       "       [1],\n",
       "       [1],\n",
       "       [3],\n",
       "       [4],\n",
       "       [0],\n",
       "       [4],\n",
       "       [4],\n",
       "       [0],\n",
       "       [2],\n",
       "       [0],\n",
       "       [1],\n",
       "       [4],\n",
       "       [4],\n",
       "       [4],\n",
       "       [4],\n",
       "       [0],\n",
       "       [4],\n",
       "       [4],\n",
       "       [1],\n",
       "       [0],\n",
       "       [0],\n",
       "       [0],\n",
       "       [0],\n",
       "       [0],\n",
       "       [2],\n",
       "       [0],\n",
       "       [0],\n",
       "       [4],\n",
       "       [0],\n",
       "       [4],\n",
       "       [0],\n",
       "       [0],\n",
       "       [4],\n",
       "       [0],\n",
       "       [0],\n",
       "       [4],\n",
       "       [2],\n",
       "       [1],\n",
       "       [2],\n",
       "       [4],\n",
       "       [1],\n",
       "       [0],\n",
       "       [2],\n",
       "       [0],\n",
       "       [1],\n",
       "       [4],\n",
       "       [4],\n",
       "       [1],\n",
       "       [4],\n",
       "       [3],\n",
       "       [1],\n",
       "       [2],\n",
       "       [4],\n",
       "       [4],\n",
       "       [0],\n",
       "       [3],\n",
       "       [1],\n",
       "       [0],\n",
       "       [3],\n",
       "       [4],\n",
       "       [4],\n",
       "       [2],\n",
       "       [4],\n",
       "       [0],\n",
       "       [0],\n",
       "       [0],\n",
       "       [0],\n",
       "       [4],\n",
       "       [0],\n",
       "       [1],\n",
       "       [4],\n",
       "       [4],\n",
       "       [0],\n",
       "       [0],\n",
       "       [1],\n",
       "       [0],\n",
       "       [1],\n",
       "       [0],\n",
       "       [0],\n",
       "       [0],\n",
       "       [0],\n",
       "       [4],\n",
       "       [4],\n",
       "       [0],\n",
       "       [0],\n",
       "       [0],\n",
       "       [2],\n",
       "       [1],\n",
       "       [0],\n",
       "       [0],\n",
       "       [0],\n",
       "       [1],\n",
       "       [0],\n",
       "       [3],\n",
       "       [0],\n",
       "       [3],\n",
       "       [3],\n",
       "       [4],\n",
       "       [4],\n",
       "       [4]])"
      ]
     },
     "execution_count": 15,
     "metadata": {},
     "output_type": "execute_result"
    }
   ],
   "source": [
    "y = df_copy[['Drug']].values\n",
    "#y = df_copy['Drug'].values\n",
    "#y = df_copy.iloc[:,5:].values\n",
    "y"
   ]
  },
  {
   "cell_type": "code",
   "execution_count": 16,
   "id": "4ef3ed9e",
   "metadata": {},
   "outputs": [],
   "source": [
    "### Sandardization of data ###\n",
    "### We do not standardize the Target variable for classification\n",
    "from sklearn.preprocessing import StandardScaler"
   ]
  },
  {
   "cell_type": "code",
   "execution_count": 17,
   "id": "701c115a",
   "metadata": {},
   "outputs": [],
   "source": [
    "# Initializing scalar\n",
    "scaler = StandardScaler()\n",
    "\n",
    "xScaled = scaler.fit_transform(x)"
   ]
  },
  {
   "cell_type": "code",
   "execution_count": 18,
   "id": "920bb49d",
   "metadata": {},
   "outputs": [],
   "source": [
    "# Importing lib for train_test_split\n",
    "\n",
    "from sklearn.model_selection import train_test_split"
   ]
  },
  {
   "cell_type": "code",
   "execution_count": 19,
   "id": "c4650fdd",
   "metadata": {},
   "outputs": [],
   "source": [
    "# Splitting the data into train and test\n",
    "\n",
    "xtrain,xtest,ytrain,ytest = train_test_split(xScaled,y,test_size=0.2,random_state=21)"
   ]
  },
  {
   "cell_type": "code",
   "execution_count": 20,
   "id": "1d9ab2d9",
   "metadata": {},
   "outputs": [
    {
     "data": {
      "text/plain": [
       "((200, 5), (200, 1))"
      ]
     },
     "execution_count": 20,
     "metadata": {},
     "output_type": "execute_result"
    }
   ],
   "source": [
    "x.shape, y.shape"
   ]
  },
  {
   "cell_type": "code",
   "execution_count": 21,
   "id": "4b9f0bc7",
   "metadata": {},
   "outputs": [
    {
     "data": {
      "text/plain": [
       "((160, 5), (160, 1))"
      ]
     },
     "execution_count": 21,
     "metadata": {},
     "output_type": "execute_result"
    }
   ],
   "source": [
    "xtrain.shape, ytrain.shape"
   ]
  },
  {
   "cell_type": "code",
   "execution_count": 22,
   "id": "8c395d48",
   "metadata": {},
   "outputs": [
    {
     "data": {
      "text/plain": [
       "((40, 5), (40, 1))"
      ]
     },
     "execution_count": 22,
     "metadata": {},
     "output_type": "execute_result"
    }
   ],
   "source": [
    "xtest.shape, ytest.shape"
   ]
  },
  {
   "cell_type": "markdown",
   "id": "a97252dd",
   "metadata": {},
   "source": [
    "Task 2: Build the ANN model with (input layer, min 3 hidden layers & output layer)"
   ]
  },
  {
   "cell_type": "code",
   "execution_count": 23,
   "id": "7a01f0ac",
   "metadata": {},
   "outputs": [],
   "source": [
    "# Importing lib for ANN model\n",
    "\n",
    "from tensorflow.keras.models import Sequential\n",
    "from tensorflow.keras.layers import Dense    "
   ]
  },
  {
   "cell_type": "code",
   "execution_count": 24,
   "id": "741bed1d",
   "metadata": {},
   "outputs": [],
   "source": [
    "# Initialize model\n",
    "model = Sequential()\n",
    "# Input layer\n",
    "model.add(Dense(18,input_dim=5,activation='relu'))\n",
    "# Hidden layers\n",
    "model.add(Dense(32,activation='relu'))\n",
    "model.add(Dense(64,activation='relu'))\n",
    "model.add(Dense(32,activation='relu'))\n",
    "# Output layer\n",
    "model.add(Dense(5,activation='softmax'))"
   ]
  },
  {
   "cell_type": "code",
   "execution_count": 25,
   "id": "6fbd66d9",
   "metadata": {},
   "outputs": [],
   "source": [
    "# Compiling model\n",
    "\n",
    "model.compile(optimizer='adam',loss='sparse_categorical_crossentropy',metrics=['accuracy'])"
   ]
  },
  {
   "cell_type": "code",
   "execution_count": 26,
   "id": "b45c9b2c",
   "metadata": {},
   "outputs": [
    {
     "name": "stdout",
     "output_type": "stream",
     "text": [
      "Model: \"sequential\"\n",
      "_________________________________________________________________\n",
      " Layer (type)                Output Shape              Param #   \n",
      "=================================================================\n",
      " dense (Dense)               (None, 18)                108       \n",
      "                                                                 \n",
      " dense_1 (Dense)             (None, 32)                608       \n",
      "                                                                 \n",
      " dense_2 (Dense)             (None, 64)                2112      \n",
      "                                                                 \n",
      " dense_3 (Dense)             (None, 32)                2080      \n",
      "                                                                 \n",
      " dense_4 (Dense)             (None, 5)                 165       \n",
      "                                                                 \n",
      "=================================================================\n",
      "Total params: 5,073\n",
      "Trainable params: 5,073\n",
      "Non-trainable params: 0\n",
      "_________________________________________________________________\n"
     ]
    }
   ],
   "source": [
    "# Model summary\n",
    "\n",
    "model.summary()"
   ]
  },
  {
   "cell_type": "code",
   "execution_count": 27,
   "id": "b405a2ee",
   "metadata": {},
   "outputs": [
    {
     "name": "stdout",
     "output_type": "stream",
     "text": [
      "Epoch 1/10\n",
      "32/32 [==============================] - 1s 6ms/step - loss: 1.4059 - accuracy: 0.4750 - val_loss: 1.2213 - val_accuracy: 0.6000\n",
      "Epoch 2/10\n",
      "32/32 [==============================] - 0s 2ms/step - loss: 1.1046 - accuracy: 0.5625 - val_loss: 0.9992 - val_accuracy: 0.6750\n",
      "Epoch 3/10\n",
      "32/32 [==============================] - 0s 1ms/step - loss: 0.8581 - accuracy: 0.6938 - val_loss: 0.8429 - val_accuracy: 0.6750\n",
      "Epoch 4/10\n",
      "32/32 [==============================] - 0s 2ms/step - loss: 0.6885 - accuracy: 0.7063 - val_loss: 0.7212 - val_accuracy: 0.6750\n",
      "Epoch 5/10\n",
      "32/32 [==============================] - 0s 1ms/step - loss: 0.5487 - accuracy: 0.7937 - val_loss: 0.5798 - val_accuracy: 0.7000\n",
      "Epoch 6/10\n",
      "32/32 [==============================] - 0s 2ms/step - loss: 0.4480 - accuracy: 0.8687 - val_loss: 0.4821 - val_accuracy: 0.8000\n",
      "Epoch 7/10\n",
      "32/32 [==============================] - 0s 1ms/step - loss: 0.3445 - accuracy: 0.9125 - val_loss: 0.3850 - val_accuracy: 0.8750\n",
      "Epoch 8/10\n",
      "32/32 [==============================] - 0s 1ms/step - loss: 0.2531 - accuracy: 0.9563 - val_loss: 0.3347 - val_accuracy: 0.9250\n",
      "Epoch 9/10\n",
      "32/32 [==============================] - 0s 1ms/step - loss: 0.1879 - accuracy: 0.9688 - val_loss: 0.3073 - val_accuracy: 0.9500\n",
      "Epoch 10/10\n",
      "32/32 [==============================] - 0s 1ms/step - loss: 0.1285 - accuracy: 0.9937 - val_loss: 0.2599 - val_accuracy: 0.9500\n"
     ]
    },
    {
     "data": {
      "text/plain": [
       "<keras.callbacks.History at 0x175a1b93c90>"
      ]
     },
     "execution_count": 27,
     "metadata": {},
     "output_type": "execute_result"
    }
   ],
   "source": [
    "# Fitting model (training model)\n",
    "\n",
    "model.fit(xtrain,ytrain,epochs=10,batch_size=5,validation_data=(xtest,ytest))"
   ]
  },
  {
   "cell_type": "code",
   "execution_count": 28,
   "id": "fd3043fa",
   "metadata": {},
   "outputs": [
    {
     "name": "stdout",
     "output_type": "stream",
     "text": [
      "2/2 [==============================] - 0s 0s/step\n"
     ]
    }
   ],
   "source": [
    "ypred = model.predict(xtest)"
   ]
  },
  {
   "cell_type": "code",
   "execution_count": 29,
   "id": "6066393e",
   "metadata": {},
   "outputs": [
    {
     "name": "stdout",
     "output_type": "stream",
     "text": [
      "2/2 [==============================] - 0s 10ms/step - loss: 0.2599 - accuracy: 0.9500\n"
     ]
    }
   ],
   "source": [
    "test_lost, test_acc = model.evaluate(xtest, ytest)"
   ]
  },
  {
   "cell_type": "markdown",
   "id": "d2241c97",
   "metadata": {},
   "source": [
    "Task 3: Test the model with random data"
   ]
  },
  {
   "cell_type": "code",
   "execution_count": 30,
   "id": "0281d4e5",
   "metadata": {},
   "outputs": [
    {
     "name": "stdout",
     "output_type": "stream",
     "text": [
      "1/1 [==============================] - 0s 12ms/step\n",
      "Predicted class: drugX\n"
     ]
    }
   ],
   "source": [
    "random_data = np.array([[28.,0.,2.,0.,7.798]])  # Example random data\n",
    "random_data_scaled = scaler.transform(random_data)\n",
    "prediction = model.predict(random_data_scaled)\n",
    "predicted_class_index = np.argmax(prediction)\n",
    "predicted_class = le.inverse_transform([predicted_class_index])\n",
    "\n",
    "print('Predicted class:', predicted_class[0])"
   ]
  },
  {
   "cell_type": "code",
   "execution_count": 31,
   "id": "9295bc12",
   "metadata": {},
   "outputs": [
    {
     "name": "stdout",
     "output_type": "stream",
     "text": [
      "1/1 [==============================] - 0s 5ms/step\n",
      "Predicted class: DrugY\n"
     ]
    }
   ],
   "source": [
    "random_data = np.array([[61.,  0.,  1.,  0., 18.043]])  # Example random data\n",
    "random_data_scaled = scaler.transform(random_data)\n",
    "prediction = model.predict(random_data_scaled)\n",
    "predicted_class_index = np.argmax(prediction)\n",
    "predicted_class = le.inverse_transform([predicted_class_index])\n",
    "\n",
    "print('Predicted class:', predicted_class[0])"
   ]
  },
  {
   "cell_type": "markdown",
   "id": "e060bcb0",
   "metadata": {},
   "source": [
    "# ----------------------------------------------------------------------------------------------------------------------------------------------------------------------------------------------------------------------------------"
   ]
  },
  {
   "cell_type": "markdown",
   "id": "09396f78",
   "metadata": {},
   "source": [
    "Using loss = categorical_crossentropy"
   ]
  },
  {
   "cell_type": "code",
   "execution_count": 32,
   "id": "d9186577",
   "metadata": {},
   "outputs": [
    {
     "data": {
      "text/plain": [
       "array([[23.     ,  0.     ,  0.     ,  0.     , 25.355  ],\n",
       "       [47.     ,  1.     ,  1.     ,  0.     , 13.093  ],\n",
       "       [47.     ,  1.     ,  1.     ,  0.     , 10.114  ],\n",
       "       [28.     ,  0.     ,  2.     ,  0.     ,  7.798  ],\n",
       "       [61.     ,  0.     ,  1.     ,  0.     , 18.043  ],\n",
       "       [22.     ,  0.     ,  2.     ,  0.     ,  8.607  ],\n",
       "       [49.     ,  0.     ,  2.     ,  0.     , 16.275  ],\n",
       "       [41.     ,  1.     ,  1.     ,  0.     , 11.037  ],\n",
       "       [60.     ,  1.     ,  2.     ,  0.     , 15.171  ],\n",
       "       [43.     ,  1.     ,  1.     ,  1.     , 19.368  ],\n",
       "       [47.     ,  0.     ,  1.     ,  0.     , 11.767  ],\n",
       "       [34.     ,  0.     ,  0.     ,  1.     , 19.199  ],\n",
       "       [43.     ,  1.     ,  1.     ,  0.     , 15.376  ],\n",
       "       [74.     ,  0.     ,  1.     ,  0.     , 20.942  ],\n",
       "       [50.     ,  0.     ,  2.     ,  0.     , 12.703  ],\n",
       "       [16.     ,  0.     ,  0.     ,  1.     , 15.516  ],\n",
       "       [69.     ,  1.     ,  1.     ,  1.     , 11.455  ],\n",
       "       [43.     ,  1.     ,  0.     ,  0.     , 13.972  ],\n",
       "       [23.     ,  1.     ,  1.     ,  0.     ,  7.298  ],\n",
       "       [32.     ,  0.     ,  0.     ,  1.     , 25.974  ],\n",
       "       [57.     ,  1.     ,  1.     ,  1.     , 19.128  ],\n",
       "       [63.     ,  1.     ,  2.     ,  0.     , 25.917  ],\n",
       "       [47.     ,  1.     ,  1.     ,  1.     , 30.568  ],\n",
       "       [48.     ,  0.     ,  1.     ,  0.     , 15.036  ],\n",
       "       [33.     ,  0.     ,  1.     ,  0.     , 31.78175],\n",
       "       [28.     ,  0.     ,  0.     ,  1.     , 18.809  ],\n",
       "       [31.     ,  1.     ,  0.     ,  0.     , 30.366  ],\n",
       "       [49.     ,  0.     ,  2.     ,  1.     ,  9.381  ],\n",
       "       [39.     ,  0.     ,  1.     ,  1.     , 22.697  ],\n",
       "       [45.     ,  1.     ,  1.     ,  0.     , 17.951  ],\n",
       "       [18.     ,  0.     ,  2.     ,  1.     ,  8.75   ],\n",
       "       [74.     ,  1.     ,  0.     ,  0.     ,  9.567  ],\n",
       "       [49.     ,  1.     ,  1.     ,  1.     , 11.014  ],\n",
       "       [65.     ,  0.     ,  0.     ,  1.     , 31.876  ],\n",
       "       [53.     ,  1.     ,  2.     ,  0.     , 14.133  ],\n",
       "       [46.     ,  1.     ,  2.     ,  1.     ,  7.285  ],\n",
       "       [32.     ,  1.     ,  0.     ,  1.     ,  9.445  ],\n",
       "       [39.     ,  1.     ,  1.     ,  1.     , 13.938  ],\n",
       "       [39.     ,  0.     ,  2.     ,  1.     ,  9.709  ],\n",
       "       [15.     ,  1.     ,  2.     ,  0.     ,  9.084  ],\n",
       "       [73.     ,  0.     ,  2.     ,  0.     , 19.221  ],\n",
       "       [58.     ,  0.     ,  0.     ,  1.     , 14.239  ],\n",
       "       [50.     ,  1.     ,  2.     ,  1.     , 15.79   ],\n",
       "       [23.     ,  1.     ,  2.     ,  0.     , 12.26   ],\n",
       "       [50.     ,  0.     ,  2.     ,  1.     , 12.295  ],\n",
       "       [66.     ,  0.     ,  2.     ,  1.     ,  8.107  ],\n",
       "       [37.     ,  0.     ,  0.     ,  0.     , 13.091  ],\n",
       "       [68.     ,  1.     ,  1.     ,  0.     , 10.291  ],\n",
       "       [23.     ,  1.     ,  2.     ,  0.     , 31.686  ],\n",
       "       [28.     ,  0.     ,  1.     ,  0.     , 19.796  ],\n",
       "       [58.     ,  0.     ,  0.     ,  0.     , 19.416  ],\n",
       "       [67.     ,  1.     ,  2.     ,  1.     , 10.898  ],\n",
       "       [62.     ,  1.     ,  1.     ,  1.     , 27.183  ],\n",
       "       [24.     ,  0.     ,  0.     ,  1.     , 18.457  ],\n",
       "       [68.     ,  0.     ,  0.     ,  1.     , 10.189  ],\n",
       "       [26.     ,  0.     ,  1.     ,  0.     , 14.16   ],\n",
       "       [65.     ,  1.     ,  0.     ,  1.     , 11.34   ],\n",
       "       [40.     ,  1.     ,  0.     ,  0.     , 27.826  ],\n",
       "       [60.     ,  1.     ,  2.     ,  1.     , 10.091  ],\n",
       "       [34.     ,  1.     ,  0.     ,  0.     , 18.703  ],\n",
       "       [38.     ,  0.     ,  1.     ,  1.     , 29.875  ],\n",
       "       [24.     ,  1.     ,  0.     ,  1.     ,  9.475  ],\n",
       "       [67.     ,  1.     ,  1.     ,  1.     , 20.693  ],\n",
       "       [45.     ,  1.     ,  1.     ,  1.     ,  8.37   ],\n",
       "       [60.     ,  0.     ,  0.     ,  0.     , 13.303  ],\n",
       "       [68.     ,  0.     ,  2.     ,  1.     , 27.05   ],\n",
       "       [29.     ,  1.     ,  0.     ,  0.     , 12.856  ],\n",
       "       [17.     ,  1.     ,  2.     ,  1.     , 10.832  ],\n",
       "       [54.     ,  1.     ,  2.     ,  0.     , 24.658  ],\n",
       "       [18.     ,  0.     ,  0.     ,  1.     , 24.276  ],\n",
       "       [70.     ,  1.     ,  0.     ,  0.     , 13.967  ],\n",
       "       [28.     ,  0.     ,  2.     ,  0.     , 19.675  ],\n",
       "       [24.     ,  0.     ,  2.     ,  0.     , 10.605  ],\n",
       "       [41.     ,  0.     ,  2.     ,  1.     , 22.905  ],\n",
       "       [31.     ,  1.     ,  0.     ,  1.     , 17.069  ],\n",
       "       [26.     ,  1.     ,  1.     ,  1.     , 20.909  ],\n",
       "       [36.     ,  0.     ,  0.     ,  0.     , 11.198  ],\n",
       "       [26.     ,  0.     ,  0.     ,  1.     , 19.161  ],\n",
       "       [19.     ,  0.     ,  0.     ,  0.     , 13.313  ],\n",
       "       [32.     ,  0.     ,  1.     ,  1.     , 10.84   ],\n",
       "       [60.     ,  1.     ,  0.     ,  0.     , 13.934  ],\n",
       "       [64.     ,  1.     ,  2.     ,  0.     ,  7.761  ],\n",
       "       [32.     ,  0.     ,  1.     ,  0.     ,  9.712  ],\n",
       "       [38.     ,  0.     ,  0.     ,  1.     , 11.326  ],\n",
       "       [47.     ,  0.     ,  1.     ,  0.     , 10.067  ],\n",
       "       [59.     ,  1.     ,  0.     ,  0.     , 13.935  ],\n",
       "       [51.     ,  0.     ,  2.     ,  0.     , 13.597  ],\n",
       "       [69.     ,  1.     ,  1.     ,  0.     , 15.478  ],\n",
       "       [37.     ,  0.     ,  0.     ,  1.     , 23.091  ],\n",
       "       [50.     ,  0.     ,  2.     ,  1.     , 17.211  ],\n",
       "       [62.     ,  1.     ,  2.     ,  0.     , 16.594  ],\n",
       "       [41.     ,  1.     ,  0.     ,  1.     , 15.156  ],\n",
       "       [29.     ,  0.     ,  0.     ,  0.     , 29.45   ],\n",
       "       [42.     ,  0.     ,  1.     ,  1.     , 29.271  ],\n",
       "       [56.     ,  1.     ,  1.     ,  0.     , 15.015  ],\n",
       "       [36.     ,  1.     ,  1.     ,  1.     , 11.424  ],\n",
       "       [58.     ,  0.     ,  1.     ,  0.     , 31.78175],\n",
       "       [56.     ,  0.     ,  0.     ,  0.     , 25.395  ],\n",
       "       [20.     ,  1.     ,  0.     ,  1.     , 31.78175],\n",
       "       [15.     ,  0.     ,  0.     ,  1.     , 16.725  ],\n",
       "       [31.     ,  1.     ,  0.     ,  1.     , 11.871  ],\n",
       "       [45.     ,  0.     ,  0.     ,  0.     , 12.854  ],\n",
       "       [28.     ,  0.     ,  1.     ,  0.     , 13.127  ],\n",
       "       [56.     ,  1.     ,  2.     ,  0.     ,  8.966  ],\n",
       "       [22.     ,  1.     ,  0.     ,  1.     , 28.294  ],\n",
       "       [37.     ,  1.     ,  1.     ,  1.     ,  8.968  ],\n",
       "       [22.     ,  1.     ,  2.     ,  0.     , 11.953  ],\n",
       "       [42.     ,  1.     ,  1.     ,  0.     , 20.013  ],\n",
       "       [72.     ,  1.     ,  0.     ,  1.     ,  9.677  ],\n",
       "       [23.     ,  1.     ,  2.     ,  0.     , 16.85   ],\n",
       "       [50.     ,  1.     ,  0.     ,  0.     ,  7.49   ],\n",
       "       [47.     ,  0.     ,  2.     ,  1.     ,  6.683  ],\n",
       "       [35.     ,  1.     ,  1.     ,  1.     ,  9.17   ],\n",
       "       [65.     ,  0.     ,  1.     ,  1.     , 13.769  ],\n",
       "       [20.     ,  0.     ,  2.     ,  1.     ,  9.281  ],\n",
       "       [51.     ,  1.     ,  0.     ,  0.     , 18.295  ],\n",
       "       [67.     ,  1.     ,  2.     ,  1.     ,  9.514  ],\n",
       "       [40.     ,  0.     ,  2.     ,  0.     , 10.103  ],\n",
       "       [32.     ,  0.     ,  0.     ,  1.     , 10.292  ],\n",
       "       [61.     ,  0.     ,  0.     ,  0.     , 25.475  ],\n",
       "       [28.     ,  1.     ,  2.     ,  0.     , 27.064  ],\n",
       "       [15.     ,  1.     ,  0.     ,  1.     , 17.206  ],\n",
       "       [34.     ,  1.     ,  2.     ,  0.     , 22.456  ],\n",
       "       [36.     ,  0.     ,  2.     ,  0.     , 16.753  ],\n",
       "       [53.     ,  0.     ,  0.     ,  1.     , 12.495  ],\n",
       "       [19.     ,  0.     ,  0.     ,  1.     , 25.969  ],\n",
       "       [66.     ,  1.     ,  0.     ,  0.     , 16.347  ],\n",
       "       [35.     ,  1.     ,  2.     ,  1.     ,  7.845  ],\n",
       "       [47.     ,  1.     ,  1.     ,  1.     , 31.78175],\n",
       "       [32.     ,  0.     ,  2.     ,  0.     ,  7.477  ],\n",
       "       [70.     ,  0.     ,  2.     ,  0.     , 20.489  ],\n",
       "       [52.     ,  1.     ,  1.     ,  1.     , 31.78175],\n",
       "       [49.     ,  1.     ,  1.     ,  1.     , 13.598  ],\n",
       "       [24.     ,  1.     ,  2.     ,  0.     , 25.786  ],\n",
       "       [42.     ,  0.     ,  0.     ,  0.     , 21.036  ],\n",
       "       [74.     ,  1.     ,  1.     ,  1.     , 11.939  ],\n",
       "       [55.     ,  0.     ,  0.     ,  0.     , 10.977  ],\n",
       "       [35.     ,  0.     ,  0.     ,  0.     , 12.894  ],\n",
       "       [51.     ,  1.     ,  0.     ,  1.     , 11.343  ],\n",
       "       [69.     ,  0.     ,  2.     ,  0.     , 10.065  ],\n",
       "       [49.     ,  1.     ,  0.     ,  1.     ,  6.269  ],\n",
       "       [64.     ,  0.     ,  1.     ,  1.     , 25.741  ],\n",
       "       [60.     ,  1.     ,  0.     ,  1.     ,  8.621  ],\n",
       "       [74.     ,  1.     ,  0.     ,  1.     , 15.436  ],\n",
       "       [39.     ,  1.     ,  0.     ,  0.     ,  9.664  ],\n",
       "       [61.     ,  1.     ,  2.     ,  0.     ,  9.443  ],\n",
       "       [37.     ,  0.     ,  1.     ,  1.     , 12.006  ],\n",
       "       [26.     ,  0.     ,  0.     ,  1.     , 12.307  ],\n",
       "       [61.     ,  0.     ,  1.     ,  1.     ,  7.34   ],\n",
       "       [22.     ,  1.     ,  1.     ,  0.     ,  8.151  ],\n",
       "       [49.     ,  1.     ,  0.     ,  1.     ,  8.7    ],\n",
       "       [68.     ,  1.     ,  0.     ,  0.     , 11.009  ],\n",
       "       [55.     ,  1.     ,  2.     ,  1.     ,  7.261  ],\n",
       "       [72.     ,  0.     ,  1.     ,  1.     , 14.642  ],\n",
       "       [37.     ,  1.     ,  1.     ,  1.     , 16.724  ],\n",
       "       [49.     ,  1.     ,  1.     ,  0.     , 10.537  ],\n",
       "       [31.     ,  1.     ,  0.     ,  1.     , 11.227  ],\n",
       "       [53.     ,  1.     ,  1.     ,  0.     , 22.963  ],\n",
       "       [59.     ,  0.     ,  1.     ,  0.     , 10.444  ],\n",
       "       [34.     ,  0.     ,  1.     ,  1.     , 12.923  ],\n",
       "       [30.     ,  0.     ,  2.     ,  0.     , 10.443  ],\n",
       "       [57.     ,  0.     ,  0.     ,  1.     ,  9.945  ],\n",
       "       [43.     ,  1.     ,  2.     ,  1.     , 12.859  ],\n",
       "       [21.     ,  0.     ,  0.     ,  1.     , 28.632  ],\n",
       "       [16.     ,  1.     ,  0.     ,  1.     , 19.007  ],\n",
       "       [38.     ,  1.     ,  1.     ,  0.     , 18.295  ],\n",
       "       [58.     ,  0.     ,  1.     ,  0.     , 26.645  ],\n",
       "       [57.     ,  0.     ,  2.     ,  0.     , 14.216  ],\n",
       "       [51.     ,  0.     ,  1.     ,  1.     , 23.003  ],\n",
       "       [20.     ,  0.     ,  0.     ,  0.     , 11.262  ],\n",
       "       [28.     ,  0.     ,  2.     ,  0.     , 12.879  ],\n",
       "       [45.     ,  1.     ,  1.     ,  1.     , 10.017  ],\n",
       "       [39.     ,  0.     ,  2.     ,  1.     , 17.225  ],\n",
       "       [41.     ,  0.     ,  1.     ,  1.     , 18.739  ],\n",
       "       [42.     ,  1.     ,  0.     ,  1.     , 12.766  ],\n",
       "       [73.     ,  0.     ,  0.     ,  0.     , 18.348  ],\n",
       "       [48.     ,  1.     ,  0.     ,  1.     , 10.446  ],\n",
       "       [25.     ,  1.     ,  2.     ,  0.     , 19.011  ],\n",
       "       [39.     ,  1.     ,  2.     ,  0.     , 15.969  ],\n",
       "       [67.     ,  0.     ,  2.     ,  0.     , 15.891  ],\n",
       "       [22.     ,  0.     ,  0.     ,  1.     , 22.818  ],\n",
       "       [59.     ,  0.     ,  2.     ,  0.     , 13.884  ],\n",
       "       [20.     ,  0.     ,  1.     ,  1.     , 11.686  ],\n",
       "       [36.     ,  0.     ,  0.     ,  1.     , 15.49   ],\n",
       "       [18.     ,  0.     ,  0.     ,  0.     , 31.78175],\n",
       "       [57.     ,  0.     ,  2.     ,  1.     , 25.893  ],\n",
       "       [70.     ,  1.     ,  0.     ,  0.     ,  9.849  ],\n",
       "       [47.     ,  1.     ,  0.     ,  0.     , 10.403  ],\n",
       "       [65.     ,  1.     ,  0.     ,  1.     , 31.78175],\n",
       "       [64.     ,  1.     ,  0.     ,  1.     , 20.932  ],\n",
       "       [58.     ,  1.     ,  0.     ,  0.     , 18.991  ],\n",
       "       [23.     ,  1.     ,  0.     ,  0.     ,  8.011  ],\n",
       "       [72.     ,  1.     ,  1.     ,  0.     , 16.31   ],\n",
       "       [72.     ,  1.     ,  1.     ,  0.     ,  6.769  ],\n",
       "       [46.     ,  0.     ,  0.     ,  0.     , 31.78175],\n",
       "       [56.     ,  0.     ,  1.     ,  0.     , 11.567  ],\n",
       "       [16.     ,  1.     ,  1.     ,  0.     , 12.006  ],\n",
       "       [52.     ,  1.     ,  2.     ,  0.     ,  9.894  ],\n",
       "       [23.     ,  1.     ,  2.     ,  1.     , 14.02   ],\n",
       "       [40.     ,  0.     ,  1.     ,  1.     , 11.349  ]])"
      ]
     },
     "execution_count": 32,
     "metadata": {},
     "output_type": "execute_result"
    }
   ],
   "source": [
    "# Splitting the data\n",
    "x2 = df_copy[['Age','Sex','BP','Cholesterol','Na_to_K']].values\n",
    "#x = df_copy.iloc[:,0:5].values\n",
    "x2"
   ]
  },
  {
   "cell_type": "code",
   "execution_count": 33,
   "id": "ace193b8",
   "metadata": {},
   "outputs": [
    {
     "data": {
      "text/plain": [
       "array([[1, 0, 0, 0, 0],\n",
       "       [0, 0, 0, 1, 0],\n",
       "       [0, 0, 0, 1, 0],\n",
       "       [0, 0, 0, 0, 1],\n",
       "       [1, 0, 0, 0, 0],\n",
       "       [0, 0, 0, 0, 1],\n",
       "       [1, 0, 0, 0, 0],\n",
       "       [0, 0, 0, 1, 0],\n",
       "       [1, 0, 0, 0, 0],\n",
       "       [1, 0, 0, 0, 0],\n",
       "       [0, 0, 0, 1, 0],\n",
       "       [1, 0, 0, 0, 0],\n",
       "       [1, 0, 0, 0, 0],\n",
       "       [1, 0, 0, 0, 0],\n",
       "       [0, 0, 0, 0, 1],\n",
       "       [1, 0, 0, 0, 0],\n",
       "       [0, 0, 0, 0, 1],\n",
       "       [0, 1, 0, 0, 0],\n",
       "       [0, 0, 0, 1, 0],\n",
       "       [1, 0, 0, 0, 0],\n",
       "       [1, 0, 0, 0, 0],\n",
       "       [1, 0, 0, 0, 0],\n",
       "       [1, 0, 0, 0, 0],\n",
       "       [1, 0, 0, 0, 0],\n",
       "       [1, 0, 0, 0, 0],\n",
       "       [1, 0, 0, 0, 0],\n",
       "       [1, 0, 0, 0, 0],\n",
       "       [0, 0, 0, 0, 1],\n",
       "       [1, 0, 0, 0, 0],\n",
       "       [1, 0, 0, 0, 0],\n",
       "       [0, 0, 0, 0, 1],\n",
       "       [0, 0, 1, 0, 0],\n",
       "       [0, 0, 0, 0, 1],\n",
       "       [1, 0, 0, 0, 0],\n",
       "       [0, 0, 0, 0, 1],\n",
       "       [0, 0, 0, 0, 1],\n",
       "       [0, 1, 0, 0, 0],\n",
       "       [0, 0, 0, 0, 1],\n",
       "       [0, 0, 0, 0, 1],\n",
       "       [0, 0, 0, 0, 1],\n",
       "       [1, 0, 0, 0, 0],\n",
       "       [0, 0, 1, 0, 0],\n",
       "       [1, 0, 0, 0, 0],\n",
       "       [0, 0, 0, 0, 1],\n",
       "       [0, 0, 0, 0, 1],\n",
       "       [0, 0, 0, 0, 1],\n",
       "       [0, 1, 0, 0, 0],\n",
       "       [0, 0, 0, 1, 0],\n",
       "       [1, 0, 0, 0, 0],\n",
       "       [1, 0, 0, 0, 0],\n",
       "       [1, 0, 0, 0, 0],\n",
       "       [0, 0, 0, 0, 1],\n",
       "       [1, 0, 0, 0, 0],\n",
       "       [1, 0, 0, 0, 0],\n",
       "       [0, 0, 1, 0, 0],\n",
       "       [0, 0, 0, 1, 0],\n",
       "       [0, 0, 1, 0, 0],\n",
       "       [1, 0, 0, 0, 0],\n",
       "       [0, 0, 0, 0, 1],\n",
       "       [1, 0, 0, 0, 0],\n",
       "       [1, 0, 0, 0, 0],\n",
       "       [0, 1, 0, 0, 0],\n",
       "       [1, 0, 0, 0, 0],\n",
       "       [0, 0, 0, 0, 1],\n",
       "       [0, 0, 1, 0, 0],\n",
       "       [1, 0, 0, 0, 0],\n",
       "       [0, 1, 0, 0, 0],\n",
       "       [0, 0, 0, 0, 1],\n",
       "       [1, 0, 0, 0, 0],\n",
       "       [1, 0, 0, 0, 0],\n",
       "       [0, 0, 1, 0, 0],\n",
       "       [1, 0, 0, 0, 0],\n",
       "       [0, 0, 0, 0, 1],\n",
       "       [1, 0, 0, 0, 0],\n",
       "       [1, 0, 0, 0, 0],\n",
       "       [1, 0, 0, 0, 0],\n",
       "       [0, 1, 0, 0, 0],\n",
       "       [1, 0, 0, 0, 0],\n",
       "       [0, 1, 0, 0, 0],\n",
       "       [0, 0, 0, 0, 1],\n",
       "       [0, 0, 1, 0, 0],\n",
       "       [0, 0, 0, 0, 1],\n",
       "       [0, 0, 0, 1, 0],\n",
       "       [0, 1, 0, 0, 0],\n",
       "       [0, 0, 0, 1, 0],\n",
       "       [0, 0, 1, 0, 0],\n",
       "       [0, 0, 0, 0, 1],\n",
       "       [1, 0, 0, 0, 0],\n",
       "       [1, 0, 0, 0, 0],\n",
       "       [1, 0, 0, 0, 0],\n",
       "       [1, 0, 0, 0, 0],\n",
       "       [1, 0, 0, 0, 0],\n",
       "       [1, 0, 0, 0, 0],\n",
       "       [1, 0, 0, 0, 0],\n",
       "       [1, 0, 0, 0, 0],\n",
       "       [0, 0, 0, 0, 1],\n",
       "       [1, 0, 0, 0, 0],\n",
       "       [1, 0, 0, 0, 0],\n",
       "       [1, 0, 0, 0, 0],\n",
       "       [1, 0, 0, 0, 0],\n",
       "       [0, 1, 0, 0, 0],\n",
       "       [0, 1, 0, 0, 0],\n",
       "       [0, 0, 0, 1, 0],\n",
       "       [0, 0, 0, 0, 1],\n",
       "       [1, 0, 0, 0, 0],\n",
       "       [0, 0, 0, 0, 1],\n",
       "       [0, 0, 0, 0, 1],\n",
       "       [1, 0, 0, 0, 0],\n",
       "       [0, 0, 1, 0, 0],\n",
       "       [1, 0, 0, 0, 0],\n",
       "       [0, 1, 0, 0, 0],\n",
       "       [0, 0, 0, 0, 1],\n",
       "       [0, 0, 0, 0, 1],\n",
       "       [0, 0, 0, 0, 1],\n",
       "       [0, 0, 0, 0, 1],\n",
       "       [1, 0, 0, 0, 0],\n",
       "       [0, 0, 0, 0, 1],\n",
       "       [0, 0, 0, 0, 1],\n",
       "       [0, 1, 0, 0, 0],\n",
       "       [1, 0, 0, 0, 0],\n",
       "       [1, 0, 0, 0, 0],\n",
       "       [1, 0, 0, 0, 0],\n",
       "       [1, 0, 0, 0, 0],\n",
       "       [1, 0, 0, 0, 0],\n",
       "       [0, 0, 1, 0, 0],\n",
       "       [1, 0, 0, 0, 0],\n",
       "       [1, 0, 0, 0, 0],\n",
       "       [0, 0, 0, 0, 1],\n",
       "       [1, 0, 0, 0, 0],\n",
       "       [0, 0, 0, 0, 1],\n",
       "       [1, 0, 0, 0, 0],\n",
       "       [1, 0, 0, 0, 0],\n",
       "       [0, 0, 0, 0, 1],\n",
       "       [1, 0, 0, 0, 0],\n",
       "       [1, 0, 0, 0, 0],\n",
       "       [0, 0, 0, 0, 1],\n",
       "       [0, 0, 1, 0, 0],\n",
       "       [0, 1, 0, 0, 0],\n",
       "       [0, 0, 1, 0, 0],\n",
       "       [0, 0, 0, 0, 1],\n",
       "       [0, 1, 0, 0, 0],\n",
       "       [1, 0, 0, 0, 0],\n",
       "       [0, 0, 1, 0, 0],\n",
       "       [1, 0, 0, 0, 0],\n",
       "       [0, 1, 0, 0, 0],\n",
       "       [0, 0, 0, 0, 1],\n",
       "       [0, 0, 0, 0, 1],\n",
       "       [0, 1, 0, 0, 0],\n",
       "       [0, 0, 0, 0, 1],\n",
       "       [0, 0, 0, 1, 0],\n",
       "       [0, 1, 0, 0, 0],\n",
       "       [0, 0, 1, 0, 0],\n",
       "       [0, 0, 0, 0, 1],\n",
       "       [0, 0, 0, 0, 1],\n",
       "       [1, 0, 0, 0, 0],\n",
       "       [0, 0, 0, 1, 0],\n",
       "       [0, 1, 0, 0, 0],\n",
       "       [1, 0, 0, 0, 0],\n",
       "       [0, 0, 0, 1, 0],\n",
       "       [0, 0, 0, 0, 1],\n",
       "       [0, 0, 0, 0, 1],\n",
       "       [0, 0, 1, 0, 0],\n",
       "       [0, 0, 0, 0, 1],\n",
       "       [1, 0, 0, 0, 0],\n",
       "       [1, 0, 0, 0, 0],\n",
       "       [1, 0, 0, 0, 0],\n",
       "       [1, 0, 0, 0, 0],\n",
       "       [0, 0, 0, 0, 1],\n",
       "       [1, 0, 0, 0, 0],\n",
       "       [0, 1, 0, 0, 0],\n",
       "       [0, 0, 0, 0, 1],\n",
       "       [0, 0, 0, 0, 1],\n",
       "       [1, 0, 0, 0, 0],\n",
       "       [1, 0, 0, 0, 0],\n",
       "       [0, 1, 0, 0, 0],\n",
       "       [1, 0, 0, 0, 0],\n",
       "       [0, 1, 0, 0, 0],\n",
       "       [1, 0, 0, 0, 0],\n",
       "       [1, 0, 0, 0, 0],\n",
       "       [1, 0, 0, 0, 0],\n",
       "       [1, 0, 0, 0, 0],\n",
       "       [0, 0, 0, 0, 1],\n",
       "       [0, 0, 0, 0, 1],\n",
       "       [1, 0, 0, 0, 0],\n",
       "       [1, 0, 0, 0, 0],\n",
       "       [1, 0, 0, 0, 0],\n",
       "       [0, 0, 1, 0, 0],\n",
       "       [0, 1, 0, 0, 0],\n",
       "       [1, 0, 0, 0, 0],\n",
       "       [1, 0, 0, 0, 0],\n",
       "       [1, 0, 0, 0, 0],\n",
       "       [0, 1, 0, 0, 0],\n",
       "       [1, 0, 0, 0, 0],\n",
       "       [0, 0, 0, 1, 0],\n",
       "       [1, 0, 0, 0, 0],\n",
       "       [0, 0, 0, 1, 0],\n",
       "       [0, 0, 0, 1, 0],\n",
       "       [0, 0, 0, 0, 1],\n",
       "       [0, 0, 0, 0, 1],\n",
       "       [0, 0, 0, 0, 1]], dtype=uint8)"
      ]
     },
     "execution_count": 33,
     "metadata": {},
     "output_type": "execute_result"
    }
   ],
   "source": [
    "y2 = pd.get_dummies(df.iloc[:, 5:]).values\n",
    "y2"
   ]
  },
  {
   "cell_type": "code",
   "execution_count": 34,
   "id": "84203712",
   "metadata": {},
   "outputs": [],
   "source": [
    "# Initializing scalar\n",
    "scaler = StandardScaler()\n",
    "\n",
    "xScaled2 = scaler.fit_transform(x2)"
   ]
  },
  {
   "cell_type": "code",
   "execution_count": 35,
   "id": "5235f981",
   "metadata": {},
   "outputs": [],
   "source": [
    "# Splitting the data into train and test\n",
    "\n",
    "xtrain2,xtest2,ytrain2,ytest2 = train_test_split(xScaled2,y2,test_size=0.2,random_state=21)"
   ]
  },
  {
   "cell_type": "code",
   "execution_count": 36,
   "id": "192cc687",
   "metadata": {},
   "outputs": [
    {
     "data": {
      "text/plain": [
       "((200, 5), (200, 5))"
      ]
     },
     "execution_count": 36,
     "metadata": {},
     "output_type": "execute_result"
    }
   ],
   "source": [
    "x2.shape, y2.shape"
   ]
  },
  {
   "cell_type": "code",
   "execution_count": 37,
   "id": "2d48ae0e",
   "metadata": {},
   "outputs": [
    {
     "data": {
      "text/plain": [
       "((160, 5), (160, 5))"
      ]
     },
     "execution_count": 37,
     "metadata": {},
     "output_type": "execute_result"
    }
   ],
   "source": [
    "xtrain2.shape, ytrain2.shape"
   ]
  },
  {
   "cell_type": "code",
   "execution_count": 38,
   "id": "d68d9aa5",
   "metadata": {},
   "outputs": [
    {
     "data": {
      "text/plain": [
       "((40, 5), (40, 5))"
      ]
     },
     "execution_count": 38,
     "metadata": {},
     "output_type": "execute_result"
    }
   ],
   "source": [
    "xtest2.shape, ytest2.shape"
   ]
  },
  {
   "cell_type": "code",
   "execution_count": 39,
   "id": "c71c7690",
   "metadata": {},
   "outputs": [],
   "source": [
    "# Initialize model\n",
    "model2 = Sequential()\n",
    "# Input layer\n",
    "model2.add(Dense(18,input_dim=5,activation='relu'))\n",
    "# Hidden layers\n",
    "model2.add(Dense(32,activation='relu'))\n",
    "model2.add(Dense(64,activation='relu'))\n",
    "model2.add(Dense(32,activation='relu'))\n",
    "# Output layer\n",
    "model2.add(Dense(5,activation='softmax'))"
   ]
  },
  {
   "cell_type": "code",
   "execution_count": 40,
   "id": "e5761fe4",
   "metadata": {},
   "outputs": [],
   "source": [
    "# Compiling model\n",
    "\n",
    "model2.compile(optimizer='adam',loss='categorical_crossentropy',metrics=['accuracy'])"
   ]
  },
  {
   "cell_type": "code",
   "execution_count": 41,
   "id": "7553d3f2",
   "metadata": {},
   "outputs": [
    {
     "name": "stdout",
     "output_type": "stream",
     "text": [
      "Model: \"sequential_1\"\n",
      "_________________________________________________________________\n",
      " Layer (type)                Output Shape              Param #   \n",
      "=================================================================\n",
      " dense_5 (Dense)             (None, 18)                108       \n",
      "                                                                 \n",
      " dense_6 (Dense)             (None, 32)                608       \n",
      "                                                                 \n",
      " dense_7 (Dense)             (None, 64)                2112      \n",
      "                                                                 \n",
      " dense_8 (Dense)             (None, 32)                2080      \n",
      "                                                                 \n",
      " dense_9 (Dense)             (None, 5)                 165       \n",
      "                                                                 \n",
      "=================================================================\n",
      "Total params: 5,073\n",
      "Trainable params: 5,073\n",
      "Non-trainable params: 0\n",
      "_________________________________________________________________\n"
     ]
    }
   ],
   "source": [
    "model2.summary()"
   ]
  },
  {
   "cell_type": "code",
   "execution_count": 42,
   "id": "c27a4423",
   "metadata": {},
   "outputs": [
    {
     "name": "stdout",
     "output_type": "stream",
     "text": [
      "Epoch 1/10\n",
      "32/32 [==============================] - 1s 6ms/step - loss: 1.3528 - accuracy: 0.5500 - val_loss: 1.2325 - val_accuracy: 0.6000\n",
      "Epoch 2/10\n",
      "32/32 [==============================] - 0s 1ms/step - loss: 1.0242 - accuracy: 0.6250 - val_loss: 1.0094 - val_accuracy: 0.5750\n",
      "Epoch 3/10\n",
      "32/32 [==============================] - 0s 1ms/step - loss: 0.7657 - accuracy: 0.6625 - val_loss: 0.8238 - val_accuracy: 0.6250\n",
      "Epoch 4/10\n",
      "32/32 [==============================] - 0s 1ms/step - loss: 0.5798 - accuracy: 0.7812 - val_loss: 0.6800 - val_accuracy: 0.6500\n",
      "Epoch 5/10\n",
      "32/32 [==============================] - 0s 1ms/step - loss: 0.4568 - accuracy: 0.8438 - val_loss: 0.5882 - val_accuracy: 0.7500\n",
      "Epoch 6/10\n",
      "32/32 [==============================] - 0s 2ms/step - loss: 0.3521 - accuracy: 0.8750 - val_loss: 0.5143 - val_accuracy: 0.7750\n",
      "Epoch 7/10\n",
      "32/32 [==============================] - 0s 2ms/step - loss: 0.2776 - accuracy: 0.9125 - val_loss: 0.5369 - val_accuracy: 0.7750\n",
      "Epoch 8/10\n",
      "32/32 [==============================] - 0s 1ms/step - loss: 0.2260 - accuracy: 0.9500 - val_loss: 0.3831 - val_accuracy: 0.8500\n",
      "Epoch 9/10\n",
      "32/32 [==============================] - 0s 1ms/step - loss: 0.1718 - accuracy: 0.9688 - val_loss: 0.3080 - val_accuracy: 0.8750\n",
      "Epoch 10/10\n",
      "32/32 [==============================] - 0s 1ms/step - loss: 0.1207 - accuracy: 0.9812 - val_loss: 0.2990 - val_accuracy: 0.8750\n"
     ]
    },
    {
     "data": {
      "text/plain": [
       "<keras.callbacks.History at 0x175a4277ed0>"
      ]
     },
     "execution_count": 42,
     "metadata": {},
     "output_type": "execute_result"
    }
   ],
   "source": [
    "# Fitting model (training model)\n",
    "\n",
    "model2.fit(xtrain2,ytrain2,epochs=10,batch_size=5,validation_data=(xtest2,ytest2))"
   ]
  },
  {
   "cell_type": "code",
   "execution_count": 43,
   "id": "916073e4",
   "metadata": {},
   "outputs": [
    {
     "name": "stdout",
     "output_type": "stream",
     "text": [
      "2/2 [==============================] - 0s 16ms/step\n"
     ]
    }
   ],
   "source": [
    "ypred2 = model.predict(xtest2)"
   ]
  },
  {
   "cell_type": "code",
   "execution_count": 44,
   "id": "7d2f506e",
   "metadata": {},
   "outputs": [
    {
     "name": "stdout",
     "output_type": "stream",
     "text": [
      "2/2 [==============================] - 0s 13ms/step - loss: 0.2990 - accuracy: 0.8750\n"
     ]
    }
   ],
   "source": [
    "test_lost2, test_acc2 = model2.evaluate(xtest2, ytest2)"
   ]
  },
  {
   "cell_type": "code",
   "execution_count": 45,
   "id": "469e571c",
   "metadata": {},
   "outputs": [
    {
     "name": "stdout",
     "output_type": "stream",
     "text": [
      "1/1 [==============================] - 0s 13ms/step\n",
      "Predicted class: drugX\n"
     ]
    }
   ],
   "source": [
    "random_data = np.array([[28.,0.,2.,0.,7.798]])  # Example random data\n",
    "random_data_scaled = scaler.transform(random_data)\n",
    "prediction = model.predict(random_data_scaled)\n",
    "predicted_class_index = np.argmax(prediction)\n",
    "predicted_class = le.inverse_transform([predicted_class_index])\n",
    "\n",
    "print('Predicted class:', predicted_class[0])"
   ]
  },
  {
   "cell_type": "code",
   "execution_count": 46,
   "id": "2f864739",
   "metadata": {},
   "outputs": [
    {
     "name": "stdout",
     "output_type": "stream",
     "text": [
      "1/1 [==============================] - 0s 13ms/step\n",
      "Predicted class: DrugY\n"
     ]
    }
   ],
   "source": [
    "random_data = np.array([[61.,  0.,  1.,  0., 18.043]])  # Example random data\n",
    "random_data_scaled = scaler.transform(random_data)\n",
    "prediction = model.predict(random_data_scaled)\n",
    "predicted_class_index = np.argmax(prediction)\n",
    "predicted_class = le.inverse_transform([predicted_class_index])\n",
    "\n",
    "print('Predicted class:', predicted_class[0])"
   ]
  },
  {
   "cell_type": "code",
   "execution_count": null,
   "id": "93fcfa25",
   "metadata": {},
   "outputs": [],
   "source": []
  }
 ],
 "metadata": {
  "kernelspec": {
   "display_name": "Python 3 (ipykernel)",
   "language": "python",
   "name": "python3"
  },
  "language_info": {
   "codemirror_mode": {
    "name": "ipython",
    "version": 3
   },
   "file_extension": ".py",
   "mimetype": "text/x-python",
   "name": "python",
   "nbconvert_exporter": "python",
   "pygments_lexer": "ipython3",
   "version": "3.11.0"
  }
 },
 "nbformat": 4,
 "nbformat_minor": 5
}
