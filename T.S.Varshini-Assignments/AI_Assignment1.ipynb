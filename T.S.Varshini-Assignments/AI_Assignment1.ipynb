{
 "cells": [
  {
   "attachments": {},
   "cell_type": "markdown",
   "id": "4e8610c0",
   "metadata": {},
   "source": [
    "T.S.Varshini : VIT Chennai (20BRS1125) : varshini.ts2020@vitstudent.ac.in : 9003064047"
   ]
  },
  {
   "cell_type": "code",
   "execution_count": 4,
   "id": "e1a334d6",
   "metadata": {},
   "outputs": [],
   "source": [
    "import numpy as np\n",
    "import pandas as pd"
   ]
  },
  {
   "attachments": {},
   "cell_type": "markdown",
   "id": "fa4227c4",
   "metadata": {},
   "source": [
    "Task - 1 Create a pandas dataframe (DataFrame name as 'df') with numpy random values (4 features and 4 observation)"
   ]
  },
  {
   "cell_type": "code",
   "execution_count": 5,
   "id": "5211bc74",
   "metadata": {},
   "outputs": [],
   "source": [
    "feature1 = pd.Series(np.random.rand(4))\n",
    "feature2 = pd.Series(np.random.rand(4))\n",
    "feature3 = pd.Series(np.random.rand(4))\n",
    "feature4 = pd.Series(np.random.rand(4))"
   ]
  },
  {
   "cell_type": "code",
   "execution_count": 6,
   "id": "73e95612",
   "metadata": {},
   "outputs": [
    {
     "data": {
      "text/html": [
       "<div>\n",
       "<style scoped>\n",
       "    .dataframe tbody tr th:only-of-type {\n",
       "        vertical-align: middle;\n",
       "    }\n",
       "\n",
       "    .dataframe tbody tr th {\n",
       "        vertical-align: top;\n",
       "    }\n",
       "\n",
       "    .dataframe thead th {\n",
       "        text-align: right;\n",
       "    }\n",
       "</style>\n",
       "<table border=\"1\" class=\"dataframe\">\n",
       "  <thead>\n",
       "    <tr style=\"text-align: right;\">\n",
       "      <th></th>\n",
       "      <th>0</th>\n",
       "      <th>1</th>\n",
       "      <th>2</th>\n",
       "      <th>3</th>\n",
       "    </tr>\n",
       "  </thead>\n",
       "  <tbody>\n",
       "    <tr>\n",
       "      <th>0</th>\n",
       "      <td>0.588974</td>\n",
       "      <td>0.360100</td>\n",
       "      <td>0.944188</td>\n",
       "      <td>0.535539</td>\n",
       "    </tr>\n",
       "    <tr>\n",
       "      <th>1</th>\n",
       "      <td>0.683875</td>\n",
       "      <td>0.008692</td>\n",
       "      <td>0.026637</td>\n",
       "      <td>0.047803</td>\n",
       "    </tr>\n",
       "    <tr>\n",
       "      <th>2</th>\n",
       "      <td>0.499866</td>\n",
       "      <td>0.653369</td>\n",
       "      <td>0.183604</td>\n",
       "      <td>0.535532</td>\n",
       "    </tr>\n",
       "    <tr>\n",
       "      <th>3</th>\n",
       "      <td>0.380419</td>\n",
       "      <td>0.723958</td>\n",
       "      <td>0.686747</td>\n",
       "      <td>0.987455</td>\n",
       "    </tr>\n",
       "  </tbody>\n",
       "</table>\n",
       "</div>"
      ],
      "text/plain": [
       "          0         1         2         3\n",
       "0  0.588974  0.360100  0.944188  0.535539\n",
       "1  0.683875  0.008692  0.026637  0.047803\n",
       "2  0.499866  0.653369  0.183604  0.535532\n",
       "3  0.380419  0.723958  0.686747  0.987455"
      ]
     },
     "execution_count": 6,
     "metadata": {},
     "output_type": "execute_result"
    }
   ],
   "source": [
    "df = pd.DataFrame([feature1,feature2,feature3,feature4])\n",
    "df = df.T\n",
    "df"
   ]
  },
  {
   "attachments": {},
   "cell_type": "markdown",
   "id": "57c879cb",
   "metadata": {},
   "source": [
    "Task - 2 Rename the task - 1 'df' dataframe column names to 'Random value 1', 'Random value 2', 'Random value 3' & 'Random value 4'"
   ]
  },
  {
   "cell_type": "code",
   "execution_count": 7,
   "id": "9962fbf8",
   "metadata": {},
   "outputs": [],
   "source": [
    "df.columns = ['Random value 1','Random value 2','Random value 3','Random value 4']"
   ]
  },
  {
   "cell_type": "code",
   "execution_count": 8,
   "id": "6105f6ca",
   "metadata": {},
   "outputs": [
    {
     "data": {
      "text/html": [
       "<div>\n",
       "<style scoped>\n",
       "    .dataframe tbody tr th:only-of-type {\n",
       "        vertical-align: middle;\n",
       "    }\n",
       "\n",
       "    .dataframe tbody tr th {\n",
       "        vertical-align: top;\n",
       "    }\n",
       "\n",
       "    .dataframe thead th {\n",
       "        text-align: right;\n",
       "    }\n",
       "</style>\n",
       "<table border=\"1\" class=\"dataframe\">\n",
       "  <thead>\n",
       "    <tr style=\"text-align: right;\">\n",
       "      <th></th>\n",
       "      <th>Random value 1</th>\n",
       "      <th>Random value 2</th>\n",
       "      <th>Random value 3</th>\n",
       "      <th>Random value 4</th>\n",
       "    </tr>\n",
       "  </thead>\n",
       "  <tbody>\n",
       "    <tr>\n",
       "      <th>0</th>\n",
       "      <td>0.588974</td>\n",
       "      <td>0.360100</td>\n",
       "      <td>0.944188</td>\n",
       "      <td>0.535539</td>\n",
       "    </tr>\n",
       "    <tr>\n",
       "      <th>1</th>\n",
       "      <td>0.683875</td>\n",
       "      <td>0.008692</td>\n",
       "      <td>0.026637</td>\n",
       "      <td>0.047803</td>\n",
       "    </tr>\n",
       "    <tr>\n",
       "      <th>2</th>\n",
       "      <td>0.499866</td>\n",
       "      <td>0.653369</td>\n",
       "      <td>0.183604</td>\n",
       "      <td>0.535532</td>\n",
       "    </tr>\n",
       "    <tr>\n",
       "      <th>3</th>\n",
       "      <td>0.380419</td>\n",
       "      <td>0.723958</td>\n",
       "      <td>0.686747</td>\n",
       "      <td>0.987455</td>\n",
       "    </tr>\n",
       "  </tbody>\n",
       "</table>\n",
       "</div>"
      ],
      "text/plain": [
       "   Random value 1  Random value 2  Random value 3  Random value 4\n",
       "0        0.588974        0.360100        0.944188        0.535539\n",
       "1        0.683875        0.008692        0.026637        0.047803\n",
       "2        0.499866        0.653369        0.183604        0.535532\n",
       "3        0.380419        0.723958        0.686747        0.987455"
      ]
     },
     "execution_count": 8,
     "metadata": {},
     "output_type": "execute_result"
    }
   ],
   "source": [
    "df"
   ]
  },
  {
   "attachments": {},
   "cell_type": "markdown",
   "id": "7083dc87",
   "metadata": {},
   "source": [
    "Task - 3 Find the descriptive statistics of the 'df' dataframe."
   ]
  },
  {
   "cell_type": "code",
   "execution_count": 9,
   "id": "c64887d4",
   "metadata": {},
   "outputs": [
    {
     "data": {
      "text/html": [
       "<div>\n",
       "<style scoped>\n",
       "    .dataframe tbody tr th:only-of-type {\n",
       "        vertical-align: middle;\n",
       "    }\n",
       "\n",
       "    .dataframe tbody tr th {\n",
       "        vertical-align: top;\n",
       "    }\n",
       "\n",
       "    .dataframe thead th {\n",
       "        text-align: right;\n",
       "    }\n",
       "</style>\n",
       "<table border=\"1\" class=\"dataframe\">\n",
       "  <thead>\n",
       "    <tr style=\"text-align: right;\">\n",
       "      <th></th>\n",
       "      <th>Random value 1</th>\n",
       "      <th>Random value 2</th>\n",
       "      <th>Random value 3</th>\n",
       "      <th>Random value 4</th>\n",
       "    </tr>\n",
       "  </thead>\n",
       "  <tbody>\n",
       "    <tr>\n",
       "      <th>count</th>\n",
       "      <td>4.000000</td>\n",
       "      <td>4.000000</td>\n",
       "      <td>4.000000</td>\n",
       "      <td>4.000000</td>\n",
       "    </tr>\n",
       "    <tr>\n",
       "      <th>mean</th>\n",
       "      <td>0.538284</td>\n",
       "      <td>0.436530</td>\n",
       "      <td>0.460294</td>\n",
       "      <td>0.526582</td>\n",
       "    </tr>\n",
       "    <tr>\n",
       "      <th>std</th>\n",
       "      <td>0.129310</td>\n",
       "      <td>0.325843</td>\n",
       "      <td>0.428194</td>\n",
       "      <td>0.383751</td>\n",
       "    </tr>\n",
       "    <tr>\n",
       "      <th>min</th>\n",
       "      <td>0.380419</td>\n",
       "      <td>0.008692</td>\n",
       "      <td>0.026637</td>\n",
       "      <td>0.047803</td>\n",
       "    </tr>\n",
       "    <tr>\n",
       "      <th>25%</th>\n",
       "      <td>0.470004</td>\n",
       "      <td>0.272248</td>\n",
       "      <td>0.144362</td>\n",
       "      <td>0.413600</td>\n",
       "    </tr>\n",
       "    <tr>\n",
       "      <th>50%</th>\n",
       "      <td>0.544420</td>\n",
       "      <td>0.506735</td>\n",
       "      <td>0.435176</td>\n",
       "      <td>0.535536</td>\n",
       "    </tr>\n",
       "    <tr>\n",
       "      <th>75%</th>\n",
       "      <td>0.612699</td>\n",
       "      <td>0.671016</td>\n",
       "      <td>0.751108</td>\n",
       "      <td>0.648518</td>\n",
       "    </tr>\n",
       "    <tr>\n",
       "      <th>max</th>\n",
       "      <td>0.683875</td>\n",
       "      <td>0.723958</td>\n",
       "      <td>0.944188</td>\n",
       "      <td>0.987455</td>\n",
       "    </tr>\n",
       "  </tbody>\n",
       "</table>\n",
       "</div>"
      ],
      "text/plain": [
       "       Random value 1  Random value 2  Random value 3  Random value 4\n",
       "count        4.000000        4.000000        4.000000        4.000000\n",
       "mean         0.538284        0.436530        0.460294        0.526582\n",
       "std          0.129310        0.325843        0.428194        0.383751\n",
       "min          0.380419        0.008692        0.026637        0.047803\n",
       "25%          0.470004        0.272248        0.144362        0.413600\n",
       "50%          0.544420        0.506735        0.435176        0.535536\n",
       "75%          0.612699        0.671016        0.751108        0.648518\n",
       "max          0.683875        0.723958        0.944188        0.987455"
      ]
     },
     "execution_count": 9,
     "metadata": {},
     "output_type": "execute_result"
    }
   ],
   "source": [
    "df.describe()"
   ]
  },
  {
   "attachments": {},
   "cell_type": "markdown",
   "id": "b4821b17",
   "metadata": {},
   "source": [
    "Task - 4 Check for the null values in 'df' and find the data type of the columns."
   ]
  },
  {
   "cell_type": "code",
   "execution_count": 10,
   "id": "25fbd2f1",
   "metadata": {},
   "outputs": [
    {
     "data": {
      "text/plain": [
       "Random value 1    0\n",
       "Random value 2    0\n",
       "Random value 3    0\n",
       "Random value 4    0\n",
       "dtype: int64"
      ]
     },
     "execution_count": 10,
     "metadata": {},
     "output_type": "execute_result"
    }
   ],
   "source": [
    "df.isnull().sum()"
   ]
  },
  {
   "attachments": {},
   "cell_type": "markdown",
   "id": "fce0c3a5",
   "metadata": {},
   "source": [
    "Task - 5 Display the 'Random value 2' & 'Random value 3' columns with location method and index location method."
   ]
  },
  {
   "cell_type": "code",
   "execution_count": 12,
   "id": "46a62347",
   "metadata": {},
   "outputs": [
    {
     "data": {
      "text/html": [
       "<div>\n",
       "<style scoped>\n",
       "    .dataframe tbody tr th:only-of-type {\n",
       "        vertical-align: middle;\n",
       "    }\n",
       "\n",
       "    .dataframe tbody tr th {\n",
       "        vertical-align: top;\n",
       "    }\n",
       "\n",
       "    .dataframe thead th {\n",
       "        text-align: right;\n",
       "    }\n",
       "</style>\n",
       "<table border=\"1\" class=\"dataframe\">\n",
       "  <thead>\n",
       "    <tr style=\"text-align: right;\">\n",
       "      <th></th>\n",
       "      <th>Random value 2</th>\n",
       "      <th>Random value 3</th>\n",
       "    </tr>\n",
       "  </thead>\n",
       "  <tbody>\n",
       "    <tr>\n",
       "      <th>0</th>\n",
       "      <td>0.360100</td>\n",
       "      <td>0.944188</td>\n",
       "    </tr>\n",
       "    <tr>\n",
       "      <th>1</th>\n",
       "      <td>0.008692</td>\n",
       "      <td>0.026637</td>\n",
       "    </tr>\n",
       "    <tr>\n",
       "      <th>2</th>\n",
       "      <td>0.653369</td>\n",
       "      <td>0.183604</td>\n",
       "    </tr>\n",
       "    <tr>\n",
       "      <th>3</th>\n",
       "      <td>0.723958</td>\n",
       "      <td>0.686747</td>\n",
       "    </tr>\n",
       "  </tbody>\n",
       "</table>\n",
       "</div>"
      ],
      "text/plain": [
       "   Random value 2  Random value 3\n",
       "0        0.360100        0.944188\n",
       "1        0.008692        0.026637\n",
       "2        0.653369        0.183604\n",
       "3        0.723958        0.686747"
      ]
     },
     "execution_count": 12,
     "metadata": {},
     "output_type": "execute_result"
    }
   ],
   "source": [
    "#Using Location method\n",
    "df.loc[0:,'Random value 2':'Random value 3']"
   ]
  },
  {
   "cell_type": "code",
   "execution_count": 13,
   "id": "b955421e",
   "metadata": {},
   "outputs": [
    {
     "data": {
      "text/html": [
       "<div>\n",
       "<style scoped>\n",
       "    .dataframe tbody tr th:only-of-type {\n",
       "        vertical-align: middle;\n",
       "    }\n",
       "\n",
       "    .dataframe tbody tr th {\n",
       "        vertical-align: top;\n",
       "    }\n",
       "\n",
       "    .dataframe thead th {\n",
       "        text-align: right;\n",
       "    }\n",
       "</style>\n",
       "<table border=\"1\" class=\"dataframe\">\n",
       "  <thead>\n",
       "    <tr style=\"text-align: right;\">\n",
       "      <th></th>\n",
       "      <th>Random value 2</th>\n",
       "      <th>Random value 3</th>\n",
       "    </tr>\n",
       "  </thead>\n",
       "  <tbody>\n",
       "    <tr>\n",
       "      <th>0</th>\n",
       "      <td>0.360100</td>\n",
       "      <td>0.944188</td>\n",
       "    </tr>\n",
       "    <tr>\n",
       "      <th>1</th>\n",
       "      <td>0.008692</td>\n",
       "      <td>0.026637</td>\n",
       "    </tr>\n",
       "    <tr>\n",
       "      <th>2</th>\n",
       "      <td>0.653369</td>\n",
       "      <td>0.183604</td>\n",
       "    </tr>\n",
       "    <tr>\n",
       "      <th>3</th>\n",
       "      <td>0.723958</td>\n",
       "      <td>0.686747</td>\n",
       "    </tr>\n",
       "  </tbody>\n",
       "</table>\n",
       "</div>"
      ],
      "text/plain": [
       "   Random value 2  Random value 3\n",
       "0        0.360100        0.944188\n",
       "1        0.008692        0.026637\n",
       "2        0.653369        0.183604\n",
       "3        0.723958        0.686747"
      ]
     },
     "execution_count": 13,
     "metadata": {},
     "output_type": "execute_result"
    }
   ],
   "source": [
    "#Using Index Location method\n",
    "df.iloc[0:,1:3]"
   ]
  }
 ],
 "metadata": {
  "kernelspec": {
   "display_name": "Python 3 (ipykernel)",
   "language": "python",
   "name": "python3"
  },
  "language_info": {
   "codemirror_mode": {
    "name": "ipython",
    "version": 3
   },
   "file_extension": ".py",
   "mimetype": "text/x-python",
   "name": "python",
   "nbconvert_exporter": "python",
   "pygments_lexer": "ipython3",
   "version": "3.11.0"
  }
 },
 "nbformat": 4,
 "nbformat_minor": 5
}
